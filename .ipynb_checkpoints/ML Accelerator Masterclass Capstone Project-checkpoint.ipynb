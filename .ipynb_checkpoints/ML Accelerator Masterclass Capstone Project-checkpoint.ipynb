{
 "cells": [
  {
   "cell_type": "markdown",
   "metadata": {},
   "source": [
    "# Classification Model for Preventative Maintenance Prediction\n",
    "* Capstone Project: Machine Learning Accelerator Masterclass - https://pro.elitedatascience.com/accelerator\n",
    "* Author: Ben Sokolow \n",
    "* Date: 2022-03-02\n",
    "* Last Edit Date: 2022-03-03\n"
   ]
  },
  {
   "cell_type": "markdown",
   "metadata": {},
   "source": [
    "## <a id=\"toc\">Table of Contents</a>\n",
    "* [1.0 Introduction](#intro)\n",
    " * [1.1 Methods and Findings](#methods)\n",
    " * [1.2 Project Specifics](#projspecs)\n",
    " * [1.3 Data Source](#datasource)\n",
    " * [1.4 Dataset Description](#datasetdesc)\n",
    " * [1.5 Dataset Features/Attributes](#datasetfeat)\n",
    "* [2.0 Library Imports](#imports)\n",
    "* [3.0 Exploratory Analysis](#eda)\n",
    " * [3.1 Dataset Statistics](#datasetstats)\n",
    " * [3.2 Distributions of Numeric and Categorical Features](#distfeat)\n",
    " * [3.3 Segmentation](#segmentation)\n",
    " * [3.4 Correlations](#correlations)\n",
    " * [3.5 Additional Exploratory Questions](#addquest)\n",
    " * [3.6 Exploratory Analysis Summary](#edasum)\n",
    "* [4.0 Data Cleaning](#clean)\n",
    "* [5.0 Feature Engineering](#featureeng)\n",
    " * [5.1 Create and Add New Features](#addfeature)\n",
    " * [5.2 Analytical Base Table Construction](#abt)\n",
    "* [6.0 Algorithm Selection, Model Training and Tuning](#algo)\n",
    " * [6.1 Split the data into training and test sets](#datasplit)\n",
    " * [6.2 Build a model pipeline dictionary with pipelines for each algorithm](#pipelinedict)\n",
    " * [6.3 Create hyperparameter grids for each algorithm](#grids)\n",
    " * [6.4 Fit and tune the models using cross-validation](#fittune)\n",
    " * [6.5 Evaluate the models based on various scoring criteria](#eval)\n",
    " * [6.6 Alternative Use Case Evaluation](#alternative)\n",
    "* [7.0 Insights and Analysis](#insights)\n",
    " * [7.1 Key Findings](#findings)\n",
    " * [7.2 Business Cost Modeling](#modeling)\n",
    " * [7.3 Summary and Recommended Next Steps](#nextsteps)\n",
    "* [8.0 Acknowledgements/References](#references)"
   ]
  },
  {
   "cell_type": "markdown",
   "metadata": {},
   "source": [
    "[Return to Top](#toc)"
   ]
  },
  {
   "cell_type": "markdown",
   "metadata": {},
   "source": [
    "## <a id=\"intro\"><span style=\"color:Black\">1.0 Introduction</span></a>"
   ]
  },
  {
   "cell_type": "markdown",
   "metadata": {},
   "source": [
    "Manufacturing is a sensor rich, and thus data rich, business. Data is collected on multiple aspects of most manufacturing processes - this includes the processing equipment as well as the items subject to the process. Unplanned stops to the manufacturing line due to process and equipment failures result in increased cost and lost revenue to the business.\n",
    "\n",
    "If one were able to determine the operational conditions under which process failures occurred, down times could be scheduled and planned for to perform preventative maintenance, such as parts replacement or machine adjustment. Proactive measures such as this could minimize both the number and impact of unexpected/unplanned process delays, along with unnecessary machine replacement and product waste.\n",
    "\n",
    "In this project, we used a [labeled predictive maintenance dataset](https://archive.ics.uci.edu/ml/datasets/AI4I+2020+Predictive+Maintenance+Dataset \"UCI Machine Learning Repository - AI4I Predictive Maintenance Dataset\") obtained from the UCI Machine Learning Repository to develop a classification model that predicts if a machine in the representative process has failed. Knowledge of machines failure/non-failure allows alerts the process owners to the need for a preventative maintenance event to minimize unexpected and unplanned process shut downs.\n",
    "\n",
    "If the model determines that thresholds or ranges are being approached or exceeded that would lead to machine failure...\n",
    "* The process can be shut down proactively - like a circuit breaker - to avert possible machine breakage\n",
    "* Process down time can be scheduled to perform preventative maintenance\n",
    "\n",
    "The synthetic dataset reflects real preventative maintenance data encountered in industry. Please see the [Dataset Decription](#datasetdesc) and [Dataset Features/Attributes](#datasetfeat) sections for additional information."
   ]
  },
  {
   "cell_type": "markdown",
   "metadata": {},
   "source": [
    "[Return to Top](#toc)"
   ]
  },
  {
   "cell_type": "markdown",
   "metadata": {},
   "source": [
    "### <a id=\"methods\"><span style=\"color:Black\">1.1 Methods and Findings</span></a>\n",
    "\n",
    "Exploratory analysis was performed on the dataset. Basic statistics, quality measures, distributions and feature relationships were generated and investigated, followed by data cleansing and feature engineering to produce an analytical base table. This table was used for subsequent model training.\n",
    "\n",
    "The following classification algorithms were evaluated:\n",
    "* Logistic Regression ($L_1$ and $L_2$ Regularization)\n",
    "* Random Forest\n",
    "* Gradient Boosted Trees\n",
    "\n",
    "Despite an imbalanced dataset, with machine failures occurring in less than 4% observations, an ML (machine learning) model was developed that exhibited high performance with minimal tuning. Given its robustness with imbalanced classes, the gradient boosted tree algorithm produced the best results of all the models on most measures, exhibiting the following prediction metrics on the test dataset:\n",
    "\n",
    " * **Accuracy: 0.986 (training and test data)**\n",
    " * **True Positive Rate (TPR): 0.721**\n",
    " * **False Positive Rate (FPR): 0.005**\n",
    " * **Positive Predictive Value (PPV): 0.845**\n",
    " * **Negative Predictive Value (NPV): 0.99**\n",
    " * **AUC Score: 0.965**\n",
    "\n",
    "With an AUC (Area under the ROC Curve) score of 0.965, the gradient boosted tree model has a 96.5% chance of distinguishing between a positive class observation and a negative class observation - a very good result.\n",
    "\n",
    "One of the features available in the dataset was product type, which served as a proxy for product quality. Surprisingly, omitting this feature from model training had minimal impact of the metrics, still producing results that surpassed those of the logistic regression and random forest models that included the feature. This speaks to the robustness of the gradient boosted tree algorithm for this application. \n",
    "\n",
    "A simple costing model with relevant assumptions was developed that compared projected maintenance costs with and without use of the ML model. Given the costing model assumptions, using the ML model produced a 64% potential savings over baseline. However, actual predictive maintenance savings and process revenue improvement would be dependent on obtaining additional data on existing business processes and implementation costs required to develop a more representative costing model/framework."
   ]
  },
  {
   "cell_type": "markdown",
   "metadata": {},
   "source": [
    "[Return to Top](#toc)"
   ]
  },
  {
   "cell_type": "markdown",
   "metadata": {},
   "source": [
    "### <a id=\"projspecs\"><span style=\"color:Black\">1.2 Project Specifics</span></a>\n",
    "* Deliverable: **Trained Model File**\n",
    "* Machine Learning Task: **Classification**\n",
    "* Target Variable: **Machine Failure Status (Not failed/Failed)**\n",
    "* Input Features: **See [Dataset Features/Attributes](#datasetfeat), [Data Dictionary - Predictive Maintenance Dataset.pdf](https://github.com/bensokolow/capstone-classifier-prev-maint/blob/main/Data%20Dictionary%20-%20Predictive%20Maintenance%20Dataset.pdf)**\n",
    "* Win Condition: **N/A (Best Possible Model with minimal tuning)**\n",
    "* Data Source:\n",
    " * Website: https://archive.ics.uci.edu/ml/datasets/AI4I+2020+Predictive+Maintenance+Dataset\n",
    " * Data file: https://archive.ics.uci.edu/ml/machine-learning-databases/00601/ai4i2020.csv"
   ]
  },
  {
   "cell_type": "markdown",
   "metadata": {},
   "source": [
    "[Return to Top](#toc)"
   ]
  },
  {
   "cell_type": "markdown",
   "metadata": {},
   "source": [
    "### <a id=\"datasource\"><span style=\"color:Black\">1.3 Data Source</span></a>\n",
    "https://archive.ics.uci.edu/ml/datasets/AI4I+2020+Predictive+Maintenance+Dataset\n",
    "\n",
    "https://archive.ics.uci.edu/ml/machine-learning-databases/00601/ai4i2020.csv"
   ]
  },
  {
   "cell_type": "markdown",
   "metadata": {},
   "source": [
    "### <a id=\"datasetdesc\"><span style=\"color:Black\">1.4 Dataset Description</span></a>\n",
    "\n",
    "**NOTE:** Please refer to the [Data Dictionary file](https://github.com/bensokolow/capstone-classifier-prev-maint/blob/main/Data%20Dictionary%20-%20Predictive%20Maintenance%20Dataset.pdf) for further detail\n",
    "\n",
    "From the [Predictive Maintenance Dataset webpage](https://archive.ics.uci.edu/ml/datasets/AI4I+2020+Predictive+Maintenance+Dataset \"UCI Machine Learning Repository\"): \"*Since real predictive maintenance datasets are generally difficult to obtain, and in particular difficult to publish, we present and provide a synthetic dataset that reflects real predictive maintenance encountered in industry to the best of our knowledge.*\"\n",
    "\n",
    "Number of Observations: **10,000**\n",
    "\n",
    "Number of Features/Fields: **14**"
   ]
  },
  {
   "cell_type": "markdown",
   "metadata": {},
   "source": [
    "### <a id=\"datasetfeat\"><span style=\"color:Black\">1.5 Dataset Features/Attributes</span></a>\n",
    "\n",
    "##### Machine/Product Information\n",
    "- <code style=\"background:white; color:black; font-weight:bold; font-size:15px\">UDI</code> – Unique identifier ranging from 1 to 10,000. Serves as a serial number.\n",
    "- <code style=\"background:white; color:black; font-weight:bold; font-size:15px\">Product ID</code> – Identifier consisting of the concatenation of the Type and a variant-specific serial number.\n",
    "- <code style=\"background:white; color:black; font-weight:bold; font-size:15px\">Type</code> – Classification of product quality variants. Labeled as low (L), medium (M), or high (H).\n",
    "\n",
    "##### Process Information\n",
    "- <code style=\"background:white; color:black; font-weight:bold; font-size:15px\">Air temperature [K]</code> – Air temperature in degrees Kelvin.\n",
    "- <code style=\"background:white; color:black; font-weight:bold; font-size:15px\">Process temperature [K]</code> – Process temperature in degrees Kelvin.\n",
    "- <code style=\"background:white; color:black; font-weight:bold; font-size:15px\">Rotational speed [rpm]</code>- Revolutions per minute.\n",
    "- <code style=\"background:white; color:black; font-weight:bold; font-size:15px\">Torque [Nm]</code>- Torque measured in newton-meters.\n",
    "- <code style=\"background:white; color:black; font-weight:bold; font-size:15px\">Tool wear [min]</code>- Tool wear in minutes.\n",
    "\n",
    "##### Target Variable\n",
    "- <code style=\"background:white; color:black; font-weight:bold; font-size:15px\">Machine failure</code> – Machine failure status (0 = Not failed, 1 = Failed). This label is set to 1 if any of the Failure Modes (TWF, HDF, PWF OSF, RNF) described in the Failure Mode section below are true. Thus, in the case of more than 1 failure mode, it is not apparent which of the failure modes has caused the process to fail.\n",
    "\n",
    "##### Failure Mode Information\n",
    "\n",
    "The machine failure consists of five independent failure modes:\n",
    "- <code style=\"background:white; color:black; font-weight:bold; font-size:15px\">TWF</code> – Tool wear failure (0/1). The tool will be replaced or fail at a randomly selected tool wear time between 200 - 240 mins.\n",
    "*At this point in time, the tool is replaced 69 times, and fails 51 times (randomly assigned).*\n",
    "- <code style=\"background:white; color:black; font-weight:bold; font-size:15px\">HDF</code> – Heat dissipation failure (0/1). Heat dissipation causes a process failure, if the difference between air- and process temperature is below 8.6 K and the tool’s rotational speed is below 1380 rpm.\n",
    "- <code style=\"background:white; color:black; font-weight:bold; font-size:15px\">PWF</code> – Power failure (0/1). The product of torque and rotational speed (in rad/s) equals the power required for the process. If this power is below 3500 W or above 9000 W, the process fails.\n",
    "- <code style=\"background:white; color:black; font-weight:bold; font-size:15px\">OSF</code> – Overstrain failure (0/1). If the product of tool wear and torque exceeds 11,000 min-Nm for the L product variant (M: 12,000 min-Nm, H: 13,000 min-Nm), the process fails due to overstrain.\n",
    "- <code style=\"background:white; color:black; font-weight:bold; font-size:15px\">RNF</code> – Random failures (0/1). Each process has a chance of 0.1 % to fail regardless of its process parameters."
   ]
  },
  {
   "cell_type": "markdown",
   "metadata": {},
   "source": [
    "**NOTE: For this project, the Failure Mode attributes will not be included in the model, since the goal of the model is to predict failure given the product and process information only.** \n",
    "\n",
    "The Failure modes are included for dataset completeness - they will be dropped from the dataset prior to model training."
   ]
  },
  {
   "cell_type": "markdown",
   "metadata": {},
   "source": [
    "[Return to Top](#toc)"
   ]
  },
  {
   "cell_type": "markdown",
   "metadata": {},
   "source": [
    "##  <a id=\"imports\"><span style=\"color:Black\">2.0 Library Imports</span></a>"
   ]
  },
  {
   "cell_type": "markdown",
   "metadata": {},
   "source": [
    "  \n",
    "#### Import needed libraries, including those required for classification."
   ]
  },
  {
   "cell_type": "code",
   "execution_count": 1,
   "metadata": {},
   "outputs": [],
   "source": [
    "# System-specific parameters and functions\n",
    "import sys\n",
    "\n",
    "# NumPy for numerical computing\n",
    "import numpy as np\n",
    "\n",
    "# Pandas for DataFrames\n",
    "import pandas as pd\n",
    "pd.set_option('display.max_columns', 100)\n",
    "\n",
    "# Matplotlib for visualization\n",
    "from matplotlib import pyplot as plt\n",
    "%matplotlib inline\n",
    "\n",
    "# Seaborn for easier visualization\n",
    "import seaborn as sns\n",
    "sns.set_style('darkgrid')\n",
    "\n",
    "# Math functions\n",
    "from math import floor, ceil\n",
    "\n",
    "# Pickle for saving model files\n",
    "import pickle as pkl\n",
    "\n",
    "# Import the set_config parameter to allow arguments to be displayed as the default\n",
    "from sklearn import set_config\n",
    "set_config(print_changed_only=False)\n",
    "\n",
    "# Import Logistic Regression\n",
    "from sklearn.linear_model import LogisticRegression\n",
    "\n",
    "# Import RandomForestClassifier and GradientBoostingClassifer\n",
    "from sklearn.ensemble import RandomForestClassifier, GradientBoostingClassifier\n",
    "\n",
    "# Function for splitting training and test set\n",
    "from sklearn.model_selection import train_test_split\n",
    "\n",
    "# Function for creating model pipelines\n",
    "from sklearn.pipeline import make_pipeline\n",
    "\n",
    "# StandardScaler\n",
    "from sklearn.preprocessing import StandardScaler\n",
    "\n",
    "# GridSearchCV\n",
    "from sklearn.model_selection import GridSearchCV\n",
    "\n",
    "# Classification metrics\n",
    "from sklearn.metrics import roc_curve, roc_auc_score\n",
    "\n",
    "# Confusion matrix\n",
    "from sklearn.metrics import confusion_matrix\n",
    "\n",
    "# Timer functions\n",
    "from timeit import default_timer as timer\n",
    "\n",
    "# (Optional) Suppress FutureWarning\n",
    "import warnings\n",
    "from sklearn.exceptions import ConvergenceWarning\n",
    "warnings.simplefilter(action='ignore', category=ConvergenceWarning)"
   ]
  },
  {
   "cell_type": "markdown",
   "metadata": {},
   "source": [
    "Original notebook environment - Python version and library versions\n",
    "\n",
    "* Python version:                    3.8.3\n",
    "* numpy:                               1.18.5\n",
    "* pandas:                              1.0.5\n",
    "* pickleshare:                         0.7.5\n",
    "* scikit-image:                        0.16.2\n",
    "* scikit-learn:                        0.23.1\n",
    "* seaborn:                             0.10.1"
   ]
  },
  {
   "cell_type": "markdown",
   "metadata": {},
   "source": [
    "[Return to Top](#toc)"
   ]
  },
  {
   "cell_type": "markdown",
   "metadata": {},
   "source": [
    "## <a id=\"eda\"><span style=\"color:Black\">3.0 Exploratory Analysis</span></a>"
   ]
  },
  {
   "cell_type": "markdown",
   "metadata": {},
   "source": [
    "We'll start by gathering basic statistics on the dataset, performing initial data clean-up and formatting, and analyzing the data at a high level to help direct modeling activities.\n",
    "\n",
    "Our exploration will include employing distributions to visualize feature characteristics, as well as segmentation and correlation to determine relationships among features."
   ]
  },
  {
   "cell_type": "markdown",
   "metadata": {},
   "source": [
    "### <a id=\"datasetstats\"><span style=\"color:Black\">3.1 Dataset Statistics</span></a>"
   ]
  },
  {
   "cell_type": "markdown",
   "metadata": {},
   "source": [
    "#### Read in the dataset.\n",
    "* The file name is <code style=\"background:white; color:crimson; font-weight:bold; font-size:15px\">ai4i2020.csv</code>"
   ]
  },
  {
   "cell_type": "code",
   "execution_count": 2,
   "metadata": {},
   "outputs": [
    {
     "data": {
      "text/html": [
       "<div>\n",
       "<style scoped>\n",
       "    .dataframe tbody tr th:only-of-type {\n",
       "        vertical-align: middle;\n",
       "    }\n",
       "\n",
       "    .dataframe tbody tr th {\n",
       "        vertical-align: top;\n",
       "    }\n",
       "\n",
       "    .dataframe thead th {\n",
       "        text-align: right;\n",
       "    }\n",
       "</style>\n",
       "<table border=\"1\" class=\"dataframe\">\n",
       "  <thead>\n",
       "    <tr style=\"text-align: right;\">\n",
       "      <th></th>\n",
       "      <th>UDI</th>\n",
       "      <th>Product ID</th>\n",
       "      <th>Type</th>\n",
       "      <th>Air temperature [K]</th>\n",
       "      <th>Process temperature [K]</th>\n",
       "      <th>Rotational speed [rpm]</th>\n",
       "      <th>Torque [Nm]</th>\n",
       "      <th>Tool wear [min]</th>\n",
       "      <th>Machine failure</th>\n",
       "      <th>TWF</th>\n",
       "      <th>HDF</th>\n",
       "      <th>PWF</th>\n",
       "      <th>OSF</th>\n",
       "      <th>RNF</th>\n",
       "    </tr>\n",
       "  </thead>\n",
       "  <tbody>\n",
       "    <tr>\n",
       "      <th>0</th>\n",
       "      <td>1</td>\n",
       "      <td>M14860</td>\n",
       "      <td>M</td>\n",
       "      <td>298.1</td>\n",
       "      <td>308.6</td>\n",
       "      <td>1551</td>\n",
       "      <td>42.8</td>\n",
       "      <td>0</td>\n",
       "      <td>0</td>\n",
       "      <td>0</td>\n",
       "      <td>0</td>\n",
       "      <td>0</td>\n",
       "      <td>0</td>\n",
       "      <td>0</td>\n",
       "    </tr>\n",
       "    <tr>\n",
       "      <th>1</th>\n",
       "      <td>2</td>\n",
       "      <td>L47181</td>\n",
       "      <td>L</td>\n",
       "      <td>298.2</td>\n",
       "      <td>308.7</td>\n",
       "      <td>1408</td>\n",
       "      <td>46.3</td>\n",
       "      <td>3</td>\n",
       "      <td>0</td>\n",
       "      <td>0</td>\n",
       "      <td>0</td>\n",
       "      <td>0</td>\n",
       "      <td>0</td>\n",
       "      <td>0</td>\n",
       "    </tr>\n",
       "    <tr>\n",
       "      <th>2</th>\n",
       "      <td>3</td>\n",
       "      <td>L47182</td>\n",
       "      <td>L</td>\n",
       "      <td>298.1</td>\n",
       "      <td>308.5</td>\n",
       "      <td>1498</td>\n",
       "      <td>49.4</td>\n",
       "      <td>5</td>\n",
       "      <td>0</td>\n",
       "      <td>0</td>\n",
       "      <td>0</td>\n",
       "      <td>0</td>\n",
       "      <td>0</td>\n",
       "      <td>0</td>\n",
       "    </tr>\n",
       "    <tr>\n",
       "      <th>3</th>\n",
       "      <td>4</td>\n",
       "      <td>L47183</td>\n",
       "      <td>L</td>\n",
       "      <td>298.2</td>\n",
       "      <td>308.6</td>\n",
       "      <td>1433</td>\n",
       "      <td>39.5</td>\n",
       "      <td>7</td>\n",
       "      <td>0</td>\n",
       "      <td>0</td>\n",
       "      <td>0</td>\n",
       "      <td>0</td>\n",
       "      <td>0</td>\n",
       "      <td>0</td>\n",
       "    </tr>\n",
       "    <tr>\n",
       "      <th>4</th>\n",
       "      <td>5</td>\n",
       "      <td>L47184</td>\n",
       "      <td>L</td>\n",
       "      <td>298.2</td>\n",
       "      <td>308.7</td>\n",
       "      <td>1408</td>\n",
       "      <td>40.0</td>\n",
       "      <td>9</td>\n",
       "      <td>0</td>\n",
       "      <td>0</td>\n",
       "      <td>0</td>\n",
       "      <td>0</td>\n",
       "      <td>0</td>\n",
       "      <td>0</td>\n",
       "    </tr>\n",
       "    <tr>\n",
       "      <th>5</th>\n",
       "      <td>6</td>\n",
       "      <td>M14865</td>\n",
       "      <td>M</td>\n",
       "      <td>298.1</td>\n",
       "      <td>308.6</td>\n",
       "      <td>1425</td>\n",
       "      <td>41.9</td>\n",
       "      <td>11</td>\n",
       "      <td>0</td>\n",
       "      <td>0</td>\n",
       "      <td>0</td>\n",
       "      <td>0</td>\n",
       "      <td>0</td>\n",
       "      <td>0</td>\n",
       "    </tr>\n",
       "    <tr>\n",
       "      <th>6</th>\n",
       "      <td>7</td>\n",
       "      <td>L47186</td>\n",
       "      <td>L</td>\n",
       "      <td>298.1</td>\n",
       "      <td>308.6</td>\n",
       "      <td>1558</td>\n",
       "      <td>42.4</td>\n",
       "      <td>14</td>\n",
       "      <td>0</td>\n",
       "      <td>0</td>\n",
       "      <td>0</td>\n",
       "      <td>0</td>\n",
       "      <td>0</td>\n",
       "      <td>0</td>\n",
       "    </tr>\n",
       "    <tr>\n",
       "      <th>7</th>\n",
       "      <td>8</td>\n",
       "      <td>L47187</td>\n",
       "      <td>L</td>\n",
       "      <td>298.1</td>\n",
       "      <td>308.6</td>\n",
       "      <td>1527</td>\n",
       "      <td>40.2</td>\n",
       "      <td>16</td>\n",
       "      <td>0</td>\n",
       "      <td>0</td>\n",
       "      <td>0</td>\n",
       "      <td>0</td>\n",
       "      <td>0</td>\n",
       "      <td>0</td>\n",
       "    </tr>\n",
       "    <tr>\n",
       "      <th>8</th>\n",
       "      <td>9</td>\n",
       "      <td>M14868</td>\n",
       "      <td>M</td>\n",
       "      <td>298.3</td>\n",
       "      <td>308.7</td>\n",
       "      <td>1667</td>\n",
       "      <td>28.6</td>\n",
       "      <td>18</td>\n",
       "      <td>0</td>\n",
       "      <td>0</td>\n",
       "      <td>0</td>\n",
       "      <td>0</td>\n",
       "      <td>0</td>\n",
       "      <td>0</td>\n",
       "    </tr>\n",
       "    <tr>\n",
       "      <th>9</th>\n",
       "      <td>10</td>\n",
       "      <td>M14869</td>\n",
       "      <td>M</td>\n",
       "      <td>298.5</td>\n",
       "      <td>309.0</td>\n",
       "      <td>1741</td>\n",
       "      <td>28.0</td>\n",
       "      <td>21</td>\n",
       "      <td>0</td>\n",
       "      <td>0</td>\n",
       "      <td>0</td>\n",
       "      <td>0</td>\n",
       "      <td>0</td>\n",
       "      <td>0</td>\n",
       "    </tr>\n",
       "  </tbody>\n",
       "</table>\n",
       "</div>"
      ],
      "text/plain": [
       "   UDI Product ID Type  Air temperature [K]  Process temperature [K]  \\\n",
       "0    1     M14860    M                298.1                    308.6   \n",
       "1    2     L47181    L                298.2                    308.7   \n",
       "2    3     L47182    L                298.1                    308.5   \n",
       "3    4     L47183    L                298.2                    308.6   \n",
       "4    5     L47184    L                298.2                    308.7   \n",
       "5    6     M14865    M                298.1                    308.6   \n",
       "6    7     L47186    L                298.1                    308.6   \n",
       "7    8     L47187    L                298.1                    308.6   \n",
       "8    9     M14868    M                298.3                    308.7   \n",
       "9   10     M14869    M                298.5                    309.0   \n",
       "\n",
       "   Rotational speed [rpm]  Torque [Nm]  Tool wear [min]  Machine failure  TWF  \\\n",
       "0                    1551         42.8                0                0    0   \n",
       "1                    1408         46.3                3                0    0   \n",
       "2                    1498         49.4                5                0    0   \n",
       "3                    1433         39.5                7                0    0   \n",
       "4                    1408         40.0                9                0    0   \n",
       "5                    1425         41.9               11                0    0   \n",
       "6                    1558         42.4               14                0    0   \n",
       "7                    1527         40.2               16                0    0   \n",
       "8                    1667         28.6               18                0    0   \n",
       "9                    1741         28.0               21                0    0   \n",
       "\n",
       "   HDF  PWF  OSF  RNF  \n",
       "0    0    0    0    0  \n",
       "1    0    0    0    0  \n",
       "2    0    0    0    0  \n",
       "3    0    0    0    0  \n",
       "4    0    0    0    0  \n",
       "5    0    0    0    0  \n",
       "6    0    0    0    0  \n",
       "7    0    0    0    0  \n",
       "8    0    0    0    0  \n",
       "9    0    0    0    0  "
      ]
     },
     "execution_count": 2,
     "metadata": {},
     "output_type": "execute_result"
    }
   ],
   "source": [
    "# Load process data from CSV \n",
    "df = pd.read_csv('ai4i2020.csv')\n",
    "\n",
    "# Display the top of the dataset\n",
    "(df.head(10))"
   ]
  },
  {
   "cell_type": "code",
   "execution_count": 3,
   "metadata": {},
   "outputs": [
    {
     "data": {
      "text/html": [
       "<div>\n",
       "<style scoped>\n",
       "    .dataframe tbody tr th:only-of-type {\n",
       "        vertical-align: middle;\n",
       "    }\n",
       "\n",
       "    .dataframe tbody tr th {\n",
       "        vertical-align: top;\n",
       "    }\n",
       "\n",
       "    .dataframe thead th {\n",
       "        text-align: right;\n",
       "    }\n",
       "</style>\n",
       "<table border=\"1\" class=\"dataframe\">\n",
       "  <thead>\n",
       "    <tr style=\"text-align: right;\">\n",
       "      <th></th>\n",
       "      <th>UDI</th>\n",
       "      <th>Product ID</th>\n",
       "      <th>Type</th>\n",
       "      <th>Air temperature [K]</th>\n",
       "      <th>Process temperature [K]</th>\n",
       "      <th>Rotational speed [rpm]</th>\n",
       "      <th>Torque [Nm]</th>\n",
       "      <th>Tool wear [min]</th>\n",
       "      <th>Machine failure</th>\n",
       "      <th>TWF</th>\n",
       "      <th>HDF</th>\n",
       "      <th>PWF</th>\n",
       "      <th>OSF</th>\n",
       "      <th>RNF</th>\n",
       "    </tr>\n",
       "  </thead>\n",
       "  <tbody>\n",
       "    <tr>\n",
       "      <th>9990</th>\n",
       "      <td>9991</td>\n",
       "      <td>L57170</td>\n",
       "      <td>L</td>\n",
       "      <td>298.8</td>\n",
       "      <td>308.5</td>\n",
       "      <td>1527</td>\n",
       "      <td>36.2</td>\n",
       "      <td>3</td>\n",
       "      <td>0</td>\n",
       "      <td>0</td>\n",
       "      <td>0</td>\n",
       "      <td>0</td>\n",
       "      <td>0</td>\n",
       "      <td>0</td>\n",
       "    </tr>\n",
       "    <tr>\n",
       "      <th>9991</th>\n",
       "      <td>9992</td>\n",
       "      <td>M24851</td>\n",
       "      <td>M</td>\n",
       "      <td>298.9</td>\n",
       "      <td>308.4</td>\n",
       "      <td>1827</td>\n",
       "      <td>26.1</td>\n",
       "      <td>5</td>\n",
       "      <td>0</td>\n",
       "      <td>0</td>\n",
       "      <td>0</td>\n",
       "      <td>0</td>\n",
       "      <td>0</td>\n",
       "      <td>0</td>\n",
       "    </tr>\n",
       "    <tr>\n",
       "      <th>9992</th>\n",
       "      <td>9993</td>\n",
       "      <td>L57172</td>\n",
       "      <td>L</td>\n",
       "      <td>298.8</td>\n",
       "      <td>308.4</td>\n",
       "      <td>1484</td>\n",
       "      <td>39.2</td>\n",
       "      <td>8</td>\n",
       "      <td>0</td>\n",
       "      <td>0</td>\n",
       "      <td>0</td>\n",
       "      <td>0</td>\n",
       "      <td>0</td>\n",
       "      <td>0</td>\n",
       "    </tr>\n",
       "    <tr>\n",
       "      <th>9993</th>\n",
       "      <td>9994</td>\n",
       "      <td>L57173</td>\n",
       "      <td>L</td>\n",
       "      <td>298.8</td>\n",
       "      <td>308.4</td>\n",
       "      <td>1401</td>\n",
       "      <td>47.3</td>\n",
       "      <td>10</td>\n",
       "      <td>0</td>\n",
       "      <td>0</td>\n",
       "      <td>0</td>\n",
       "      <td>0</td>\n",
       "      <td>0</td>\n",
       "      <td>0</td>\n",
       "    </tr>\n",
       "    <tr>\n",
       "      <th>9994</th>\n",
       "      <td>9995</td>\n",
       "      <td>L57174</td>\n",
       "      <td>L</td>\n",
       "      <td>298.8</td>\n",
       "      <td>308.3</td>\n",
       "      <td>1634</td>\n",
       "      <td>27.9</td>\n",
       "      <td>12</td>\n",
       "      <td>0</td>\n",
       "      <td>0</td>\n",
       "      <td>0</td>\n",
       "      <td>0</td>\n",
       "      <td>0</td>\n",
       "      <td>0</td>\n",
       "    </tr>\n",
       "    <tr>\n",
       "      <th>9995</th>\n",
       "      <td>9996</td>\n",
       "      <td>M24855</td>\n",
       "      <td>M</td>\n",
       "      <td>298.8</td>\n",
       "      <td>308.4</td>\n",
       "      <td>1604</td>\n",
       "      <td>29.5</td>\n",
       "      <td>14</td>\n",
       "      <td>0</td>\n",
       "      <td>0</td>\n",
       "      <td>0</td>\n",
       "      <td>0</td>\n",
       "      <td>0</td>\n",
       "      <td>0</td>\n",
       "    </tr>\n",
       "    <tr>\n",
       "      <th>9996</th>\n",
       "      <td>9997</td>\n",
       "      <td>H39410</td>\n",
       "      <td>H</td>\n",
       "      <td>298.9</td>\n",
       "      <td>308.4</td>\n",
       "      <td>1632</td>\n",
       "      <td>31.8</td>\n",
       "      <td>17</td>\n",
       "      <td>0</td>\n",
       "      <td>0</td>\n",
       "      <td>0</td>\n",
       "      <td>0</td>\n",
       "      <td>0</td>\n",
       "      <td>0</td>\n",
       "    </tr>\n",
       "    <tr>\n",
       "      <th>9997</th>\n",
       "      <td>9998</td>\n",
       "      <td>M24857</td>\n",
       "      <td>M</td>\n",
       "      <td>299.0</td>\n",
       "      <td>308.6</td>\n",
       "      <td>1645</td>\n",
       "      <td>33.4</td>\n",
       "      <td>22</td>\n",
       "      <td>0</td>\n",
       "      <td>0</td>\n",
       "      <td>0</td>\n",
       "      <td>0</td>\n",
       "      <td>0</td>\n",
       "      <td>0</td>\n",
       "    </tr>\n",
       "    <tr>\n",
       "      <th>9998</th>\n",
       "      <td>9999</td>\n",
       "      <td>H39412</td>\n",
       "      <td>H</td>\n",
       "      <td>299.0</td>\n",
       "      <td>308.7</td>\n",
       "      <td>1408</td>\n",
       "      <td>48.5</td>\n",
       "      <td>25</td>\n",
       "      <td>0</td>\n",
       "      <td>0</td>\n",
       "      <td>0</td>\n",
       "      <td>0</td>\n",
       "      <td>0</td>\n",
       "      <td>0</td>\n",
       "    </tr>\n",
       "    <tr>\n",
       "      <th>9999</th>\n",
       "      <td>10000</td>\n",
       "      <td>M24859</td>\n",
       "      <td>M</td>\n",
       "      <td>299.0</td>\n",
       "      <td>308.7</td>\n",
       "      <td>1500</td>\n",
       "      <td>40.2</td>\n",
       "      <td>30</td>\n",
       "      <td>0</td>\n",
       "      <td>0</td>\n",
       "      <td>0</td>\n",
       "      <td>0</td>\n",
       "      <td>0</td>\n",
       "      <td>0</td>\n",
       "    </tr>\n",
       "  </tbody>\n",
       "</table>\n",
       "</div>"
      ],
      "text/plain": [
       "        UDI Product ID Type  Air temperature [K]  Process temperature [K]  \\\n",
       "9990   9991     L57170    L                298.8                    308.5   \n",
       "9991   9992     M24851    M                298.9                    308.4   \n",
       "9992   9993     L57172    L                298.8                    308.4   \n",
       "9993   9994     L57173    L                298.8                    308.4   \n",
       "9994   9995     L57174    L                298.8                    308.3   \n",
       "9995   9996     M24855    M                298.8                    308.4   \n",
       "9996   9997     H39410    H                298.9                    308.4   \n",
       "9997   9998     M24857    M                299.0                    308.6   \n",
       "9998   9999     H39412    H                299.0                    308.7   \n",
       "9999  10000     M24859    M                299.0                    308.7   \n",
       "\n",
       "      Rotational speed [rpm]  Torque [Nm]  Tool wear [min]  Machine failure  \\\n",
       "9990                    1527         36.2                3                0   \n",
       "9991                    1827         26.1                5                0   \n",
       "9992                    1484         39.2                8                0   \n",
       "9993                    1401         47.3               10                0   \n",
       "9994                    1634         27.9               12                0   \n",
       "9995                    1604         29.5               14                0   \n",
       "9996                    1632         31.8               17                0   \n",
       "9997                    1645         33.4               22                0   \n",
       "9998                    1408         48.5               25                0   \n",
       "9999                    1500         40.2               30                0   \n",
       "\n",
       "      TWF  HDF  PWF  OSF  RNF  \n",
       "9990    0    0    0    0    0  \n",
       "9991    0    0    0    0    0  \n",
       "9992    0    0    0    0    0  \n",
       "9993    0    0    0    0    0  \n",
       "9994    0    0    0    0    0  \n",
       "9995    0    0    0    0    0  \n",
       "9996    0    0    0    0    0  \n",
       "9997    0    0    0    0    0  \n",
       "9998    0    0    0    0    0  \n",
       "9999    0    0    0    0    0  "
      ]
     },
     "execution_count": 3,
     "metadata": {},
     "output_type": "execute_result"
    }
   ],
   "source": [
    "# Display the bottom of the dataset\n",
    "(df.tail(10))"
   ]
  },
  {
   "cell_type": "code",
   "execution_count": 4,
   "metadata": {},
   "outputs": [
    {
     "name": "stdout",
     "output_type": "stream",
     "text": [
      "(10000, 14)\n",
      "There are 10000 observations\n",
      "There are 14 features, one of which is the target variable\n",
      "\n",
      "Numeric Features\n",
      "-------\n",
      "UDI                          int64\n",
      "Air temperature [K]        float64\n",
      "Process temperature [K]    float64\n",
      "Rotational speed [rpm]       int64\n",
      "Torque [Nm]                float64\n",
      "Tool wear [min]              int64\n",
      "Machine failure              int64\n",
      "TWF                          int64\n",
      "HDF                          int64\n",
      "PWF                          int64\n",
      "OSF                          int64\n",
      "RNF                          int64\n",
      "dtype: object\n",
      "\n",
      "Categorical Features\n",
      "-------\n",
      "Product ID    object\n",
      "Type          object\n",
      "dtype: object\n"
     ]
    }
   ],
   "source": [
    "# Display the dimensions of the dataset\n",
    "\n",
    "print(df.shape)\n",
    "print('There are {} observations'.format(df.shape[0]))\n",
    "print('There are {} features, one of which is the target variable'.format(df.shape[1]))\n",
    "print('')\n",
    "\n",
    "# Display the datatypes of the features\n",
    "\n",
    "print('Numeric Features')\n",
    "print('-------')\n",
    "print(df.dtypes[(df.dtypes=='int64') | (df.dtypes=='float64')])\n",
    "print('')\n",
    "print('Categorical Features')\n",
    "print('-------')\n",
    "print(df.dtypes[(df.dtypes=='object') | (df.dtypes=='str')])"
   ]
  },
  {
   "cell_type": "markdown",
   "metadata": {},
   "source": [
    "    \n",
    "> **Initial comments on the dataset:**\n",
    "* The dataset has 10,000 rows/observations and 14 features/columns\n",
    "* The column names make sense, both in their naming and the data they represent. For ease of use, we'll slightly change their names.\n",
    "* The values displayed for each of the columns match their datatypes\n",
    "* There does not appear to be any missing data or strange values, but further checks will be performed\n",
    "* There are 2 categorical features. <code style=\"background:white; color:red; font-weight:bold; font-size:15px\">product_id</code> looks like a unique identifier, and <code style=\"background:white; color:red; font-weight:bold; font-size:15px\">product_type</code> appears to have 3 classes. This aligns with the descriptions in the data dictionary.\n",
    "* No values of 1 were displayed in any of the failure indicator fields. It's likely that failures are not a common event, something we'll check and keep in mind to ensure there are enough samples for model development and testing.\n",
    "\n",
    "Overall, the data looks pretty clean.\n"
   ]
  },
  {
   "cell_type": "markdown",
   "metadata": {},
   "source": [
    "**Next, rename columns for ease of use and display some basic dataset statistics.**"
   ]
  },
  {
   "cell_type": "code",
   "execution_count": 5,
   "metadata": {},
   "outputs": [
    {
     "data": {
      "text/html": [
       "<div>\n",
       "<style scoped>\n",
       "    .dataframe tbody tr th:only-of-type {\n",
       "        vertical-align: middle;\n",
       "    }\n",
       "\n",
       "    .dataframe tbody tr th {\n",
       "        vertical-align: top;\n",
       "    }\n",
       "\n",
       "    .dataframe thead th {\n",
       "        text-align: right;\n",
       "    }\n",
       "</style>\n",
       "<table border=\"1\" class=\"dataframe\">\n",
       "  <thead>\n",
       "    <tr style=\"text-align: right;\">\n",
       "      <th></th>\n",
       "      <th>record_id</th>\n",
       "      <th>product_id</th>\n",
       "      <th>product_type</th>\n",
       "      <th>air_temp</th>\n",
       "      <th>process_temp</th>\n",
       "      <th>rpm</th>\n",
       "      <th>torque</th>\n",
       "      <th>tool_wear_time</th>\n",
       "      <th>machine_fail_flag</th>\n",
       "      <th>TWF</th>\n",
       "      <th>HDF</th>\n",
       "      <th>PWF</th>\n",
       "      <th>OSF</th>\n",
       "      <th>RNF</th>\n",
       "    </tr>\n",
       "  </thead>\n",
       "  <tbody>\n",
       "    <tr>\n",
       "      <th>0</th>\n",
       "      <td>1</td>\n",
       "      <td>M14860</td>\n",
       "      <td>M</td>\n",
       "      <td>298.1</td>\n",
       "      <td>308.6</td>\n",
       "      <td>1551</td>\n",
       "      <td>42.8</td>\n",
       "      <td>0</td>\n",
       "      <td>0</td>\n",
       "      <td>0</td>\n",
       "      <td>0</td>\n",
       "      <td>0</td>\n",
       "      <td>0</td>\n",
       "      <td>0</td>\n",
       "    </tr>\n",
       "    <tr>\n",
       "      <th>1</th>\n",
       "      <td>2</td>\n",
       "      <td>L47181</td>\n",
       "      <td>L</td>\n",
       "      <td>298.2</td>\n",
       "      <td>308.7</td>\n",
       "      <td>1408</td>\n",
       "      <td>46.3</td>\n",
       "      <td>3</td>\n",
       "      <td>0</td>\n",
       "      <td>0</td>\n",
       "      <td>0</td>\n",
       "      <td>0</td>\n",
       "      <td>0</td>\n",
       "      <td>0</td>\n",
       "    </tr>\n",
       "    <tr>\n",
       "      <th>2</th>\n",
       "      <td>3</td>\n",
       "      <td>L47182</td>\n",
       "      <td>L</td>\n",
       "      <td>298.1</td>\n",
       "      <td>308.5</td>\n",
       "      <td>1498</td>\n",
       "      <td>49.4</td>\n",
       "      <td>5</td>\n",
       "      <td>0</td>\n",
       "      <td>0</td>\n",
       "      <td>0</td>\n",
       "      <td>0</td>\n",
       "      <td>0</td>\n",
       "      <td>0</td>\n",
       "    </tr>\n",
       "    <tr>\n",
       "      <th>3</th>\n",
       "      <td>4</td>\n",
       "      <td>L47183</td>\n",
       "      <td>L</td>\n",
       "      <td>298.2</td>\n",
       "      <td>308.6</td>\n",
       "      <td>1433</td>\n",
       "      <td>39.5</td>\n",
       "      <td>7</td>\n",
       "      <td>0</td>\n",
       "      <td>0</td>\n",
       "      <td>0</td>\n",
       "      <td>0</td>\n",
       "      <td>0</td>\n",
       "      <td>0</td>\n",
       "    </tr>\n",
       "    <tr>\n",
       "      <th>4</th>\n",
       "      <td>5</td>\n",
       "      <td>L47184</td>\n",
       "      <td>L</td>\n",
       "      <td>298.2</td>\n",
       "      <td>308.7</td>\n",
       "      <td>1408</td>\n",
       "      <td>40.0</td>\n",
       "      <td>9</td>\n",
       "      <td>0</td>\n",
       "      <td>0</td>\n",
       "      <td>0</td>\n",
       "      <td>0</td>\n",
       "      <td>0</td>\n",
       "      <td>0</td>\n",
       "    </tr>\n",
       "  </tbody>\n",
       "</table>\n",
       "</div>"
      ],
      "text/plain": [
       "   record_id product_id product_type  air_temp  process_temp   rpm  torque  \\\n",
       "0          1     M14860            M     298.1         308.6  1551    42.8   \n",
       "1          2     L47181            L     298.2         308.7  1408    46.3   \n",
       "2          3     L47182            L     298.1         308.5  1498    49.4   \n",
       "3          4     L47183            L     298.2         308.6  1433    39.5   \n",
       "4          5     L47184            L     298.2         308.7  1408    40.0   \n",
       "\n",
       "   tool_wear_time  machine_fail_flag  TWF  HDF  PWF  OSF  RNF  \n",
       "0               0                  0    0    0    0    0    0  \n",
       "1               3                  0    0    0    0    0    0  \n",
       "2               5                  0    0    0    0    0    0  \n",
       "3               7                  0    0    0    0    0    0  \n",
       "4               9                  0    0    0    0    0    0  "
      ]
     },
     "execution_count": 5,
     "metadata": {},
     "output_type": "execute_result"
    }
   ],
   "source": [
    "# Rename columns for readability ease of use\n",
    "df.rename(columns={'UDI':'record_id', 'Product ID':'product_id','Type':'product_type','Air temperature [K]':'air_temp','Process temperature [K]':'process_temp','Rotational speed [rpm]':'rpm', 'Torque [Nm]':'torque', 'Tool wear [min]':'tool_wear_time','Machine failure':'machine_fail_flag'}, inplace=True)\n",
    "df.head()"
   ]
  },
  {
   "cell_type": "code",
   "execution_count": 6,
   "metadata": {},
   "outputs": [
    {
     "data": {
      "text/html": [
       "<div>\n",
       "<style scoped>\n",
       "    .dataframe tbody tr th:only-of-type {\n",
       "        vertical-align: middle;\n",
       "    }\n",
       "\n",
       "    .dataframe tbody tr th {\n",
       "        vertical-align: top;\n",
       "    }\n",
       "\n",
       "    .dataframe thead th {\n",
       "        text-align: right;\n",
       "    }\n",
       "</style>\n",
       "<table border=\"1\" class=\"dataframe\">\n",
       "  <thead>\n",
       "    <tr style=\"text-align: right;\">\n",
       "      <th></th>\n",
       "      <th>record_id</th>\n",
       "      <th>air_temp</th>\n",
       "      <th>process_temp</th>\n",
       "      <th>rpm</th>\n",
       "      <th>torque</th>\n",
       "      <th>tool_wear_time</th>\n",
       "      <th>machine_fail_flag</th>\n",
       "      <th>TWF</th>\n",
       "      <th>HDF</th>\n",
       "      <th>PWF</th>\n",
       "      <th>OSF</th>\n",
       "      <th>RNF</th>\n",
       "    </tr>\n",
       "  </thead>\n",
       "  <tbody>\n",
       "    <tr>\n",
       "      <th>count</th>\n",
       "      <td>10000.00000</td>\n",
       "      <td>10000.000000</td>\n",
       "      <td>10000.000000</td>\n",
       "      <td>10000.000000</td>\n",
       "      <td>10000.000000</td>\n",
       "      <td>10000.000000</td>\n",
       "      <td>10000.000000</td>\n",
       "      <td>10000.000000</td>\n",
       "      <td>10000.000000</td>\n",
       "      <td>10000.000000</td>\n",
       "      <td>10000.000000</td>\n",
       "      <td>10000.00000</td>\n",
       "    </tr>\n",
       "    <tr>\n",
       "      <th>mean</th>\n",
       "      <td>5000.50000</td>\n",
       "      <td>300.004930</td>\n",
       "      <td>310.005560</td>\n",
       "      <td>1538.776100</td>\n",
       "      <td>39.986910</td>\n",
       "      <td>107.951000</td>\n",
       "      <td>0.033900</td>\n",
       "      <td>0.004600</td>\n",
       "      <td>0.011500</td>\n",
       "      <td>0.009500</td>\n",
       "      <td>0.009800</td>\n",
       "      <td>0.00190</td>\n",
       "    </tr>\n",
       "    <tr>\n",
       "      <th>std</th>\n",
       "      <td>2886.89568</td>\n",
       "      <td>2.000259</td>\n",
       "      <td>1.483734</td>\n",
       "      <td>179.284096</td>\n",
       "      <td>9.968934</td>\n",
       "      <td>63.654147</td>\n",
       "      <td>0.180981</td>\n",
       "      <td>0.067671</td>\n",
       "      <td>0.106625</td>\n",
       "      <td>0.097009</td>\n",
       "      <td>0.098514</td>\n",
       "      <td>0.04355</td>\n",
       "    </tr>\n",
       "    <tr>\n",
       "      <th>min</th>\n",
       "      <td>1.00000</td>\n",
       "      <td>295.300000</td>\n",
       "      <td>305.700000</td>\n",
       "      <td>1168.000000</td>\n",
       "      <td>3.800000</td>\n",
       "      <td>0.000000</td>\n",
       "      <td>0.000000</td>\n",
       "      <td>0.000000</td>\n",
       "      <td>0.000000</td>\n",
       "      <td>0.000000</td>\n",
       "      <td>0.000000</td>\n",
       "      <td>0.00000</td>\n",
       "    </tr>\n",
       "    <tr>\n",
       "      <th>25%</th>\n",
       "      <td>2500.75000</td>\n",
       "      <td>298.300000</td>\n",
       "      <td>308.800000</td>\n",
       "      <td>1423.000000</td>\n",
       "      <td>33.200000</td>\n",
       "      <td>53.000000</td>\n",
       "      <td>0.000000</td>\n",
       "      <td>0.000000</td>\n",
       "      <td>0.000000</td>\n",
       "      <td>0.000000</td>\n",
       "      <td>0.000000</td>\n",
       "      <td>0.00000</td>\n",
       "    </tr>\n",
       "    <tr>\n",
       "      <th>50%</th>\n",
       "      <td>5000.50000</td>\n",
       "      <td>300.100000</td>\n",
       "      <td>310.100000</td>\n",
       "      <td>1503.000000</td>\n",
       "      <td>40.100000</td>\n",
       "      <td>108.000000</td>\n",
       "      <td>0.000000</td>\n",
       "      <td>0.000000</td>\n",
       "      <td>0.000000</td>\n",
       "      <td>0.000000</td>\n",
       "      <td>0.000000</td>\n",
       "      <td>0.00000</td>\n",
       "    </tr>\n",
       "    <tr>\n",
       "      <th>75%</th>\n",
       "      <td>7500.25000</td>\n",
       "      <td>301.500000</td>\n",
       "      <td>311.100000</td>\n",
       "      <td>1612.000000</td>\n",
       "      <td>46.800000</td>\n",
       "      <td>162.000000</td>\n",
       "      <td>0.000000</td>\n",
       "      <td>0.000000</td>\n",
       "      <td>0.000000</td>\n",
       "      <td>0.000000</td>\n",
       "      <td>0.000000</td>\n",
       "      <td>0.00000</td>\n",
       "    </tr>\n",
       "    <tr>\n",
       "      <th>max</th>\n",
       "      <td>10000.00000</td>\n",
       "      <td>304.500000</td>\n",
       "      <td>313.800000</td>\n",
       "      <td>2886.000000</td>\n",
       "      <td>76.600000</td>\n",
       "      <td>253.000000</td>\n",
       "      <td>1.000000</td>\n",
       "      <td>1.000000</td>\n",
       "      <td>1.000000</td>\n",
       "      <td>1.000000</td>\n",
       "      <td>1.000000</td>\n",
       "      <td>1.00000</td>\n",
       "    </tr>\n",
       "  </tbody>\n",
       "</table>\n",
       "</div>"
      ],
      "text/plain": [
       "         record_id      air_temp  process_temp           rpm        torque  \\\n",
       "count  10000.00000  10000.000000  10000.000000  10000.000000  10000.000000   \n",
       "mean    5000.50000    300.004930    310.005560   1538.776100     39.986910   \n",
       "std     2886.89568      2.000259      1.483734    179.284096      9.968934   \n",
       "min        1.00000    295.300000    305.700000   1168.000000      3.800000   \n",
       "25%     2500.75000    298.300000    308.800000   1423.000000     33.200000   \n",
       "50%     5000.50000    300.100000    310.100000   1503.000000     40.100000   \n",
       "75%     7500.25000    301.500000    311.100000   1612.000000     46.800000   \n",
       "max    10000.00000    304.500000    313.800000   2886.000000     76.600000   \n",
       "\n",
       "       tool_wear_time  machine_fail_flag           TWF           HDF  \\\n",
       "count    10000.000000       10000.000000  10000.000000  10000.000000   \n",
       "mean       107.951000           0.033900      0.004600      0.011500   \n",
       "std         63.654147           0.180981      0.067671      0.106625   \n",
       "min          0.000000           0.000000      0.000000      0.000000   \n",
       "25%         53.000000           0.000000      0.000000      0.000000   \n",
       "50%        108.000000           0.000000      0.000000      0.000000   \n",
       "75%        162.000000           0.000000      0.000000      0.000000   \n",
       "max        253.000000           1.000000      1.000000      1.000000   \n",
       "\n",
       "                PWF           OSF          RNF  \n",
       "count  10000.000000  10000.000000  10000.00000  \n",
       "mean       0.009500      0.009800      0.00190  \n",
       "std        0.097009      0.098514      0.04355  \n",
       "min        0.000000      0.000000      0.00000  \n",
       "25%        0.000000      0.000000      0.00000  \n",
       "50%        0.000000      0.000000      0.00000  \n",
       "75%        0.000000      0.000000      0.00000  \n",
       "max        1.000000      1.000000      1.00000  "
      ]
     },
     "execution_count": 6,
     "metadata": {},
     "output_type": "execute_result"
    }
   ],
   "source": [
    "# Basic statistics and information on dataset\n",
    "df.describe()"
   ]
  },
  {
   "cell_type": "code",
   "execution_count": 7,
   "metadata": {},
   "outputs": [
    {
     "data": {
      "text/plain": [
       "record_id            5000.5\n",
       "air_temp              300.1\n",
       "process_temp          310.1\n",
       "rpm                  1503.0\n",
       "torque                 40.1\n",
       "tool_wear_time        108.0\n",
       "machine_fail_flag       0.0\n",
       "TWF                     0.0\n",
       "HDF                     0.0\n",
       "PWF                     0.0\n",
       "OSF                     0.0\n",
       "RNF                     0.0\n",
       "dtype: float64"
      ]
     },
     "execution_count": 7,
     "metadata": {},
     "output_type": "execute_result"
    }
   ],
   "source": [
    "df.median()"
   ]
  },
  {
   "cell_type": "markdown",
   "metadata": {},
   "source": [
    "    \n",
    "> **Observations:**\n",
    "* Each feature has 10,000 entries, with <code style=\"background:white; color:red; font-weight:bold; font-size:15px\">record_id</code> ranging from 1 to 10,000. It does not look like there are any duplicates.\n",
    "* <code style=\"background:white; color:red; font-weight:bold; font-size:15px\">air_temp</code> and <code style=\"background:white; color:red; font-weight:bold; font-size:15px\">process_temp</code> have a range of approximately 9 degrees around the mean.\n",
    "* <code style=\"background:white; color:red; font-weight:bold; font-size:15px\">rpm</code> and <code style=\"background:white; color:red; font-weight:bold; font-size:15px\">torque</code> statistics seem reasonable.\n",
    "* <code style=\"background:white; color:red; font-weight:bold; font-size:15px\">tool_wear_time</code> does contain a 0 value, which may indicate installation of new part.\n",
    "* All failure flags appear to contain either 0 or 1 as values.\n",
    "* A mean of 0.0339 in the <code style=\"background:white; color:red; font-weight:bold; font-size:15px\">machine_fail_flag</code> feature, if it does indeed contain only 0 or 1 as values, indicates that 3.39% of the records in the dataset are failed machines. This aligns with our hypothesis of a failure as an uncommon event."
   ]
  },
  {
   "cell_type": "markdown",
   "metadata": {},
   "source": [
    "**Include statistics for the categorical (non-numeric) features.**"
   ]
  },
  {
   "cell_type": "code",
   "execution_count": 8,
   "metadata": {},
   "outputs": [
    {
     "data": {
      "text/html": [
       "<div>\n",
       "<style scoped>\n",
       "    .dataframe tbody tr th:only-of-type {\n",
       "        vertical-align: middle;\n",
       "    }\n",
       "\n",
       "    .dataframe tbody tr th {\n",
       "        vertical-align: top;\n",
       "    }\n",
       "\n",
       "    .dataframe thead th {\n",
       "        text-align: right;\n",
       "    }\n",
       "</style>\n",
       "<table border=\"1\" class=\"dataframe\">\n",
       "  <thead>\n",
       "    <tr style=\"text-align: right;\">\n",
       "      <th></th>\n",
       "      <th>product_id</th>\n",
       "      <th>product_type</th>\n",
       "    </tr>\n",
       "  </thead>\n",
       "  <tbody>\n",
       "    <tr>\n",
       "      <th>count</th>\n",
       "      <td>10000</td>\n",
       "      <td>10000</td>\n",
       "    </tr>\n",
       "    <tr>\n",
       "      <th>unique</th>\n",
       "      <td>10000</td>\n",
       "      <td>3</td>\n",
       "    </tr>\n",
       "    <tr>\n",
       "      <th>top</th>\n",
       "      <td>L55123</td>\n",
       "      <td>L</td>\n",
       "    </tr>\n",
       "    <tr>\n",
       "      <th>freq</th>\n",
       "      <td>1</td>\n",
       "      <td>6000</td>\n",
       "    </tr>\n",
       "  </tbody>\n",
       "</table>\n",
       "</div>"
      ],
      "text/plain": [
       "       product_id product_type\n",
       "count       10000        10000\n",
       "unique      10000            3\n",
       "top        L55123            L\n",
       "freq            1         6000"
      ]
     },
     "execution_count": 8,
     "metadata": {},
     "output_type": "execute_result"
    }
   ],
   "source": [
    "# Summarize statistics for the categorical features\n",
    "df.describe(include=['object'])"
   ]
  },
  {
   "cell_type": "markdown",
   "metadata": {},
   "source": [
    "> **Findings:**\n",
    "* There are 10,000 unique  <code style=\"background:white; color:red; font-weight:bold; font-size:15px\">product_id</code> values (so no duplicates), and 3 unique  <code style=\"background:white; color:red; font-weight:bold; font-size:15px\">product_type</code> values, with 6,000 out of 10,000 records containing the value 'L'.\n",
    "\n",
    "> ***NOTE: It may be useful to segment by  <code style=\"background:white; color:red; font-weight:bold; font-size:15px\">product_type</code> in later analyses.***"
   ]
  },
  {
   "cell_type": "markdown",
   "metadata": {},
   "source": [
    "**Here are the 3 unique values for that attribute, which matches the values in the data dictionary:**"
   ]
  },
  {
   "cell_type": "code",
   "execution_count": 9,
   "metadata": {},
   "outputs": [
    {
     "name": "stdout",
     "output_type": "stream",
     "text": [
      "['M' 'L' 'H']\n"
     ]
    }
   ],
   "source": [
    "# Check for unique values\n",
    "print(df.product_type.unique())"
   ]
  },
  {
   "cell_type": "markdown",
   "metadata": {},
   "source": [
    "The failure columns (<code style=\"background:white; color:red; font-weight:bold; font-size:15px\">machine_fail_flag, TWF, HDF, PWF, OSF, RNF</code>) in the dataset appear to already contain the indicator values 0 and 1, but let's check to be sure."
   ]
  },
  {
   "cell_type": "code",
   "execution_count": 10,
   "metadata": {},
   "outputs": [
    {
     "name": "stdout",
     "output_type": "stream",
     "text": [
      "[0 1]\n",
      "[0 1]\n",
      "[0 1]\n",
      "[0 1]\n",
      "[0 1]\n",
      "[0 1]\n"
     ]
    }
   ],
   "source": [
    "# Check for unique values\n",
    "print(df.machine_fail_flag.unique())\n",
    "print(df.TWF.unique())\n",
    "print(df.HDF.unique())\n",
    "print(df.PWF.unique())\n",
    "print(df.OSF.unique())\n",
    "print(df.RNF.unique())"
   ]
  },
  {
   "cell_type": "markdown",
   "metadata": {},
   "source": [
    "\n",
    "The columns contain only values of 0 and 1, with no missing values."
   ]
  },
  {
   "cell_type": "markdown",
   "metadata": {},
   "source": [
    "**Let's also check the other columns for missing or non-numeric values:**"
   ]
  },
  {
   "cell_type": "code",
   "execution_count": 11,
   "metadata": {
    "scrolled": true
   },
   "outputs": [
    {
     "name": "stdout",
     "output_type": "stream",
     "text": [
      "record_id            False\n",
      "product_id           False\n",
      "product_type         False\n",
      "air_temp             False\n",
      "process_temp         False\n",
      "rpm                  False\n",
      "torque               False\n",
      "tool_wear_time       False\n",
      "machine_fail_flag    False\n",
      "TWF                  False\n",
      "HDF                  False\n",
      "PWF                  False\n",
      "OSF                  False\n",
      "RNF                  False\n",
      "dtype: bool\n"
     ]
    }
   ],
   "source": [
    "print(df.isnull().any())"
   ]
  },
  {
   "cell_type": "markdown",
   "metadata": {},
   "source": [
    "> **Findings:**\n",
    "* The failure columns contain only values of 0 and 1, with no missing values\n",
    "* There are no missing or non-numeric values in the remanining numeric columns\n"
   ]
  },
  {
   "cell_type": "markdown",
   "metadata": {},
   "source": [
    "[Return to Top](#toc)"
   ]
  },
  {
   "cell_type": "markdown",
   "metadata": {},
   "source": [
    "### <a id=\"distfeat\"><span style=\"color:Black\">3.2 Distributions of Numeric and Categorical Features</span></a>"
   ]
  },
  {
   "cell_type": "markdown",
   "metadata": {},
   "source": [
    "#### Plot the distributions of the numeric and categorical features of the dataset."
   ]
  },
  {
   "cell_type": "code",
   "execution_count": 12,
   "metadata": {
    "scrolled": true
   },
   "outputs": [
    {
     "data": {
      "image/png": "[encoded data removed]",
      "text/plain": [
       "<Figure size 1008x1008 with 12 Axes>"
      ]
     },
     "metadata": {},
     "output_type": "display_data"
    }
   ],
   "source": [
    "# plot histogram grid\n",
    "df.hist(figsize=(14,14), xrot=-45)\n",
    "plt.show()"
   ]
  },
  {
   "cell_type": "markdown",
   "metadata": {},
   "source": [
    "> **Interpretation:**\n",
    "* All the failure flag values are clustered at 0 and 1, which we would expect.\n",
    "*  <code style=\"background:white; color:red; font-weight:bold; font-size:15px\">tool_wear_time</code> looks like a uniform distribution, with some outliers (less than 10%) appearing above 200 minutes.\n",
    "* The <code style=\"background:white; color:red; font-weight:bold; font-size:15px\">rpm</code> distribution appears to be skewed right from normal, but that could be a result of the auto-created bins, since the x axis looks a bit off.\n",
    "* The <code style=\"background:white; color:red; font-weight:bold; font-size:15px\">air_temp</code> and  <code style=\"background:white; color:red; font-weight:bold; font-size:15px\">process_temp</code> distributions resemble normal distributions, with no significant outliers.\n",
    "* The <code style=\"background:white; color:red; font-weight:bold; font-size:15px\">torque</code> distribution looks like a normal distribution with no significant outliers.\n"
   ]
  },
  {
   "cell_type": "code",
   "execution_count": 13,
   "metadata": {},
   "outputs": [
    {
     "data": {
      "image/png": "[encoded data removed]",
      "text/plain": [
       "<Figure size 432x288 with 1 Axes>"
      ]
     },
     "metadata": {},
     "output_type": "display_data"
    },
    {
     "name": "stdout",
     "output_type": "stream",
     "text": [
      "L    6000\n",
      "M    2997\n",
      "H    1003\n",
      "Name: product_type, dtype: int64\n",
      "L    0.6000\n",
      "M    0.2997\n",
      "H    0.1003\n",
      "Name: product_type, dtype: float64\n"
     ]
    }
   ],
   "source": [
    "# display a histogram of product_type, which is a categorical variable\n",
    "# There's no need to produce a plot for product_id, since previous analysis shows\n",
    "# there are 10,000 unique values for 10,000 records, with no duplicates\n",
    "\n",
    "sns.countplot(x='product_type', data=df)\n",
    "plt.show()\n",
    "\n",
    "# Occurrences and proportion of each value\n",
    "print(df.product_type.value_counts())\n",
    "print(df.product_type.value_counts()/df.product_type.count())"
   ]
  },
  {
   "cell_type": "markdown",
   "metadata": {},
   "source": [
    "There's no need to produce a plot for  <code style=\"background:white; color:red; font-weight:bold; font-size:15px\">product_id</code>, since previous analysis shows there are 10,000 unique values for 10,000 records, with no duplicates."
   ]
  },
  {
   "cell_type": "markdown",
   "metadata": {},
   "source": [
    "> **Interpretation:**\n",
    "* The majority of <code style=\"background:white; color:red; font-weight:bold; font-size:15px\">product_type</code> values are 'L', as we discovered earlier.\n",
    "* Based on the counts, 60% are 'L', 30% are 'M', and 10% are 'H'\n",
    " *  **NOTE**: These numbers differ from the proportions listed in the data dictionary description. This is a good example of the benefit of performing data quality checks."
   ]
  },
  {
   "cell_type": "markdown",
   "metadata": {},
   "source": [
    "#### Having gained a better feel for the values contained in the dataset, we can start exploring the relationship of the target variable with the other features, as well as the relationship among the features themselves."
   ]
  },
  {
   "cell_type": "markdown",
   "metadata": {},
   "source": [
    "For reference, calculate the total number of occurrences that are machine failures ( <code style=\"background:white; color:red; font-weight:bold; font-size:15px\">machine_fail_flag=1</code>)"
   ]
  },
  {
   "cell_type": "code",
   "execution_count": 14,
   "metadata": {},
   "outputs": [
    {
     "name": "stdout",
     "output_type": "stream",
     "text": [
      "There are 339 observations labeled as machine failures\n"
     ]
    }
   ],
   "source": [
    "# Total number of machine failures in the dataset. 0=not a failure, 1=failure\n",
    "\n",
    "print('There are {} observations labeled as machine failures'.format(df.machine_fail_flag.sum()))"
   ]
  },
  {
   "cell_type": "markdown",
   "metadata": {},
   "source": [
    "> **Findings:**\n",
    "* In the dataset, there are 339 machine failures out of 10,000 observations, which equates to 3.39% of the observations.\n",
    "\n",
    "> Thus, over 96% of the observations are non-failures. This is an example of an imbalanced dataset. This information is important to know when choosing a performance metric to evaluatate different classification models. "
   ]
  },
  {
   "cell_type": "markdown",
   "metadata": {},
   "source": [
    "Let's create basic plots of machine failure counts for each  <code style=\"background:white; color:red; font-weight:bold; font-size:15px\">product_type</code>:"
   ]
  },
  {
   "cell_type": "code",
   "execution_count": 15,
   "metadata": {},
   "outputs": [
    {
     "data": {
      "image/png": "[encoded data removed]",
      "text/plain": [
       "<Figure size 432x288 with 1 Axes>"
      ]
     },
     "metadata": {},
     "output_type": "display_data"
    },
    {
     "name": "stdout",
     "output_type": "stream",
     "text": [
      "For those observations that are labeled as a machine failure...\n",
      "--> There are 235 occurences of product_type L\n",
      "--> There are 83 occurences of product_type M\n",
      "--> There are 21 occurences of product_type H\n",
      "\n",
      "This results in the following percentages:\n",
      "--> 69.3% of failures are product_type L\n",
      "--> 24.5% of failures are product_type M\n",
      "--> 6.2% of failures are product_type H\n"
     ]
    }
   ],
   "source": [
    "# Frequency distribution of machine failures for each product_type\n",
    "\n",
    "sns.countplot(x='product_type', data=df[df.machine_fail_flag==1])\n",
    "plt.show()\n",
    "\n",
    "# Print occurrences of each value in the case of a machine failure\n",
    "for i in range (0, len(df[df.machine_fail_flag==1].product_type.unique())):\n",
    "    cnt = df[df.machine_fail_flag==1].product_type.value_counts()[i]\n",
    "    val = df[df.machine_fail_flag==1].product_type.unique()[i]\n",
    "    if i==0:\n",
    "        print('For those observations that are labeled as a machine failure...')\n",
    "    print('--> There are {} occurences of product_type {}'.format(cnt, val))\n",
    "    \n",
    "# Print occurrences of each value in the case of a machine failure\n",
    "print('')\n",
    "for i in range (0, len(df[df.machine_fail_flag==1].product_type.unique())):\n",
    "    cnt = df[df.machine_fail_flag==1].product_type.value_counts()[i]\n",
    "    val = df[df.machine_fail_flag==1].product_type.unique()[i]\n",
    "    if i==0:\n",
    "        print('This results in the following percentages:')\n",
    "        tot = df[df.machine_fail_flag==1].product_type.count()\n",
    "    print('--> {}% of failures are product_type {}'.format(round(100*(cnt/tot), 1), val))"
   ]
  },
  {
   "cell_type": "markdown",
   "metadata": {},
   "source": [
    "> **Interpretation:**\n",
    "* Higher product quality is associated with fewer machine failures"
   ]
  },
  {
   "cell_type": "markdown",
   "metadata": {},
   "source": [
    "Check different attributes vs  <code style=\"background:white; color:red; font-weight:bold; font-size:15px\">machine_fail_flag</code>:"
   ]
  },
  {
   "cell_type": "code",
   "execution_count": 16,
   "metadata": {},
   "outputs": [
    {
     "data": {
      "image/png": "[encoded data removed]",
      "text/plain": [
       "<Figure size 792x360 with 5 Axes>"
      ]
     },
     "metadata": {},
     "output_type": "display_data"
    }
   ],
   "source": [
    "# Display boxplots of different features segmented by machine_failure flag\n",
    "\n",
    "# Set plot display parameters\n",
    "fig, axes = plt.subplots(nrows=1, ncols=5, figsize=(11,5)) # default figure size is (6,4)\n",
    "\n",
    "# Plot features\n",
    "sns.boxplot(x='machine_fail_flag', y='air_temp', data=df, ax=axes[0], orient = 'v')\n",
    "sns.boxplot(x='machine_fail_flag', y='process_temp', data=df, ax=axes[1], orient = 'v')\n",
    "sns.boxplot(x='machine_fail_flag', y='torque', data=df, ax=axes[2], orient = 'v')\n",
    "sns.boxplot(x='machine_fail_flag', y='tool_wear_time', data=df, ax=axes[3], orient = 'v')\n",
    "sns.boxplot(x='machine_fail_flag', y='rpm', data=df, ax=axes[4], orient = 'v')\n",
    "\n",
    "fig.tight_layout() # spread the plots slightly apart\n",
    "\n",
    "plt.show()"
   ]
  },
  {
   "cell_type": "markdown",
   "metadata": {},
   "source": [
    ">**Interpretation:**   \n",
    "* Failures appear to be associated with:\n",
    " * Higher average air temperatures\n",
    " * Higher average process temperatures (very slightly)\n",
    " * Higher average torque values\n",
    " * Higher average tool wear times\n",
    " * Lower average RPM\n",
    "* Torque values for failures have a larger total spread of values, with a lower minimum and a higher maximum value than those for non-failures\n",
    "* RPM values for failures have a larger total spread of values, with a higher maximum value than those for non-failures\n",
    "* Air temperature, process temperature and tool wear time have few or no outlier values as compared to torque and RPM\n"
   ]
  },
  {
   "cell_type": "markdown",
   "metadata": {},
   "source": [
    "From the plots, it looks like torque and RPM are related to failures, but the impact of air and process temperature is not so clear, at least when looked at individually. What about the difference between the temperatures?\n",
    "\n",
    "To investigate, create a new feature to contain the difference between air temperature and process temperature, then plot the results."
   ]
  },
  {
   "cell_type": "code",
   "execution_count": 17,
   "metadata": {},
   "outputs": [
    {
     "data": {
      "image/png": "[encoded data removed]",
      "text/plain": [
       "<Figure size 432x288 with 1 Axes>"
      ]
     },
     "metadata": {},
     "output_type": "display_data"
    }
   ],
   "source": [
    "# Calculate the difference between air and process temperature, and store as a new feature\n",
    "df['temp_diff'] = abs(df.air_temp - df.process_temp)\n",
    "\n",
    "sns.boxplot(x='machine_fail_flag', y='temp_diff', data=df)\n",
    "\n",
    "plt.show()"
   ]
  },
  {
   "cell_type": "markdown",
   "metadata": {},
   "source": [
    "> **Findings:**\n",
    "* There appear to be slightly lower temperature differences for failures, but it may not be a significant factor. However, this is something to keep in mind as we test different models"
   ]
  },
  {
   "cell_type": "markdown",
   "metadata": {},
   "source": [
    "[Return to Top](#toc)"
   ]
  },
  {
   "cell_type": "markdown",
   "metadata": {},
   "source": [
    "### <a id=\"segmentation\"><span style=\"color:Black\">3.3 Segmentation</span></a>"
   ]
  },
  {
   "cell_type": "markdown",
   "metadata": {},
   "source": [
    "#### Data exploring, looking at different attributes vs  <code style=\"background:white; color:red; font-weight:bold; font-size:15px\">machine_fail_flag</code>"
   ]
  },
  {
   "cell_type": "markdown",
   "metadata": {},
   "source": [
    "Visualize effects of different attrributes on machine failure using bivariate segmentation. This will show the relationship between two numeric variables and the categorical variable."
   ]
  },
  {
   "cell_type": "code",
   "execution_count": 18,
   "metadata": {
    "scrolled": true
   },
   "outputs": [
    {
     "data": {
      "image/png": "[encoded data removed]",
      "text/plain": [
       "<Figure size 446.5x360 with 1 Axes>"
      ]
     },
     "metadata": {},
     "output_type": "display_data"
    }
   ],
   "source": [
    "# Display scatterplots of different features segmented by machine_failure flag\n",
    "\n",
    "# Scatterplot of rpm vs. torque\n",
    "sns.lmplot(x='rpm',\n",
    "           y='torque',\n",
    "           hue='machine_fail_flag',\n",
    "           data=df,\n",
    "           fit_reg=False,\n",
    "           scatter_kws={'alpha':0.2},\n",
    "           palette = ['orange', 'dodgerblue']\n",
    "           )\n",
    "plt.show()"
   ]
  },
  {
   "cell_type": "code",
   "execution_count": 19,
   "metadata": {},
   "outputs": [
    {
     "data": {
      "image/png": "[encoded data removed]",
      "text/plain": [
       "<Figure size 446.5x360 with 1 Axes>"
      ]
     },
     "metadata": {},
     "output_type": "display_data"
    }
   ],
   "source": [
    "# Display scatterplots of different features segmented by machine_failure flag\n",
    "\n",
    "# Scatterplot of rpm vs. torque\n",
    "sns.lmplot(x='rpm',\n",
    "           y='torque',\n",
    "           hue='machine_fail_flag',\n",
    "           data=df[df.machine_fail_flag==1],\n",
    "           fit_reg=False,\n",
    "           scatter_kws={'alpha':0.2},\n",
    "           palette = ['dodgerblue', 'orange']\n",
    "           )\n",
    "plt.show()"
   ]
  },
  {
   "cell_type": "markdown",
   "metadata": {},
   "source": [
    "> **Interpretation:**\n",
    "* RPM is inversely proportional to torque\n",
    "* Failures tend to occur under high torque/low RPM and low torque/high RPM conditions (see second scatterplot for a clearer picture)\n",
    " * <code style=\"background:white; color:red; font-weight:bold; font-size:15px\">torque >= 45</code>\n",
    " * <code style=\"background:white; color:red; font-weight:bold; font-size:15px\">rpm >= 2500</code>\n",
    " * **NOTE:** These thresholds can be used for indicator variable/feature creation\n",
    "    \n",
    "* This aligns with the physics formula ***power = torque * RPM***. So, RPM is inversely proportional to torque for a given amount of power.\n",
    "\n",
    "* It could be the case that when the power exceeds a given value, the machine is more prone to failure."
   ]
  },
  {
   "cell_type": "markdown",
   "metadata": {},
   "source": [
    "To test this hypothesis, create a new feature  <code style=\"background:white; color:red; font-weight:bold; font-size:15px\">power</code>, then plot in a boxplot.\n",
    "\n"
   ]
  },
  {
   "cell_type": "code",
   "execution_count": 20,
   "metadata": {},
   "outputs": [],
   "source": [
    "# Calculate power and store as a new feature\n",
    "df['power'] = df.torque * df.rpm"
   ]
  },
  {
   "cell_type": "code",
   "execution_count": 21,
   "metadata": {
    "scrolled": true
   },
   "outputs": [
    {
     "data": {
      "image/png": "[encoded data removed]",
      "text/plain": [
       "<Figure size 432x288 with 1 Axes>"
      ]
     },
     "metadata": {},
     "output_type": "display_data"
    }
   ],
   "source": [
    "# Display boxplot of power segmented by machine_failure flag\n",
    "\n",
    "# Plot features\n",
    "sns.boxplot(x='machine_fail_flag', y='power', data=df, orient = 'v')\n",
    "\n",
    "plt.show()"
   ]
  },
  {
   "cell_type": "markdown",
   "metadata": {},
   "source": [
    "> **Interpretation:** \n",
    "* Machine failures are associated with higher average power\n",
    "* Machine failures occur across a larger range of power, both higher absolute power (as hypothesized) and lower absolute power (a surprise)\n",
    "* Our earlier interpretation of failures occurring at extremes of RPM or torque is still valid\n"
   ]
  },
  {
   "cell_type": "markdown",
   "metadata": {},
   "source": [
    "Let's explore the following relationships and observe where machine failures occur:\n",
    "*  <code style=\"background:white; color:red; font-weight:bold; font-size:15px\">tool_wear_time></code> vs.  <code style=\"background:white; color:red; font-weight:bold; font-size:15px\">rpm</code>\n",
    "*  <code style=\"background:white; color:red; font-weight:bold; font-size:15px\">tool_wear_time</code> vs.  <code style=\"background:white; color:red; font-weight:bold; font-size:15px\">torque</code>"
   ]
  },
  {
   "cell_type": "code",
   "execution_count": 22,
   "metadata": {},
   "outputs": [
    {
     "data": {
      "image/png": "[encoded data removed]",
      "text/plain": [
       "<Figure size 446.5x360 with 1 Axes>"
      ]
     },
     "metadata": {},
     "output_type": "display_data"
    }
   ],
   "source": [
    "# Scatterplot of rpm vs. tool_wear_time\n",
    "sns.lmplot(x='rpm',\n",
    "           y='tool_wear_time',\n",
    "           hue='machine_fail_flag',\n",
    "           data=df,\n",
    "           fit_reg=False,\n",
    "           scatter_kws={'alpha':0.2},\n",
    "           palette = ['orange', 'dodgerblue']\n",
    "          )\n",
    "plt.show()"
   ]
  },
  {
   "cell_type": "code",
   "execution_count": 23,
   "metadata": {},
   "outputs": [
    {
     "data": {
      "image/png": "[encoded data removed]",
      "text/plain": [
       "<Figure size 446.5x360 with 1 Axes>"
      ]
     },
     "metadata": {},
     "output_type": "display_data"
    }
   ],
   "source": [
    "# Scatterplot of torque vs. tool_wear_time\n",
    "sns.lmplot(x='torque',\n",
    "           y='tool_wear_time',\n",
    "           hue='machine_fail_flag',\n",
    "           data=df,\n",
    "           fit_reg=False,\n",
    "           scatter_kws={'alpha':0.2},\n",
    "           palette = ['orange', 'dodgerblue']\n",
    "          )\n",
    "plt.show()"
   ]
  },
  {
   "cell_type": "markdown",
   "metadata": {},
   "source": [
    "> **Interpretation:**\n",
    "* No obvious relationship exists between RPM and tool wear time, nor between torque and tool wear time\n",
    "* Failures occur over the entire range of tool wear values, but have a higher density above values of ~200\n",
    " * **NOTE:** This grouping can be used for indicator variable/feature creation\n",
    "* Failures tend to occur at extremes of RPM and torque, with more failures at low RPM and high torque regimes, irrespective of the tool wear time. This supports what was seen in the <code style=\"background:white; color:red; font-weight:bold; font-size:15px\">torque</code> vs <code style=\"background:white; color:red; font-weight:bold; font-size:15px\">rpm</code> plot.\n",
    "    \n",
    "* A possible explanation is that RPM and torque extremes are more of a failure concern for low-wear tools. However, tool wear becomes more of a concern across the board once it reaches 200 minutes or higher, especially in high torque/low rpm conditions"
   ]
  },
  {
   "cell_type": "markdown",
   "metadata": {},
   "source": [
    "In considering the overall process, it's possible that the actual torque or RPM of the machine cannot be controlled during the process. That is, they are metrics that represent the state of the machine while it is processing a part.\n",
    "\n",
    "In this case, the product type is an input to the process, and can be viewed as an independent variable, while the torque and RPM are dependent variables.\n",
    "\n",
    "We'll check if the product type influences torque and rpm."
   ]
  },
  {
   "cell_type": "code",
   "execution_count": 24,
   "metadata": {},
   "outputs": [
    {
     "data": {
      "image/png": "[encoded data removed]",
      "text/plain": [
       "<Figure size 432x288 with 1 Axes>"
      ]
     },
     "metadata": {},
     "output_type": "display_data"
    }
   ],
   "source": [
    "# segment torque by product_type and plot distributions\n",
    "sns.boxplot(y='product_type', x='torque', data=df)\n",
    "plt.show()"
   ]
  },
  {
   "cell_type": "code",
   "execution_count": 25,
   "metadata": {},
   "outputs": [
    {
     "data": {
      "image/png": "[encoded data removed]",
      "text/plain": [
       "<Figure size 432x288 with 1 Axes>"
      ]
     },
     "metadata": {},
     "output_type": "display_data"
    }
   ],
   "source": [
    "# segment rpm by product_type and plot distributions\n",
    "sns.boxplot(y='product_type', x='rpm', data=df)\n",
    "plt.show()"
   ]
  },
  {
   "cell_type": "markdown",
   "metadata": {},
   "source": [
    "> **Interpretation:**\n",
    "* Decreases in product quality (as given by product type) are associated with an increase in the number of torque outlier readings, both low and high, and an increased range of values\n",
    "* Decreases in product quality are associated with an increase in the number of RPM high outlier readings\n",
    "\n",
    "* Both of the increases noted above are due in part to the proportion of each product type in the dataset (60% L, 30% M, 10% H). \n",
    "\n",
    "    \n",
    "> These findings align with and support two earlier observations:   \n",
    "* Lower product quality was associated with higher percentages of machine failures:\n",
    " * 69.3% of failures are <code style=\"background:white; color:red; font-weight:bold; font-size:15px\">product_type</code> L\n",
    " * 24.5% of failures are <code style=\"background:white; color:red; font-weight:bold; font-size:15px\">product_type</code> M\n",
    " * 6.2% of failures are <code style=\"background:white; color:red; font-weight:bold; font-size:15px\">product_type</code> H\n",
    "* Machine failures tended to occur at torque and RPM extremes\n",
    "\n",
    "    \n",
    "\n"
   ]
  },
  {
   "cell_type": "markdown",
   "metadata": {},
   "source": [
    "Let's check the relationship between process temperature and air temperature:"
   ]
  },
  {
   "cell_type": "code",
   "execution_count": 26,
   "metadata": {},
   "outputs": [
    {
     "data": {
      "image/png": "[encoded data removed]",
      "text/plain": [
       "<Figure size 446.5x360 with 1 Axes>"
      ]
     },
     "metadata": {},
     "output_type": "display_data"
    }
   ],
   "source": [
    "# Scatterplot of process_temp vs. air_temp\n",
    "x_ax ='air_temp'\n",
    "y_ax ='process_temp'\n",
    "\n",
    "sns.lmplot(x=x_ax,\n",
    "           y=y_ax,\n",
    "           hue='machine_fail_flag',\n",
    "           data=df,\n",
    "           fit_reg=False,\n",
    "           scatter_kws={'alpha':0.3},\n",
    "           palette = ['orange', 'dodgerblue']\n",
    "          )\n",
    "plt.show()"
   ]
  },
  {
   "cell_type": "markdown",
   "metadata": {},
   "source": [
    "> **Interpretation:**\n",
    "* <code style=\"background:white; color:red; font-weight:bold; font-size:15px\">process_temp</code> is directly proportional to <code style=\"background:white; color:red; font-weight:bold; font-size:15px\">air_temp</code>\n",
    "* Few failures occur at low values of either feature\n",
    "* Failures appear to have a higher density for <code style=\"background:white; color:red; font-weight:bold; font-size:15px\">process_temp</code> values above 310 and <code style=\"background:white; color:red; font-weight:bold; font-size:15px\">air_temp</code> values above 302.\n",
    "\n"
   ]
  },
  {
   "cell_type": "markdown",
   "metadata": {},
   "source": [
    "[Return to Top](#toc)"
   ]
  },
  {
   "cell_type": "markdown",
   "metadata": {},
   "source": [
    "### <a id=\"correlations\"><span style=\"color:Black\">3.4 Correlations</span></a>"
   ]
  },
  {
   "cell_type": "markdown",
   "metadata": {},
   "source": [
    "We know from the data dictionary that <code style=\"background:white; color:red; font-weight:bold; font-size:15px\">product_type</code>, a categorical feature, contains values that are ordinal in nature (L, M, H correspond to Low, Medium, High in that order). We'll encode this feature using sequential numbers of 0, 1, 2.\n",
    "\n",
    "This will allow calculations of correlations between <code style=\"background:white; color:red; font-weight:bold; font-size:15px\">product_type</code> and other numeric features."
   ]
  },
  {
   "cell_type": "code",
   "execution_count": 27,
   "metadata": {},
   "outputs": [],
   "source": [
    "# Encode L/M/H as 0/1/2, and store as a new feature\n",
    "df['product_type_numeric'] = df.product_type.replace({'L':0, 'M':1, 'H':2})"
   ]
  },
  {
   "cell_type": "markdown",
   "metadata": {},
   "source": [
    "**Calculate the correlations among the following features:**\n",
    "\n",
    "* <code style=\"background:white; color:black; font-weight:bold; font-size:15px\">product_type_numeric</code>\n",
    "* <code style=\"background:white; color:black; font-weight:bold; font-size:15px\">air_temp</code>\n",
    "* <code style=\"background:white; color:black; font-weight:bold; font-size:15px\">process_temp</code>\n",
    "* <code style=\"background:white; color:black; font-weight:bold; font-size:15px\">rpm</code>\n",
    "* <code style=\"background:white; color:black; font-weight:bold; font-size:15px\">torque</code>\n",
    "* <code style=\"background:white; color:black; font-weight:bold; font-size:15px\">tool_wear_time</code>\n",
    "* <code style=\"background:white; color:black; font-weight:bold; font-size:15px\">power</code>\n",
    "* <code style=\"background:white; color:black; font-weight:bold; font-size:15px\">temp_diff</code>\n",
    "* <code style=\"background:white; color:black; font-weight:bold; font-size:15px\">power</code>"
   ]
  },
  {
   "cell_type": "code",
   "execution_count": 28,
   "metadata": {},
   "outputs": [
    {
     "data": {
      "image/png": "[encoded data removed]",
      "text/plain": [
       "<Figure size 648x576 with 2 Axes>"
      ]
     },
     "metadata": {},
     "output_type": "display_data"
    }
   ],
   "source": [
    "# Create correlation\n",
    "corr = df.corr()\n",
    "col_include = ['product_type_numeric', 'air_temp', 'process_temp','rpm', 'torque', 'tool_wear_time', 'power', 'temp_diff']\n",
    "\n",
    "corr = df[col_include].corr() # omit the record_id from the correlation\n",
    "\n",
    "# Format and display plot\n",
    "plt.figure(figsize=(9,8))\n",
    "sns.set_style('whitegrid')\n",
    "sns.heatmap(corr, annot=True, cmap='RdBu_r', vmin=-1, vmax=1)\n",
    "\n",
    "plt.show()"
   ]
  },
  {
   "cell_type": "markdown",
   "metadata": {},
   "source": [
    "> **Interpretation:**\n",
    "* <code style=\"background:white; color:red; font-weight:bold; font-size:15px\">process_temp</code> and <code style=\"background:white; color:red; font-weight:bold; font-size:15px\">air_temp</code> have a high positive correlation. We saw this in previous graphs.\n",
    "* <code style=\"background:white; color:red; font-weight:bold; font-size:15px\">rpm</code> and <code style=\"background:white; color:red; font-weight:bold; font-size:15px\">torque</code> have a high negative correlation. We saw this in previous graphs.\n",
    "* <code style=\"background:white; color:red; font-weight:bold; font-size:15px\">temp_diff</code> and <code style=\"background:white; color:red; font-weight:bold; font-size:15px\">air_temp</code> have a high negative correlation. This was expected from the feature's calculation and previous graphs.\n",
    "* <code style=\"background:white; color:red; font-weight:bold; font-size:15px\">power</code> is positively correlated with <code style=\"background:white; color:red; font-weight:bold; font-size:15px\">torque</code>, and negatively correlated with <code style=\"background:white; color:red; font-weight:bold; font-size:15px\">rpm</code>. This is supported by previous analyses and the equation for power.\n",
    "* Except for <code style=\"background:white; color:red; font-weight:bold; font-size:15px\">temp_diff</code> and <code style=\"background:white; color:red; font-weight:bold; font-size:15px\">process_temp</code>, correlation between the other variables is essentially zero.\n",
    "    \n",
    "* The correlation matrix results align with previous observations. "
   ]
  },
  {
   "cell_type": "markdown",
   "metadata": {},
   "source": [
    "[Return to Top](#toc)"
   ]
  },
  {
   "cell_type": "markdown",
   "metadata": {},
   "source": [
    "### <a id=\"addquest\"><span style=\"color:Black\">3.5 Additional Exploratory Questions</span></a>"
   ]
  },
  {
   "cell_type": "markdown",
   "metadata": {},
   "source": [
    "We now have some basic information on the dataset to apply to machine learning model development. However, the machine learning model is just one part of a larger solution to address a system/process issue. There are many factors that may impact the process, and thus the data from the process that is collected. \n",
    "\n",
    "Since we're trying to improve the process, it is reasonable to ask questions about the data, the context around how the data was collected, and the process that generated it. Stakeholders can provide key domain knowledge that is not available from the dataset (and its supporting metadata) alone that would aid both model and solution development.\n",
    "\n",
    "Here is a non-exhaustive list of questions to ask the process stakeholders that would greatly aid our analysis:\n",
    "\n",
    "* Who collected the data? Are they familiar with the process?\n",
    "* Is there a person that runs/monitors the machine while in operation?\n",
    "* Are there different people on different shifts that monitor the machine?\n",
    "* How many machines does one person monitor?\n",
    "* What preventative maintenance processes do you have in place now?\n",
    " * How do you monitor maintenance compliance?\n",
    "* How often are the process sensors calibrated?\n",
    "* Does process productivity impact machine operators' or other employees' compensation? Please explain.\n",
    "\n",
    "* Was the data collected under non-standard conditions? For example:\n",
    " * New employees or employee shortage\n",
    " * New vendors\n",
    " * Rush order\n",
    " * Holiday season or slow season\n",
    " * New machining standards\n",
    " * Batch of low-quality parts\n",
    " * Weather impacts\n",
    " * New or malfunctioning sensors\n",
    "* Do the observations in the dataset represent more than one machine?\n",
    " * If not, are datasets from other machines available?\n",
    "\n",
    "* What time period does the dataset cover?\n",
    "* Were any observations omitted from the dataset? If so, what was the reasoning behind it?\n",
    "* What is the sampling frequency of the observations?\n",
    "* Is it possible to get timestamps on the observations?\n",
    "* Is it possible to obtain more granular data (more sensor readings) per processed product?\n",
    "* What do the numeric sensor values represent in relation to the observations?\n",
    " * Maximum value?\n",
    " * Minimum value?\n",
    " * Average value?\n",
    " * For failures, the value at failure or some other value?\n",
    "* How many different vendors supply the product material that is processed?\n",
    "* Can a vendor be associated with a processed product and associated observation?\n",
    "\n",
    "* How quickly can a process be stopped or suspended?\n",
    "* What is the procedure to shut down a process?\n",
    " * Is there a difference between a regular shutdown and an emergency shutdown? If so, please explain.\n",
    "* Can the process be shut down in advance of a machine failure?\n",
    " * Could this be done automatically?\n",
    "* How long does it take to replace a worn tool?\n",
    "* When the process fails, how much time is required to bring it back online?\n",
    "* When the process is stopped for non-failures (e.g., preventative maintenance), how much time is required to bring it back online?\n",
    "* What is the operational schedule for the process (hours per day, days per week, duty cycle, etc.)?\n",
    "* What is the volume of product produced by the process annually?\n",
    "\n",
    "\n",
    "These questions are part of a comprehensive effort to understand as much as possible about the process under review, including any constraints that would affect the development and deployment of the resulting machine learning model."
   ]
  },
  {
   "cell_type": "markdown",
   "metadata": {},
   "source": [
    "**NOTE:** The categories used in a fishbone diagram* can be used to help brainstorm any additional lines of inquiry around possible process issue causes. Think the 6 M's:\n",
    "* Manpower (People)\n",
    "* Material\n",
    "* Machines\n",
    "* Measurement\n",
    "* Methods\n",
    "* Mother Nature (Environment)\n",
    "\n",
    "*The fishbone, or Ishikawa, diagram is one of the basic quality tools used to identify many possible causes for an effect or problem. Please see https://asq.org/quality-resources/fishbone"
   ]
  },
  {
   "cell_type": "markdown",
   "metadata": {},
   "source": [
    "[Return to Top](#toc)"
   ]
  },
  {
   "cell_type": "markdown",
   "metadata": {},
   "source": [
    "### <a id=\"edasum\"><span style=\"color:Black\">3.6 Exploratory Analysis Summary</span></a>"
   ]
  },
  {
   "cell_type": "markdown",
   "metadata": {},
   "source": [
    "\n",
    "#### Summary of what we've done so far:\n",
    "\n",
    "* Explored basic information about the dataset\n",
    "* Performed data cleaning\n",
    " * Checked for duplicates (none)\n",
    " * Checked indicators for unique values, filling in any missing values (no missing values)\n",
    " * Checked for missing data (no missing data)\n",
    " * Checked for any unwanted columns (no extraneous columns at this point)\n",
    " * Engineered a few features to aid in exploratory analysis\n",
    " * Noted possible new features to add\n",
    "* Plotted distributions of numeric and categorical features\n",
    "* Segmented the dataset by <code style=\"background:white; color:red; font-weight:bold; font-size:15px\">machine_fail_flag</code>\n",
    "* Investigated bivariate segmentations\n",
    "* Investigated correlations among the features\n",
    "* Generated a list of additional questions to ask business and process stakeholders\n",
    "\n",
    "The only data cleansing task remaining at this point is to drop any unwanted columns."
   ]
  },
  {
   "cell_type": "markdown",
   "metadata": {},
   "source": [
    "[Return to Top](#toc)"
   ]
  },
  {
   "cell_type": "markdown",
   "metadata": {},
   "source": [
    "## <a id=\"clean\"><span style=\"color:Black\">4.0 Data Cleaning</span></a>"
   ]
  },
  {
   "cell_type": "markdown",
   "metadata": {},
   "source": [
    "As previously described in the dataset metadata, the following failure mode columns were used to create the target variable <code style=\"background:white; color:red; font-weight:bold; font-size:15px\">machine_fail_flag</code>:\n",
    "- <code style=\"background:white; color:black; font-weight:bold; font-size:15px\">TWF</code>\n",
    "- <code style=\"background:white; color:black; font-weight:bold; font-size:15px\">HDF</code>\n",
    "- <code style=\"background:white; color:black; font-weight:bold; font-size:15px\">PWF</code>\n",
    "- <code style=\"background:white; color:black; font-weight:bold; font-size:15px\">OSF</code>\n",
    "- <code style=\"background:white; color:black; font-weight:bold; font-size:15px\">RNF</code>\n",
    "\n",
    "Per our use case described in the note of the [Dataset Features/Attributes](#datasetfeat) section, one won't know this detailed failure information, only that a machine has failed. Therefore, our model should not use them as inputs. \n",
    "\n",
    "The engineered features (<code style=\"background:white; color:red; font-weight:bold; font-size:15px\">power</code> and <code style=\"background:white; color:red; font-weight:bold; font-size:15px\">temp_diff</code>) that were created for exploratory data analysis purposes are also no longer needed.\n",
    "\n",
    "**Let's drop these columns from the dataset.**"
   ]
  },
  {
   "cell_type": "code",
   "execution_count": 29,
   "metadata": {},
   "outputs": [
    {
     "data": {
      "text/html": [
       "<div>\n",
       "<style scoped>\n",
       "    .dataframe tbody tr th:only-of-type {\n",
       "        vertical-align: middle;\n",
       "    }\n",
       "\n",
       "    .dataframe tbody tr th {\n",
       "        vertical-align: top;\n",
       "    }\n",
       "\n",
       "    .dataframe thead th {\n",
       "        text-align: right;\n",
       "    }\n",
       "</style>\n",
       "<table border=\"1\" class=\"dataframe\">\n",
       "  <thead>\n",
       "    <tr style=\"text-align: right;\">\n",
       "      <th></th>\n",
       "      <th>record_id</th>\n",
       "      <th>product_id</th>\n",
       "      <th>product_type</th>\n",
       "      <th>air_temp</th>\n",
       "      <th>process_temp</th>\n",
       "      <th>rpm</th>\n",
       "      <th>torque</th>\n",
       "      <th>tool_wear_time</th>\n",
       "      <th>machine_fail_flag</th>\n",
       "      <th>product_type_numeric</th>\n",
       "    </tr>\n",
       "  </thead>\n",
       "  <tbody>\n",
       "    <tr>\n",
       "      <th>0</th>\n",
       "      <td>1</td>\n",
       "      <td>M14860</td>\n",
       "      <td>M</td>\n",
       "      <td>298.1</td>\n",
       "      <td>308.6</td>\n",
       "      <td>1551</td>\n",
       "      <td>42.8</td>\n",
       "      <td>0</td>\n",
       "      <td>0</td>\n",
       "      <td>1</td>\n",
       "    </tr>\n",
       "    <tr>\n",
       "      <th>1</th>\n",
       "      <td>2</td>\n",
       "      <td>L47181</td>\n",
       "      <td>L</td>\n",
       "      <td>298.2</td>\n",
       "      <td>308.7</td>\n",
       "      <td>1408</td>\n",
       "      <td>46.3</td>\n",
       "      <td>3</td>\n",
       "      <td>0</td>\n",
       "      <td>0</td>\n",
       "    </tr>\n",
       "    <tr>\n",
       "      <th>2</th>\n",
       "      <td>3</td>\n",
       "      <td>L47182</td>\n",
       "      <td>L</td>\n",
       "      <td>298.1</td>\n",
       "      <td>308.5</td>\n",
       "      <td>1498</td>\n",
       "      <td>49.4</td>\n",
       "      <td>5</td>\n",
       "      <td>0</td>\n",
       "      <td>0</td>\n",
       "    </tr>\n",
       "    <tr>\n",
       "      <th>3</th>\n",
       "      <td>4</td>\n",
       "      <td>L47183</td>\n",
       "      <td>L</td>\n",
       "      <td>298.2</td>\n",
       "      <td>308.6</td>\n",
       "      <td>1433</td>\n",
       "      <td>39.5</td>\n",
       "      <td>7</td>\n",
       "      <td>0</td>\n",
       "      <td>0</td>\n",
       "    </tr>\n",
       "    <tr>\n",
       "      <th>4</th>\n",
       "      <td>5</td>\n",
       "      <td>L47184</td>\n",
       "      <td>L</td>\n",
       "      <td>298.2</td>\n",
       "      <td>308.7</td>\n",
       "      <td>1408</td>\n",
       "      <td>40.0</td>\n",
       "      <td>9</td>\n",
       "      <td>0</td>\n",
       "      <td>0</td>\n",
       "    </tr>\n",
       "    <tr>\n",
       "      <th>5</th>\n",
       "      <td>6</td>\n",
       "      <td>M14865</td>\n",
       "      <td>M</td>\n",
       "      <td>298.1</td>\n",
       "      <td>308.6</td>\n",
       "      <td>1425</td>\n",
       "      <td>41.9</td>\n",
       "      <td>11</td>\n",
       "      <td>0</td>\n",
       "      <td>1</td>\n",
       "    </tr>\n",
       "    <tr>\n",
       "      <th>6</th>\n",
       "      <td>7</td>\n",
       "      <td>L47186</td>\n",
       "      <td>L</td>\n",
       "      <td>298.1</td>\n",
       "      <td>308.6</td>\n",
       "      <td>1558</td>\n",
       "      <td>42.4</td>\n",
       "      <td>14</td>\n",
       "      <td>0</td>\n",
       "      <td>0</td>\n",
       "    </tr>\n",
       "    <tr>\n",
       "      <th>7</th>\n",
       "      <td>8</td>\n",
       "      <td>L47187</td>\n",
       "      <td>L</td>\n",
       "      <td>298.1</td>\n",
       "      <td>308.6</td>\n",
       "      <td>1527</td>\n",
       "      <td>40.2</td>\n",
       "      <td>16</td>\n",
       "      <td>0</td>\n",
       "      <td>0</td>\n",
       "    </tr>\n",
       "    <tr>\n",
       "      <th>8</th>\n",
       "      <td>9</td>\n",
       "      <td>M14868</td>\n",
       "      <td>M</td>\n",
       "      <td>298.3</td>\n",
       "      <td>308.7</td>\n",
       "      <td>1667</td>\n",
       "      <td>28.6</td>\n",
       "      <td>18</td>\n",
       "      <td>0</td>\n",
       "      <td>1</td>\n",
       "    </tr>\n",
       "    <tr>\n",
       "      <th>9</th>\n",
       "      <td>10</td>\n",
       "      <td>M14869</td>\n",
       "      <td>M</td>\n",
       "      <td>298.5</td>\n",
       "      <td>309.0</td>\n",
       "      <td>1741</td>\n",
       "      <td>28.0</td>\n",
       "      <td>21</td>\n",
       "      <td>0</td>\n",
       "      <td>1</td>\n",
       "    </tr>\n",
       "  </tbody>\n",
       "</table>\n",
       "</div>"
      ],
      "text/plain": [
       "   record_id product_id product_type  air_temp  process_temp   rpm  torque  \\\n",
       "0          1     M14860            M     298.1         308.6  1551    42.8   \n",
       "1          2     L47181            L     298.2         308.7  1408    46.3   \n",
       "2          3     L47182            L     298.1         308.5  1498    49.4   \n",
       "3          4     L47183            L     298.2         308.6  1433    39.5   \n",
       "4          5     L47184            L     298.2         308.7  1408    40.0   \n",
       "5          6     M14865            M     298.1         308.6  1425    41.9   \n",
       "6          7     L47186            L     298.1         308.6  1558    42.4   \n",
       "7          8     L47187            L     298.1         308.6  1527    40.2   \n",
       "8          9     M14868            M     298.3         308.7  1667    28.6   \n",
       "9         10     M14869            M     298.5         309.0  1741    28.0   \n",
       "\n",
       "   tool_wear_time  machine_fail_flag  product_type_numeric  \n",
       "0               0                  0                     1  \n",
       "1               3                  0                     0  \n",
       "2               5                  0                     0  \n",
       "3               7                  0                     0  \n",
       "4               9                  0                     0  \n",
       "5              11                  0                     1  \n",
       "6              14                  0                     0  \n",
       "7              16                  0                     0  \n",
       "8              18                  0                     1  \n",
       "9              21                  0                     1  "
      ]
     },
     "execution_count": 29,
     "metadata": {},
     "output_type": "execute_result"
    }
   ],
   "source": [
    "# Drop unwanted columns\n",
    "df.drop(['TWF', 'HDF', 'PWF', 'OSF', 'RNF'], axis=1, inplace=True)\n",
    "\n",
    "# Drop the features 'temp_diff' and 'power'\n",
    "df.drop(['temp_diff', 'power'], axis=1, inplace=True)\n",
    "\n",
    "# Display the top of the dataset\n",
    "(df.head(10))"
   ]
  },
  {
   "cell_type": "markdown",
   "metadata": {},
   "source": [
    "\n",
    "**With this remaining data cleaning item completed, we can now move on to feature engineering.**"
   ]
  },
  {
   "cell_type": "markdown",
   "metadata": {},
   "source": [
    "[Return to Top](#toc)"
   ]
  },
  {
   "cell_type": "markdown",
   "metadata": {},
   "source": [
    "## <a id=\"featureeng\"><span style=\"color:Black\">5.0 Feature Engineering</span></a>"
   ]
  },
  {
   "cell_type": "markdown",
   "metadata": {},
   "source": [
    "### <a id=\"addfeature\"><span style=\"color:Black\">5.1 Create and Add New Features</span></a>"
   ]
  },
  {
   "cell_type": "markdown",
   "metadata": {},
   "source": [
    "In the previous section, we created 2 new features to aid in exploratory analysis: <code style=\"background:white; color:red; font-weight:bold; font-size:15px\">temp_diff</code> and <code style=\"background:white; color:red; font-weight:bold; font-size:15px\">power</code>. We also noted he following conditions that appeared to have a cluster of machine failures:\n",
    "* <code style=\"background:white; color:red; font-weight:bold; font-size:15px\">torque >= 45</code>\n",
    "* <code style=\"background:white; color:red; font-weight:bold; font-size:15px\">rpm >= 2500</code>\n",
    "* <code style=\"background:white; color:red; font-weight:bold; font-size:15px\">tool_wear_time >= 200</code>\n",
    " \n",
    "We'll create three new indicator features...\n",
    "\n",
    "* <code style=\"background:white; color:red; font-weight:bold; font-size:15px\">overtorque</code>\n",
    "* <code style=\"background:white; color:red; font-weight:bold; font-size:15px\">overrev</code>\n",
    "* <code style=\"background:white; color:red; font-weight:bold; font-size:15px\">overworn</code>\n",
    "\n",
    "...to flag these conditions."
   ]
  },
  {
   "cell_type": "code",
   "execution_count": 30,
   "metadata": {},
   "outputs": [
    {
     "name": "stdout",
     "output_type": "stream",
     "text": [
      "overtorque    0.3126\n",
      "overrev       0.0032\n",
      "overworn      0.0801\n",
      "dtype: float64\n"
     ]
    }
   ],
   "source": [
    "# Create new indicator features 'overtorque' and 'overrev'\n",
    "mask_overtorque = ((df.torque >= 45)).astype(int)\n",
    "mask_overrev = ((df.rpm >= 2500)).astype(int)\n",
    "mask_overworn = ((df.tool_wear_time >= 200)).astype(int)\n",
    "\n",
    "df['overtorque'] = mask_overtorque\n",
    "df['overrev'] = mask_overrev\n",
    "df['overworn'] = mask_overworn\n",
    "\n",
    "# Display the proportion of observations from the dataset that fall into each of those 3 categories\n",
    "print(df[['overtorque', 'overrev', 'overworn']].mean())"
   ]
  },
  {
   "cell_type": "markdown",
   "metadata": {},
   "source": [
    "> **Observation:**\n",
    "* Based on the scatterplots in the previous section, these proportions appear reasonable."
   ]
  },
  {
   "cell_type": "code",
   "execution_count": 31,
   "metadata": {},
   "outputs": [
    {
     "data": {
      "text/html": [
       "<div>\n",
       "<style scoped>\n",
       "    .dataframe tbody tr th:only-of-type {\n",
       "        vertical-align: middle;\n",
       "    }\n",
       "\n",
       "    .dataframe tbody tr th {\n",
       "        vertical-align: top;\n",
       "    }\n",
       "\n",
       "    .dataframe thead th {\n",
       "        text-align: right;\n",
       "    }\n",
       "</style>\n",
       "<table border=\"1\" class=\"dataframe\">\n",
       "  <thead>\n",
       "    <tr style=\"text-align: right;\">\n",
       "      <th></th>\n",
       "      <th>record_id</th>\n",
       "      <th>product_id</th>\n",
       "      <th>product_type</th>\n",
       "      <th>air_temp</th>\n",
       "      <th>process_temp</th>\n",
       "      <th>rpm</th>\n",
       "      <th>torque</th>\n",
       "      <th>tool_wear_time</th>\n",
       "      <th>machine_fail_flag</th>\n",
       "      <th>product_type_numeric</th>\n",
       "      <th>overtorque</th>\n",
       "      <th>overrev</th>\n",
       "      <th>overworn</th>\n",
       "    </tr>\n",
       "  </thead>\n",
       "  <tbody>\n",
       "    <tr>\n",
       "      <th>0</th>\n",
       "      <td>1</td>\n",
       "      <td>M14860</td>\n",
       "      <td>M</td>\n",
       "      <td>298.1</td>\n",
       "      <td>308.6</td>\n",
       "      <td>1551</td>\n",
       "      <td>42.8</td>\n",
       "      <td>0</td>\n",
       "      <td>0</td>\n",
       "      <td>1</td>\n",
       "      <td>0</td>\n",
       "      <td>0</td>\n",
       "      <td>0</td>\n",
       "    </tr>\n",
       "    <tr>\n",
       "      <th>1</th>\n",
       "      <td>2</td>\n",
       "      <td>L47181</td>\n",
       "      <td>L</td>\n",
       "      <td>298.2</td>\n",
       "      <td>308.7</td>\n",
       "      <td>1408</td>\n",
       "      <td>46.3</td>\n",
       "      <td>3</td>\n",
       "      <td>0</td>\n",
       "      <td>0</td>\n",
       "      <td>1</td>\n",
       "      <td>0</td>\n",
       "      <td>0</td>\n",
       "    </tr>\n",
       "    <tr>\n",
       "      <th>2</th>\n",
       "      <td>3</td>\n",
       "      <td>L47182</td>\n",
       "      <td>L</td>\n",
       "      <td>298.1</td>\n",
       "      <td>308.5</td>\n",
       "      <td>1498</td>\n",
       "      <td>49.4</td>\n",
       "      <td>5</td>\n",
       "      <td>0</td>\n",
       "      <td>0</td>\n",
       "      <td>1</td>\n",
       "      <td>0</td>\n",
       "      <td>0</td>\n",
       "    </tr>\n",
       "    <tr>\n",
       "      <th>3</th>\n",
       "      <td>4</td>\n",
       "      <td>L47183</td>\n",
       "      <td>L</td>\n",
       "      <td>298.2</td>\n",
       "      <td>308.6</td>\n",
       "      <td>1433</td>\n",
       "      <td>39.5</td>\n",
       "      <td>7</td>\n",
       "      <td>0</td>\n",
       "      <td>0</td>\n",
       "      <td>0</td>\n",
       "      <td>0</td>\n",
       "      <td>0</td>\n",
       "    </tr>\n",
       "    <tr>\n",
       "      <th>4</th>\n",
       "      <td>5</td>\n",
       "      <td>L47184</td>\n",
       "      <td>L</td>\n",
       "      <td>298.2</td>\n",
       "      <td>308.7</td>\n",
       "      <td>1408</td>\n",
       "      <td>40.0</td>\n",
       "      <td>9</td>\n",
       "      <td>0</td>\n",
       "      <td>0</td>\n",
       "      <td>0</td>\n",
       "      <td>0</td>\n",
       "      <td>0</td>\n",
       "    </tr>\n",
       "    <tr>\n",
       "      <th>5</th>\n",
       "      <td>6</td>\n",
       "      <td>M14865</td>\n",
       "      <td>M</td>\n",
       "      <td>298.1</td>\n",
       "      <td>308.6</td>\n",
       "      <td>1425</td>\n",
       "      <td>41.9</td>\n",
       "      <td>11</td>\n",
       "      <td>0</td>\n",
       "      <td>1</td>\n",
       "      <td>0</td>\n",
       "      <td>0</td>\n",
       "      <td>0</td>\n",
       "    </tr>\n",
       "    <tr>\n",
       "      <th>6</th>\n",
       "      <td>7</td>\n",
       "      <td>L47186</td>\n",
       "      <td>L</td>\n",
       "      <td>298.1</td>\n",
       "      <td>308.6</td>\n",
       "      <td>1558</td>\n",
       "      <td>42.4</td>\n",
       "      <td>14</td>\n",
       "      <td>0</td>\n",
       "      <td>0</td>\n",
       "      <td>0</td>\n",
       "      <td>0</td>\n",
       "      <td>0</td>\n",
       "    </tr>\n",
       "    <tr>\n",
       "      <th>7</th>\n",
       "      <td>8</td>\n",
       "      <td>L47187</td>\n",
       "      <td>L</td>\n",
       "      <td>298.1</td>\n",
       "      <td>308.6</td>\n",
       "      <td>1527</td>\n",
       "      <td>40.2</td>\n",
       "      <td>16</td>\n",
       "      <td>0</td>\n",
       "      <td>0</td>\n",
       "      <td>0</td>\n",
       "      <td>0</td>\n",
       "      <td>0</td>\n",
       "    </tr>\n",
       "    <tr>\n",
       "      <th>8</th>\n",
       "      <td>9</td>\n",
       "      <td>M14868</td>\n",
       "      <td>M</td>\n",
       "      <td>298.3</td>\n",
       "      <td>308.7</td>\n",
       "      <td>1667</td>\n",
       "      <td>28.6</td>\n",
       "      <td>18</td>\n",
       "      <td>0</td>\n",
       "      <td>1</td>\n",
       "      <td>0</td>\n",
       "      <td>0</td>\n",
       "      <td>0</td>\n",
       "    </tr>\n",
       "    <tr>\n",
       "      <th>9</th>\n",
       "      <td>10</td>\n",
       "      <td>M14869</td>\n",
       "      <td>M</td>\n",
       "      <td>298.5</td>\n",
       "      <td>309.0</td>\n",
       "      <td>1741</td>\n",
       "      <td>28.0</td>\n",
       "      <td>21</td>\n",
       "      <td>0</td>\n",
       "      <td>1</td>\n",
       "      <td>0</td>\n",
       "      <td>0</td>\n",
       "      <td>0</td>\n",
       "    </tr>\n",
       "  </tbody>\n",
       "</table>\n",
       "</div>"
      ],
      "text/plain": [
       "   record_id product_id product_type  air_temp  process_temp   rpm  torque  \\\n",
       "0          1     M14860            M     298.1         308.6  1551    42.8   \n",
       "1          2     L47181            L     298.2         308.7  1408    46.3   \n",
       "2          3     L47182            L     298.1         308.5  1498    49.4   \n",
       "3          4     L47183            L     298.2         308.6  1433    39.5   \n",
       "4          5     L47184            L     298.2         308.7  1408    40.0   \n",
       "5          6     M14865            M     298.1         308.6  1425    41.9   \n",
       "6          7     L47186            L     298.1         308.6  1558    42.4   \n",
       "7          8     L47187            L     298.1         308.6  1527    40.2   \n",
       "8          9     M14868            M     298.3         308.7  1667    28.6   \n",
       "9         10     M14869            M     298.5         309.0  1741    28.0   \n",
       "\n",
       "   tool_wear_time  machine_fail_flag  product_type_numeric  overtorque  \\\n",
       "0               0                  0                     1           0   \n",
       "1               3                  0                     0           1   \n",
       "2               5                  0                     0           1   \n",
       "3               7                  0                     0           0   \n",
       "4               9                  0                     0           0   \n",
       "5              11                  0                     1           0   \n",
       "6              14                  0                     0           0   \n",
       "7              16                  0                     0           0   \n",
       "8              18                  0                     1           0   \n",
       "9              21                  0                     1           0   \n",
       "\n",
       "   overrev  overworn  \n",
       "0        0         0  \n",
       "1        0         0  \n",
       "2        0         0  \n",
       "3        0         0  \n",
       "4        0         0  \n",
       "5        0         0  \n",
       "6        0         0  \n",
       "7        0         0  \n",
       "8        0         0  \n",
       "9        0         0  "
      ]
     },
     "execution_count": 31,
     "metadata": {},
     "output_type": "execute_result"
    }
   ],
   "source": [
    "# Display the top of the dataset\n",
    "(df.head(10))"
   ]
  },
  {
   "cell_type": "markdown",
   "metadata": {},
   "source": [
    "[Return to Top](#toc)"
   ]
  },
  {
   "cell_type": "markdown",
   "metadata": {},
   "source": [
    "### <a id=\"abt\"><span style=\"color:Black\">5.2 Analytical Base Table Construction</span></a>"
   ]
  },
  {
   "cell_type": "markdown",
   "metadata": {},
   "source": [
    "The dataset is almost in the form needed to serve as an analytical base table. There are two attributes that are not needed for modeling activities: <code style=\"background:white; color:red; font-weight:bold; font-size:15px\">record_id</code> and <code style=\"background:white; color:red; font-weight:bold; font-size:15px\">product_id</code>.\n",
    "\n",
    "In order to clean the dataset and enable later analysis, we'll perform the following activities:\n",
    "* Save <code style=\"background:white; color:red; font-weight:bold; font-size:15px\">record_id</code> and <code style=\"background:white; color:red; font-weight:bold; font-size:15px\">product_id</code> to another dataframe\n",
    "* Convert <code style=\"background:white; color:red; font-weight:bold; font-size:15px\">record_id</code> to an index on both the original and new dataframes\n",
    "* Drop <code style=\"background:white; color:red; font-weight:bold; font-size:15px\">product_id</code> from the observations dataframe\n",
    "\n",
    "If needed for later analysis activities, <code style=\"background:white; color:red; font-weight:bold; font-size:15px\">product_id</code> can be joined on the index (<code style=\"background:white; color:red; font-weight:bold; font-size:15px\">record_id</code>) to the observations dataframe."
   ]
  },
  {
   "cell_type": "code",
   "execution_count": 32,
   "metadata": {},
   "outputs": [],
   "source": [
    "# Save record_id and product_id to another dataframe\n",
    "df_product = df[['record_id', 'product_id']]\n",
    "df_product.head()\n",
    "\n",
    "# Convert record_id to an index on both dataframes\n",
    "df = df.set_index('record_id')\n",
    "df_product = df_product.set_index('record_id')\n",
    "\n",
    "# Drop product_id from the observations dataframe\n",
    "df.drop(['product_id'], axis=1, inplace=True)"
   ]
  },
  {
   "cell_type": "code",
   "execution_count": 33,
   "metadata": {},
   "outputs": [
    {
     "data": {
      "text/html": [
       "<div>\n",
       "<style scoped>\n",
       "    .dataframe tbody tr th:only-of-type {\n",
       "        vertical-align: middle;\n",
       "    }\n",
       "\n",
       "    .dataframe tbody tr th {\n",
       "        vertical-align: top;\n",
       "    }\n",
       "\n",
       "    .dataframe thead th {\n",
       "        text-align: right;\n",
       "    }\n",
       "</style>\n",
       "<table border=\"1\" class=\"dataframe\">\n",
       "  <thead>\n",
       "    <tr style=\"text-align: right;\">\n",
       "      <th></th>\n",
       "      <th>product_id</th>\n",
       "    </tr>\n",
       "    <tr>\n",
       "      <th>record_id</th>\n",
       "      <th></th>\n",
       "    </tr>\n",
       "  </thead>\n",
       "  <tbody>\n",
       "    <tr>\n",
       "      <th>1</th>\n",
       "      <td>M14860</td>\n",
       "    </tr>\n",
       "    <tr>\n",
       "      <th>2</th>\n",
       "      <td>L47181</td>\n",
       "    </tr>\n",
       "    <tr>\n",
       "      <th>3</th>\n",
       "      <td>L47182</td>\n",
       "    </tr>\n",
       "    <tr>\n",
       "      <th>4</th>\n",
       "      <td>L47183</td>\n",
       "    </tr>\n",
       "    <tr>\n",
       "      <th>5</th>\n",
       "      <td>L47184</td>\n",
       "    </tr>\n",
       "  </tbody>\n",
       "</table>\n",
       "</div>"
      ],
      "text/plain": [
       "          product_id\n",
       "record_id           \n",
       "1             M14860\n",
       "2             L47181\n",
       "3             L47182\n",
       "4             L47183\n",
       "5             L47184"
      ]
     },
     "execution_count": 33,
     "metadata": {},
     "output_type": "execute_result"
    }
   ],
   "source": [
    "# Check the new dataframe\n",
    "df_product.head()"
   ]
  },
  {
   "cell_type": "markdown",
   "metadata": {},
   "source": [
    "**Verify that the <code style=\"background:white; color:red; font-weight:bold; font-size:15px\">product_id</code> is dropped and <code style=\"background:white; color:red; font-weight:bold; font-size:15px\">record_id</code> is now the index**"
   ]
  },
  {
   "cell_type": "code",
   "execution_count": 34,
   "metadata": {},
   "outputs": [
    {
     "data": {
      "text/html": [
       "<div>\n",
       "<style scoped>\n",
       "    .dataframe tbody tr th:only-of-type {\n",
       "        vertical-align: middle;\n",
       "    }\n",
       "\n",
       "    .dataframe tbody tr th {\n",
       "        vertical-align: top;\n",
       "    }\n",
       "\n",
       "    .dataframe thead th {\n",
       "        text-align: right;\n",
       "    }\n",
       "</style>\n",
       "<table border=\"1\" class=\"dataframe\">\n",
       "  <thead>\n",
       "    <tr style=\"text-align: right;\">\n",
       "      <th></th>\n",
       "      <th>product_type</th>\n",
       "      <th>air_temp</th>\n",
       "      <th>process_temp</th>\n",
       "      <th>rpm</th>\n",
       "      <th>torque</th>\n",
       "      <th>tool_wear_time</th>\n",
       "      <th>machine_fail_flag</th>\n",
       "      <th>product_type_numeric</th>\n",
       "      <th>overtorque</th>\n",
       "      <th>overrev</th>\n",
       "      <th>overworn</th>\n",
       "    </tr>\n",
       "    <tr>\n",
       "      <th>record_id</th>\n",
       "      <th></th>\n",
       "      <th></th>\n",
       "      <th></th>\n",
       "      <th></th>\n",
       "      <th></th>\n",
       "      <th></th>\n",
       "      <th></th>\n",
       "      <th></th>\n",
       "      <th></th>\n",
       "      <th></th>\n",
       "      <th></th>\n",
       "    </tr>\n",
       "  </thead>\n",
       "  <tbody>\n",
       "    <tr>\n",
       "      <th>1</th>\n",
       "      <td>M</td>\n",
       "      <td>298.1</td>\n",
       "      <td>308.6</td>\n",
       "      <td>1551</td>\n",
       "      <td>42.8</td>\n",
       "      <td>0</td>\n",
       "      <td>0</td>\n",
       "      <td>1</td>\n",
       "      <td>0</td>\n",
       "      <td>0</td>\n",
       "      <td>0</td>\n",
       "    </tr>\n",
       "    <tr>\n",
       "      <th>2</th>\n",
       "      <td>L</td>\n",
       "      <td>298.2</td>\n",
       "      <td>308.7</td>\n",
       "      <td>1408</td>\n",
       "      <td>46.3</td>\n",
       "      <td>3</td>\n",
       "      <td>0</td>\n",
       "      <td>0</td>\n",
       "      <td>1</td>\n",
       "      <td>0</td>\n",
       "      <td>0</td>\n",
       "    </tr>\n",
       "    <tr>\n",
       "      <th>3</th>\n",
       "      <td>L</td>\n",
       "      <td>298.1</td>\n",
       "      <td>308.5</td>\n",
       "      <td>1498</td>\n",
       "      <td>49.4</td>\n",
       "      <td>5</td>\n",
       "      <td>0</td>\n",
       "      <td>0</td>\n",
       "      <td>1</td>\n",
       "      <td>0</td>\n",
       "      <td>0</td>\n",
       "    </tr>\n",
       "    <tr>\n",
       "      <th>4</th>\n",
       "      <td>L</td>\n",
       "      <td>298.2</td>\n",
       "      <td>308.6</td>\n",
       "      <td>1433</td>\n",
       "      <td>39.5</td>\n",
       "      <td>7</td>\n",
       "      <td>0</td>\n",
       "      <td>0</td>\n",
       "      <td>0</td>\n",
       "      <td>0</td>\n",
       "      <td>0</td>\n",
       "    </tr>\n",
       "    <tr>\n",
       "      <th>5</th>\n",
       "      <td>L</td>\n",
       "      <td>298.2</td>\n",
       "      <td>308.7</td>\n",
       "      <td>1408</td>\n",
       "      <td>40.0</td>\n",
       "      <td>9</td>\n",
       "      <td>0</td>\n",
       "      <td>0</td>\n",
       "      <td>0</td>\n",
       "      <td>0</td>\n",
       "      <td>0</td>\n",
       "    </tr>\n",
       "  </tbody>\n",
       "</table>\n",
       "</div>"
      ],
      "text/plain": [
       "          product_type  air_temp  process_temp   rpm  torque  tool_wear_time  \\\n",
       "record_id                                                                      \n",
       "1                    M     298.1         308.6  1551    42.8               0   \n",
       "2                    L     298.2         308.7  1408    46.3               3   \n",
       "3                    L     298.1         308.5  1498    49.4               5   \n",
       "4                    L     298.2         308.6  1433    39.5               7   \n",
       "5                    L     298.2         308.7  1408    40.0               9   \n",
       "\n",
       "           machine_fail_flag  product_type_numeric  overtorque  overrev  \\\n",
       "record_id                                                                 \n",
       "1                          0                     1           0        0   \n",
       "2                          0                     0           1        0   \n",
       "3                          0                     0           1        0   \n",
       "4                          0                     0           0        0   \n",
       "5                          0                     0           0        0   \n",
       "\n",
       "           overworn  \n",
       "record_id            \n",
       "1                 0  \n",
       "2                 0  \n",
       "3                 0  \n",
       "4                 0  \n",
       "5                 0  "
      ]
     },
     "execution_count": 34,
     "metadata": {},
     "output_type": "execute_result"
    }
   ],
   "source": [
    "df.head()"
   ]
  },
  {
   "cell_type": "markdown",
   "metadata": {},
   "source": [
    "The only non-numeric column that remains is the categorical feature <code style=\"background:white; color:red; font-weight:bold; font-size:15px\">product_type</code>. This can be changed via converting its contents to dummy variables.\n",
    "\n",
    "**Overwrite the dataframe with a version that has dummy variables for <code style=\"background:white; color:red; font-weight:bold; font-size:15px\">product_type</code>.**"
   ]
  },
  {
   "cell_type": "code",
   "execution_count": 35,
   "metadata": {},
   "outputs": [],
   "source": [
    "# Overwrite dataframe with a version that has dummy variables for product type\n",
    "df = pd.get_dummies(df)"
   ]
  },
  {
   "cell_type": "markdown",
   "metadata": {},
   "source": [
    "**Verify that the dummy variables have been created and there are only numeric values in the dataframe.**"
   ]
  },
  {
   "cell_type": "code",
   "execution_count": 36,
   "metadata": {},
   "outputs": [
    {
     "data": {
      "text/html": [
       "<div>\n",
       "<style scoped>\n",
       "    .dataframe tbody tr th:only-of-type {\n",
       "        vertical-align: middle;\n",
       "    }\n",
       "\n",
       "    .dataframe tbody tr th {\n",
       "        vertical-align: top;\n",
       "    }\n",
       "\n",
       "    .dataframe thead th {\n",
       "        text-align: right;\n",
       "    }\n",
       "</style>\n",
       "<table border=\"1\" class=\"dataframe\">\n",
       "  <thead>\n",
       "    <tr style=\"text-align: right;\">\n",
       "      <th></th>\n",
       "      <th>air_temp</th>\n",
       "      <th>process_temp</th>\n",
       "      <th>rpm</th>\n",
       "      <th>torque</th>\n",
       "      <th>tool_wear_time</th>\n",
       "      <th>machine_fail_flag</th>\n",
       "      <th>product_type_numeric</th>\n",
       "      <th>overtorque</th>\n",
       "      <th>overrev</th>\n",
       "      <th>overworn</th>\n",
       "      <th>product_type_H</th>\n",
       "      <th>product_type_L</th>\n",
       "      <th>product_type_M</th>\n",
       "    </tr>\n",
       "    <tr>\n",
       "      <th>record_id</th>\n",
       "      <th></th>\n",
       "      <th></th>\n",
       "      <th></th>\n",
       "      <th></th>\n",
       "      <th></th>\n",
       "      <th></th>\n",
       "      <th></th>\n",
       "      <th></th>\n",
       "      <th></th>\n",
       "      <th></th>\n",
       "      <th></th>\n",
       "      <th></th>\n",
       "      <th></th>\n",
       "    </tr>\n",
       "  </thead>\n",
       "  <tbody>\n",
       "    <tr>\n",
       "      <th>1</th>\n",
       "      <td>298.1</td>\n",
       "      <td>308.6</td>\n",
       "      <td>1551</td>\n",
       "      <td>42.8</td>\n",
       "      <td>0</td>\n",
       "      <td>0</td>\n",
       "      <td>1</td>\n",
       "      <td>0</td>\n",
       "      <td>0</td>\n",
       "      <td>0</td>\n",
       "      <td>0</td>\n",
       "      <td>0</td>\n",
       "      <td>1</td>\n",
       "    </tr>\n",
       "    <tr>\n",
       "      <th>2</th>\n",
       "      <td>298.2</td>\n",
       "      <td>308.7</td>\n",
       "      <td>1408</td>\n",
       "      <td>46.3</td>\n",
       "      <td>3</td>\n",
       "      <td>0</td>\n",
       "      <td>0</td>\n",
       "      <td>1</td>\n",
       "      <td>0</td>\n",
       "      <td>0</td>\n",
       "      <td>0</td>\n",
       "      <td>1</td>\n",
       "      <td>0</td>\n",
       "    </tr>\n",
       "    <tr>\n",
       "      <th>3</th>\n",
       "      <td>298.1</td>\n",
       "      <td>308.5</td>\n",
       "      <td>1498</td>\n",
       "      <td>49.4</td>\n",
       "      <td>5</td>\n",
       "      <td>0</td>\n",
       "      <td>0</td>\n",
       "      <td>1</td>\n",
       "      <td>0</td>\n",
       "      <td>0</td>\n",
       "      <td>0</td>\n",
       "      <td>1</td>\n",
       "      <td>0</td>\n",
       "    </tr>\n",
       "    <tr>\n",
       "      <th>4</th>\n",
       "      <td>298.2</td>\n",
       "      <td>308.6</td>\n",
       "      <td>1433</td>\n",
       "      <td>39.5</td>\n",
       "      <td>7</td>\n",
       "      <td>0</td>\n",
       "      <td>0</td>\n",
       "      <td>0</td>\n",
       "      <td>0</td>\n",
       "      <td>0</td>\n",
       "      <td>0</td>\n",
       "      <td>1</td>\n",
       "      <td>0</td>\n",
       "    </tr>\n",
       "    <tr>\n",
       "      <th>5</th>\n",
       "      <td>298.2</td>\n",
       "      <td>308.7</td>\n",
       "      <td>1408</td>\n",
       "      <td>40.0</td>\n",
       "      <td>9</td>\n",
       "      <td>0</td>\n",
       "      <td>0</td>\n",
       "      <td>0</td>\n",
       "      <td>0</td>\n",
       "      <td>0</td>\n",
       "      <td>0</td>\n",
       "      <td>1</td>\n",
       "      <td>0</td>\n",
       "    </tr>\n",
       "    <tr>\n",
       "      <th>6</th>\n",
       "      <td>298.1</td>\n",
       "      <td>308.6</td>\n",
       "      <td>1425</td>\n",
       "      <td>41.9</td>\n",
       "      <td>11</td>\n",
       "      <td>0</td>\n",
       "      <td>1</td>\n",
       "      <td>0</td>\n",
       "      <td>0</td>\n",
       "      <td>0</td>\n",
       "      <td>0</td>\n",
       "      <td>0</td>\n",
       "      <td>1</td>\n",
       "    </tr>\n",
       "    <tr>\n",
       "      <th>7</th>\n",
       "      <td>298.1</td>\n",
       "      <td>308.6</td>\n",
       "      <td>1558</td>\n",
       "      <td>42.4</td>\n",
       "      <td>14</td>\n",
       "      <td>0</td>\n",
       "      <td>0</td>\n",
       "      <td>0</td>\n",
       "      <td>0</td>\n",
       "      <td>0</td>\n",
       "      <td>0</td>\n",
       "      <td>1</td>\n",
       "      <td>0</td>\n",
       "    </tr>\n",
       "    <tr>\n",
       "      <th>8</th>\n",
       "      <td>298.1</td>\n",
       "      <td>308.6</td>\n",
       "      <td>1527</td>\n",
       "      <td>40.2</td>\n",
       "      <td>16</td>\n",
       "      <td>0</td>\n",
       "      <td>0</td>\n",
       "      <td>0</td>\n",
       "      <td>0</td>\n",
       "      <td>0</td>\n",
       "      <td>0</td>\n",
       "      <td>1</td>\n",
       "      <td>0</td>\n",
       "    </tr>\n",
       "    <tr>\n",
       "      <th>9</th>\n",
       "      <td>298.3</td>\n",
       "      <td>308.7</td>\n",
       "      <td>1667</td>\n",
       "      <td>28.6</td>\n",
       "      <td>18</td>\n",
       "      <td>0</td>\n",
       "      <td>1</td>\n",
       "      <td>0</td>\n",
       "      <td>0</td>\n",
       "      <td>0</td>\n",
       "      <td>0</td>\n",
       "      <td>0</td>\n",
       "      <td>1</td>\n",
       "    </tr>\n",
       "    <tr>\n",
       "      <th>10</th>\n",
       "      <td>298.5</td>\n",
       "      <td>309.0</td>\n",
       "      <td>1741</td>\n",
       "      <td>28.0</td>\n",
       "      <td>21</td>\n",
       "      <td>0</td>\n",
       "      <td>1</td>\n",
       "      <td>0</td>\n",
       "      <td>0</td>\n",
       "      <td>0</td>\n",
       "      <td>0</td>\n",
       "      <td>0</td>\n",
       "      <td>1</td>\n",
       "    </tr>\n",
       "  </tbody>\n",
       "</table>\n",
       "</div>"
      ],
      "text/plain": [
       "           air_temp  process_temp   rpm  torque  tool_wear_time  \\\n",
       "record_id                                                         \n",
       "1             298.1         308.6  1551    42.8               0   \n",
       "2             298.2         308.7  1408    46.3               3   \n",
       "3             298.1         308.5  1498    49.4               5   \n",
       "4             298.2         308.6  1433    39.5               7   \n",
       "5             298.2         308.7  1408    40.0               9   \n",
       "6             298.1         308.6  1425    41.9              11   \n",
       "7             298.1         308.6  1558    42.4              14   \n",
       "8             298.1         308.6  1527    40.2              16   \n",
       "9             298.3         308.7  1667    28.6              18   \n",
       "10            298.5         309.0  1741    28.0              21   \n",
       "\n",
       "           machine_fail_flag  product_type_numeric  overtorque  overrev  \\\n",
       "record_id                                                                 \n",
       "1                          0                     1           0        0   \n",
       "2                          0                     0           1        0   \n",
       "3                          0                     0           1        0   \n",
       "4                          0                     0           0        0   \n",
       "5                          0                     0           0        0   \n",
       "6                          0                     1           0        0   \n",
       "7                          0                     0           0        0   \n",
       "8                          0                     0           0        0   \n",
       "9                          0                     1           0        0   \n",
       "10                         0                     1           0        0   \n",
       "\n",
       "           overworn  product_type_H  product_type_L  product_type_M  \n",
       "record_id                                                            \n",
       "1                 0               0               0               1  \n",
       "2                 0               0               1               0  \n",
       "3                 0               0               1               0  \n",
       "4                 0               0               1               0  \n",
       "5                 0               0               1               0  \n",
       "6                 0               0               0               1  \n",
       "7                 0               0               1               0  \n",
       "8                 0               0               1               0  \n",
       "9                 0               0               0               1  \n",
       "10                0               0               0               1  "
      ]
     },
     "execution_count": 36,
     "metadata": {},
     "output_type": "execute_result"
    }
   ],
   "source": [
    "df.head(10)"
   ]
  },
  {
   "cell_type": "markdown",
   "metadata": {},
   "source": [
    "We now have a complete analytical base table for model evaluation. However, when the model is deployed in actual practice, there is a use case to consider that will influence the features to include in model training:\n",
    "\n",
    "* Unknown product quality at the process input - It's possible the that product quality (captured by <code style=\"background:white; color:red; font-weight:bold; font-size:15px\">product_type</code>) may not be available as an input to the process.\n",
    "\n",
    "\n",
    "In anticipation of this situation, we'll save two versions of the dataset: one with these quality features (as represented by product_type) and one without. Model evaluation will be done using the dataset with this feature, then for comparison we'll apply the same process to the dataset omitting this feature. \n",
    "\n",
    "In light of the above, we'll create 2 datasets for model evaluation\n",
    "1. With <code style=\"background:white; color:red; font-weight:bold; font-size:15px\">product_type</code> feature\n",
    "2. Without <code style=\"background:white; color:red; font-weight:bold; font-size:15px\">product_type</code> feature\n",
    "\n",
    "We'll start with dataset 1, which will give us a baseline. We'll then use dataset 2 to check how the model results change without the <code style=\"background:white; color:red; font-weight:bold; font-size:15px\">product_type</code> (and associated) features."
   ]
  },
  {
   "cell_type": "markdown",
   "metadata": {},
   "source": [
    "#### Make 2 copies of the current dataframe to facilitate different testing scenarios, then drop features as required."
   ]
  },
  {
   "cell_type": "code",
   "execution_count": 37,
   "metadata": {},
   "outputs": [],
   "source": [
    "df_orig = df.copy()  # copy of the original dataframe\n",
    "\n",
    "df_notype = df.copy() # dataset without product_type attributes\n",
    "df_yestype = df.copy() # dataset with product_type attributes\n",
    "\n",
    "# Drop product_type and associated indicator features from the dataframe\n",
    "df_notype.drop(['product_type_numeric','product_type_H', 'product_type_M', 'product_type_L'], axis=1, inplace=True)\n"
   ]
  },
  {
   "cell_type": "markdown",
   "metadata": {},
   "source": [
    "#### Use the dataset containing <code style=\"background:white; color:red; font-weight:bold; font-size:15px\">product_type</code> attributes:"
   ]
  },
  {
   "cell_type": "code",
   "execution_count": 38,
   "metadata": {},
   "outputs": [
    {
     "data": {
      "text/html": [
       "<div>\n",
       "<style scoped>\n",
       "    .dataframe tbody tr th:only-of-type {\n",
       "        vertical-align: middle;\n",
       "    }\n",
       "\n",
       "    .dataframe tbody tr th {\n",
       "        vertical-align: top;\n",
       "    }\n",
       "\n",
       "    .dataframe thead th {\n",
       "        text-align: right;\n",
       "    }\n",
       "</style>\n",
       "<table border=\"1\" class=\"dataframe\">\n",
       "  <thead>\n",
       "    <tr style=\"text-align: right;\">\n",
       "      <th></th>\n",
       "      <th>air_temp</th>\n",
       "      <th>process_temp</th>\n",
       "      <th>rpm</th>\n",
       "      <th>torque</th>\n",
       "      <th>tool_wear_time</th>\n",
       "      <th>machine_fail_flag</th>\n",
       "      <th>product_type_numeric</th>\n",
       "      <th>overtorque</th>\n",
       "      <th>overrev</th>\n",
       "      <th>overworn</th>\n",
       "      <th>product_type_H</th>\n",
       "      <th>product_type_L</th>\n",
       "      <th>product_type_M</th>\n",
       "    </tr>\n",
       "    <tr>\n",
       "      <th>record_id</th>\n",
       "      <th></th>\n",
       "      <th></th>\n",
       "      <th></th>\n",
       "      <th></th>\n",
       "      <th></th>\n",
       "      <th></th>\n",
       "      <th></th>\n",
       "      <th></th>\n",
       "      <th></th>\n",
       "      <th></th>\n",
       "      <th></th>\n",
       "      <th></th>\n",
       "      <th></th>\n",
       "    </tr>\n",
       "  </thead>\n",
       "  <tbody>\n",
       "    <tr>\n",
       "      <th>1</th>\n",
       "      <td>298.1</td>\n",
       "      <td>308.6</td>\n",
       "      <td>1551</td>\n",
       "      <td>42.8</td>\n",
       "      <td>0</td>\n",
       "      <td>0</td>\n",
       "      <td>1</td>\n",
       "      <td>0</td>\n",
       "      <td>0</td>\n",
       "      <td>0</td>\n",
       "      <td>0</td>\n",
       "      <td>0</td>\n",
       "      <td>1</td>\n",
       "    </tr>\n",
       "    <tr>\n",
       "      <th>2</th>\n",
       "      <td>298.2</td>\n",
       "      <td>308.7</td>\n",
       "      <td>1408</td>\n",
       "      <td>46.3</td>\n",
       "      <td>3</td>\n",
       "      <td>0</td>\n",
       "      <td>0</td>\n",
       "      <td>1</td>\n",
       "      <td>0</td>\n",
       "      <td>0</td>\n",
       "      <td>0</td>\n",
       "      <td>1</td>\n",
       "      <td>0</td>\n",
       "    </tr>\n",
       "    <tr>\n",
       "      <th>3</th>\n",
       "      <td>298.1</td>\n",
       "      <td>308.5</td>\n",
       "      <td>1498</td>\n",
       "      <td>49.4</td>\n",
       "      <td>5</td>\n",
       "      <td>0</td>\n",
       "      <td>0</td>\n",
       "      <td>1</td>\n",
       "      <td>0</td>\n",
       "      <td>0</td>\n",
       "      <td>0</td>\n",
       "      <td>1</td>\n",
       "      <td>0</td>\n",
       "    </tr>\n",
       "    <tr>\n",
       "      <th>4</th>\n",
       "      <td>298.2</td>\n",
       "      <td>308.6</td>\n",
       "      <td>1433</td>\n",
       "      <td>39.5</td>\n",
       "      <td>7</td>\n",
       "      <td>0</td>\n",
       "      <td>0</td>\n",
       "      <td>0</td>\n",
       "      <td>0</td>\n",
       "      <td>0</td>\n",
       "      <td>0</td>\n",
       "      <td>1</td>\n",
       "      <td>0</td>\n",
       "    </tr>\n",
       "    <tr>\n",
       "      <th>5</th>\n",
       "      <td>298.2</td>\n",
       "      <td>308.7</td>\n",
       "      <td>1408</td>\n",
       "      <td>40.0</td>\n",
       "      <td>9</td>\n",
       "      <td>0</td>\n",
       "      <td>0</td>\n",
       "      <td>0</td>\n",
       "      <td>0</td>\n",
       "      <td>0</td>\n",
       "      <td>0</td>\n",
       "      <td>1</td>\n",
       "      <td>0</td>\n",
       "    </tr>\n",
       "    <tr>\n",
       "      <th>6</th>\n",
       "      <td>298.1</td>\n",
       "      <td>308.6</td>\n",
       "      <td>1425</td>\n",
       "      <td>41.9</td>\n",
       "      <td>11</td>\n",
       "      <td>0</td>\n",
       "      <td>1</td>\n",
       "      <td>0</td>\n",
       "      <td>0</td>\n",
       "      <td>0</td>\n",
       "      <td>0</td>\n",
       "      <td>0</td>\n",
       "      <td>1</td>\n",
       "    </tr>\n",
       "    <tr>\n",
       "      <th>7</th>\n",
       "      <td>298.1</td>\n",
       "      <td>308.6</td>\n",
       "      <td>1558</td>\n",
       "      <td>42.4</td>\n",
       "      <td>14</td>\n",
       "      <td>0</td>\n",
       "      <td>0</td>\n",
       "      <td>0</td>\n",
       "      <td>0</td>\n",
       "      <td>0</td>\n",
       "      <td>0</td>\n",
       "      <td>1</td>\n",
       "      <td>0</td>\n",
       "    </tr>\n",
       "    <tr>\n",
       "      <th>8</th>\n",
       "      <td>298.1</td>\n",
       "      <td>308.6</td>\n",
       "      <td>1527</td>\n",
       "      <td>40.2</td>\n",
       "      <td>16</td>\n",
       "      <td>0</td>\n",
       "      <td>0</td>\n",
       "      <td>0</td>\n",
       "      <td>0</td>\n",
       "      <td>0</td>\n",
       "      <td>0</td>\n",
       "      <td>1</td>\n",
       "      <td>0</td>\n",
       "    </tr>\n",
       "    <tr>\n",
       "      <th>9</th>\n",
       "      <td>298.3</td>\n",
       "      <td>308.7</td>\n",
       "      <td>1667</td>\n",
       "      <td>28.6</td>\n",
       "      <td>18</td>\n",
       "      <td>0</td>\n",
       "      <td>1</td>\n",
       "      <td>0</td>\n",
       "      <td>0</td>\n",
       "      <td>0</td>\n",
       "      <td>0</td>\n",
       "      <td>0</td>\n",
       "      <td>1</td>\n",
       "    </tr>\n",
       "    <tr>\n",
       "      <th>10</th>\n",
       "      <td>298.5</td>\n",
       "      <td>309.0</td>\n",
       "      <td>1741</td>\n",
       "      <td>28.0</td>\n",
       "      <td>21</td>\n",
       "      <td>0</td>\n",
       "      <td>1</td>\n",
       "      <td>0</td>\n",
       "      <td>0</td>\n",
       "      <td>0</td>\n",
       "      <td>0</td>\n",
       "      <td>0</td>\n",
       "      <td>1</td>\n",
       "    </tr>\n",
       "  </tbody>\n",
       "</table>\n",
       "</div>"
      ],
      "text/plain": [
       "           air_temp  process_temp   rpm  torque  tool_wear_time  \\\n",
       "record_id                                                         \n",
       "1             298.1         308.6  1551    42.8               0   \n",
       "2             298.2         308.7  1408    46.3               3   \n",
       "3             298.1         308.5  1498    49.4               5   \n",
       "4             298.2         308.6  1433    39.5               7   \n",
       "5             298.2         308.7  1408    40.0               9   \n",
       "6             298.1         308.6  1425    41.9              11   \n",
       "7             298.1         308.6  1558    42.4              14   \n",
       "8             298.1         308.6  1527    40.2              16   \n",
       "9             298.3         308.7  1667    28.6              18   \n",
       "10            298.5         309.0  1741    28.0              21   \n",
       "\n",
       "           machine_fail_flag  product_type_numeric  overtorque  overrev  \\\n",
       "record_id                                                                 \n",
       "1                          0                     1           0        0   \n",
       "2                          0                     0           1        0   \n",
       "3                          0                     0           1        0   \n",
       "4                          0                     0           0        0   \n",
       "5                          0                     0           0        0   \n",
       "6                          0                     1           0        0   \n",
       "7                          0                     0           0        0   \n",
       "8                          0                     0           0        0   \n",
       "9                          0                     1           0        0   \n",
       "10                         0                     1           0        0   \n",
       "\n",
       "           overworn  product_type_H  product_type_L  product_type_M  \n",
       "record_id                                                            \n",
       "1                 0               0               0               1  \n",
       "2                 0               0               1               0  \n",
       "3                 0               0               1               0  \n",
       "4                 0               0               1               0  \n",
       "5                 0               0               1               0  \n",
       "6                 0               0               0               1  \n",
       "7                 0               0               1               0  \n",
       "8                 0               0               1               0  \n",
       "9                 0               0               0               1  \n",
       "10                0               0               0               1  "
      ]
     },
     "execution_count": 38,
     "metadata": {},
     "output_type": "execute_result"
    }
   ],
   "source": [
    "df = df_yestype.copy()\n",
    "df.head(10)"
   ]
  },
  {
   "cell_type": "markdown",
   "metadata": {},
   "source": [
    "\n",
    "**At this point, our working dataset is sufficient to serve as an analytical base table:**\n",
    "* Columns/features have been renamed for clarity\n",
    "* Data has been cleaned and checked\n",
    "* There are no unwanted observations\n",
    "* Categorical features have been converted to indicator/dummy variables\n",
    "* Unnecessary columns have been removed\n",
    "* Exploratory analysis has been leveraged to engineer potential new features\n"
   ]
  },
  {
   "cell_type": "markdown",
   "metadata": {},
   "source": [
    "We'll save this dataframe to a file as a backup for this project and for possible use in other projects:"
   ]
  },
  {
   "cell_type": "code",
   "execution_count": 39,
   "metadata": {},
   "outputs": [],
   "source": [
    "# Save this dataframe as the analytical base table\n",
    "df.to_csv('analytical_base_table_capstone.csv', index=None)"
   ]
  },
  {
   "cell_type": "markdown",
   "metadata": {},
   "source": [
    "With the dataset prepped and backed up, we can now investigate and evaluate classification algorithms."
   ]
  },
  {
   "cell_type": "markdown",
   "metadata": {},
   "source": [
    "[Return to Top](#toc)"
   ]
  },
  {
   "cell_type": "markdown",
   "metadata": {},
   "source": [
    "## <a id=\"algo\"><span style=\"color:Black\">6.0 Algorithm Selection, Model Training and Tuning</span></a>"
   ]
  },
  {
   "cell_type": "markdown",
   "metadata": {},
   "source": [
    "The machine learning task is **classification**:\n",
    "> *Given a set of input features, did a machine fail or not fail.*\n",
    "\n",
    "This is a supervised machine learning task requiring labeled data. In this case, the label is machine failure (0 or 1)\n",
    "\n",
    "The following classification algorithms will be evaluated:\n",
    "* Logistic Regression ($L_1$ and $L_2$ Regularization)\n",
    "* Random Forest\n",
    "* Gradient Boosted Trees\n",
    "\n",
    "These algorithms were chosen due to their widespread use and ability to generate useful results with minimal initial tuning. Random forest and gradient boosted trees are especially effective on imbalanced classes, a situation uncovered during exploratory analysis."
   ]
  },
  {
   "cell_type": "markdown",
   "metadata": {},
   "source": [
    "Rather than randomly selecting an algorithm, we'll create model pipelines to facilitate evaluation of each algorithm and compare the performance of each. Using this method, each model will be both trained and tuned to produce the best results, which then can be compared against those of the other models.\n",
    "\n",
    "The steps are as follows:\n",
    "* Split the dataset into training and test sets\n",
    "* Build a model pipeline dictionary with pipelines for each algorithm\n",
    " * Logistic Regression ($L_1$ and $L_2$ Regularization)\n",
    " * Random Forest\n",
    " * Gradient Boosted Trees\n",
    "* Create hyperparameter grids for each algorithm\n",
    "* Fit and tune the models using cross-validation\n",
    "* Evaluate the models based on various scoring criteria"
   ]
  },
  {
   "cell_type": "markdown",
   "metadata": {},
   "source": [
    "[Return to Top](#toc)"
   ]
  },
  {
   "cell_type": "markdown",
   "metadata": {},
   "source": [
    "### <a id=\"datasplit\"><span style=\"color:Black\">6.1 Split the dataset into training and test sets</span></a>"
   ]
  },
  {
   "cell_type": "markdown",
   "metadata": {},
   "source": [
    "#### Prepare training and test datasets from the dataframe, separating the target variable from the input features."
   ]
  },
  {
   "cell_type": "code",
   "execution_count": 40,
   "metadata": {},
   "outputs": [],
   "source": [
    "# Separate the dataframe into separate objects for the target variable, y, and the input features, X\n",
    "\n",
    "# Target\n",
    "y = df.machine_fail_flag\n",
    "\n",
    "# Input features\n",
    "X = df.drop(['machine_fail_flag'], axis=1)"
   ]
  },
  {
   "cell_type": "markdown",
   "metadata": {},
   "source": [
    "<code style=\"background:white; color:red; font-weight:bold; font-size:15px\">X</code> and <code style=\"background:white; color:red; font-weight:bold; font-size:15px\">y</code> can now be passed to the <code style=\"background:white; color:black; font-weight:bold; font-size:15px\">train_test_split()</code> function. There are function parameters that will be set as follows:\n",
    "* <code style=\"background:white; color:black; font-weight:bold; font-size:15px\">test_size = <span style=\"color:crimson\">0.2</span></code>: Specifies 20% of observations are allocated to the test set.\n",
    "* <code style=\"background:white; color:black; font-weight:bold; font-size:15px\">random_state = <span style=\"color:crimson\">987</span></code>: Allows results to be replicated.\n",
    "* <code style=\"background:white; color:black; font-weight:bold; font-size:15px\">stratify = <span style=\"color:crimson\">df.machine_fail_flag</span></code>: Ensures that the target variable's classes are balanced in each subset of data. (stratified random sampling)"
   ]
  },
  {
   "cell_type": "markdown",
   "metadata": {},
   "source": [
    "#### Verify that the subset split was done correctly."
   ]
  },
  {
   "cell_type": "code",
   "execution_count": 41,
   "metadata": {},
   "outputs": [
    {
     "name": "stdout",
     "output_type": "stream",
     "text": [
      "8000 2000 8000 2000\n",
      "0.033875 0.034\n"
     ]
    }
   ],
   "source": [
    "# Split X and y into training and test sets\n",
    "X_train, X_test, y_train, y_test = train_test_split(X, y, test_size = 0.2, random_state=987, stratify=df.machine_fail_flag)\n",
    "\n",
    "# Print the number of observations and proportion of observations labeled as machine failures\n",
    "print(len(X_train), len(X_test), len(y_train), len(y_test))\n",
    "print(sum(y_train)/len(y_train), sum(y_test)/len(y_test))"
   ]
  },
  {
   "cell_type": "markdown",
   "metadata": {},
   "source": [
    "> * The train/test split is correct. 10,000 observations should result in a split of 8,000 and 2,000.\n",
    "* The proportion of observations labeled as machine failures in the train/test splits are correct. They match that of the full dataset (339 observations/10,000 observations = 0.0339) and each other."
   ]
  },
  {
   "cell_type": "markdown",
   "metadata": {},
   "source": [
    "[Return to Top](#toc)"
   ]
  },
  {
   "cell_type": "markdown",
   "metadata": {},
   "source": [
    "### <a id=\"pipelinedict\"><span style=\"color:Black\">6.2 Build a model pipeline dictionary with pipelines for each algorithm</span></a>"
   ]
  },
  {
   "cell_type": "markdown",
   "metadata": {},
   "source": [
    "#### Create a single pipeline dictionary that contains pipelines for each algorithm."
   ]
  },
  {
   "cell_type": "markdown",
   "metadata": {},
   "source": [
    "* Dictionary keys:\n",
    "    * <code style=\"background:white; color:red; font-weight:bold; font-size:15px\">'l1'</code> for $L_1$-regularized logistic regression\n",
    "    * <code style=\"background:white; color:red; font-weight:bold; font-size:15px\">'l2'</code> for $L_2$-regularized logistic regression\n",
    "    * <code style=\"background:white; color:red; font-weight:bold; font-size:15px\">'rf'</code> for random forest\n",
    "    * <code style=\"background:white; color:red; font-weight:bold; font-size:15px\">'gb'</code> for gradient boosted tree\n",
    "* <code style=\"background:white; color:black; font-weight:bold; font-size:15px\">random_state = <span style=\"color:crimson\">987</span></code>: Allows results to be replicated\n",
    "* Each pipeline should first standardize the data"
   ]
  },
  {
   "cell_type": "code",
   "execution_count": 42,
   "metadata": {},
   "outputs": [],
   "source": [
    "# Create model classes for logistic regression, random forest and gradient boosting\n",
    "l1_lrc = LogisticRegression(penalty='l1', solver='liblinear', random_state=987)\n",
    "l2_lrc = LogisticRegression(penalty='l2', random_state=987)\n",
    "rfc = RandomForestClassifier(random_state=987)\n",
    "gbc = GradientBoostingClassifier(random_state=987)\n",
    "\n",
    "# Create a pipelines dictionary, standardizing the data first\n",
    "pipelines = {\n",
    "    'l1': make_pipeline(StandardScaler(), l1_lrc),\n",
    "    'l2': make_pipeline(StandardScaler(), l2_lrc),\n",
    "    'rf': make_pipeline(StandardScaler(), rfc),\n",
    "    'gb': make_pipeline(StandardScaler(), gbc)\n",
    "}"
   ]
  },
  {
   "cell_type": "code",
   "execution_count": 43,
   "metadata": {},
   "outputs": [],
   "source": [
    "model_name_lkup = {\n",
    "    'l1': 'L1 Regularized Logistic Regression',\n",
    "    'l2': 'L2 Regularized Logistic Regression',\n",
    "    'rf': 'Random Forest',\n",
    "    'gb': 'Gradient Boosted Tree'\n",
    "}"
   ]
  },
  {
   "cell_type": "markdown",
   "metadata": {},
   "source": [
    "With the pipeline dictionary created, tunable hyperparameters for each pipeline can be created/declared."
   ]
  },
  {
   "cell_type": "markdown",
   "metadata": {},
   "source": [
    "[Return to Top](#toc)"
   ]
  },
  {
   "cell_type": "markdown",
   "metadata": {},
   "source": [
    "### <a id=\"grids\"><span style=\"color:Black\">6.3 Create hyperparameter grids for each algorithm</span></a>"
   ]
  },
  {
   "cell_type": "markdown",
   "metadata": {},
   "source": [
    "#### View the hyperparameters for $L_1$ logistic regression. The keys begin with <code style=\"background:white; color:red; font-weight:bold; font-size:15px\">logisticregression__</code>."
   ]
  },
  {
   "cell_type": "code",
   "execution_count": 44,
   "metadata": {},
   "outputs": [
    {
     "data": {
      "text/plain": [
       "{'memory': None,\n",
       " 'steps': [('standardscaler',\n",
       "   StandardScaler(copy=True, with_mean=True, with_std=True)),\n",
       "  ('logisticregression',\n",
       "   LogisticRegression(C=1.0, class_weight=None, dual=False, fit_intercept=True,\n",
       "                      intercept_scaling=1, l1_ratio=None, max_iter=100,\n",
       "                      multi_class='auto', n_jobs=None, penalty='l1',\n",
       "                      random_state=987, solver='liblinear', tol=0.0001, verbose=0,\n",
       "                      warm_start=False))],\n",
       " 'verbose': False,\n",
       " 'standardscaler': StandardScaler(copy=True, with_mean=True, with_std=True),\n",
       " 'logisticregression': LogisticRegression(C=1.0, class_weight=None, dual=False, fit_intercept=True,\n",
       "                    intercept_scaling=1, l1_ratio=None, max_iter=100,\n",
       "                    multi_class='auto', n_jobs=None, penalty='l1',\n",
       "                    random_state=987, solver='liblinear', tol=0.0001, verbose=0,\n",
       "                    warm_start=False),\n",
       " 'standardscaler__copy': True,\n",
       " 'standardscaler__with_mean': True,\n",
       " 'standardscaler__with_std': True,\n",
       " 'logisticregression__C': 1.0,\n",
       " 'logisticregression__class_weight': None,\n",
       " 'logisticregression__dual': False,\n",
       " 'logisticregression__fit_intercept': True,\n",
       " 'logisticregression__intercept_scaling': 1,\n",
       " 'logisticregression__l1_ratio': None,\n",
       " 'logisticregression__max_iter': 100,\n",
       " 'logisticregression__multi_class': 'auto',\n",
       " 'logisticregression__n_jobs': None,\n",
       " 'logisticregression__penalty': 'l1',\n",
       " 'logisticregression__random_state': 987,\n",
       " 'logisticregression__solver': 'liblinear',\n",
       " 'logisticregression__tol': 0.0001,\n",
       " 'logisticregression__verbose': 0,\n",
       " 'logisticregression__warm_start': False}"
      ]
     },
     "execution_count": 44,
     "metadata": {},
     "output_type": "execute_result"
    }
   ],
   "source": [
    "pipelines['l1'].get_params()"
   ]
  },
  {
   "cell_type": "markdown",
   "metadata": {},
   "source": [
    "Since the most impactful hyperparameter for regularized logistic regression is the strength of the penalty, we'll just focus on that for now. It is denoted by <code style=\"background:white; color:red; font-weight:bold; font-size:15px\">C</code> (so the hyperparameter is <code style=\"background:white; color:red; font-weight:bold; font-size:15px\">logisticregression__C</code>). Please note that it is the inverse of regularization strength, so higher values mean weaker penalties.\n",
    "\n",
    "With a default value of 1.0, we'll try values between 0.0001 and 1000. "
   ]
  },
  {
   "cell_type": "markdown",
   "metadata": {},
   "source": [
    "#### Declare the hyperparameter grids for     <code style=\"background:white; color:red; font-weight:bold; font-size:15px\">l1</code>  ($L_1$-regularized logistic regression) and <code style=\"background:white; color:red; font-weight:bold; font-size:15px\">l2</code> ($L_2$-regularized logistic regression):\n",
    "* Set the following values for <code style=\"background:white; color:black; font-weight:bold; font-size:15px\">logisticregression__C:<span style=\"color:crimson\"> 0.001, 0.005, 0.01, 0.05, 0.1, 0.5, 1, 5, 10, 50, 100, 500, and 1000</span></code>"
   ]
  },
  {
   "cell_type": "code",
   "execution_count": 45,
   "metadata": {},
   "outputs": [],
   "source": [
    "# Create a dictionary object to hold the hyperparameter settings for l1 and l2\n",
    "l1_hyperparameters = {\n",
    "    'logisticregression__C':[0.001, 0.005, 0.01, 0.05, 0.1, 0.5, 1, 5, 10, 50, 100, 500, 1000],\n",
    "}\n",
    "\n",
    "l2_hyperparameters = {\n",
    "    'logisticregression__C':[0.001, 0.005, 0.01, 0.05, 0.1, 0.5, 1, 5, 10, 50, 100, 500, 1000]\n",
    "}"
   ]
  },
  {
   "cell_type": "markdown",
   "metadata": {},
   "source": [
    "View the hyperparameters for the random forest pipeline. The keys begin with <code style=\"background:white; color:red; font-weight:bold; font-size:15px\">randomforestclassifier__</code>."
   ]
  },
  {
   "cell_type": "code",
   "execution_count": 46,
   "metadata": {},
   "outputs": [
    {
     "data": {
      "text/plain": [
       "{'memory': None,\n",
       " 'steps': [('standardscaler',\n",
       "   StandardScaler(copy=True, with_mean=True, with_std=True)),\n",
       "  ('randomforestclassifier',\n",
       "   RandomForestClassifier(bootstrap=True, ccp_alpha=0.0, class_weight=None,\n",
       "                          criterion='gini', max_depth=None, max_features='auto',\n",
       "                          max_leaf_nodes=None, max_samples=None,\n",
       "                          min_impurity_decrease=0.0, min_impurity_split=None,\n",
       "                          min_samples_leaf=1, min_samples_split=2,\n",
       "                          min_weight_fraction_leaf=0.0, n_estimators=100,\n",
       "                          n_jobs=None, oob_score=False, random_state=987,\n",
       "                          verbose=0, warm_start=False))],\n",
       " 'verbose': False,\n",
       " 'standardscaler': StandardScaler(copy=True, with_mean=True, with_std=True),\n",
       " 'randomforestclassifier': RandomForestClassifier(bootstrap=True, ccp_alpha=0.0, class_weight=None,\n",
       "                        criterion='gini', max_depth=None, max_features='auto',\n",
       "                        max_leaf_nodes=None, max_samples=None,\n",
       "                        min_impurity_decrease=0.0, min_impurity_split=None,\n",
       "                        min_samples_leaf=1, min_samples_split=2,\n",
       "                        min_weight_fraction_leaf=0.0, n_estimators=100,\n",
       "                        n_jobs=None, oob_score=False, random_state=987,\n",
       "                        verbose=0, warm_start=False),\n",
       " 'standardscaler__copy': True,\n",
       " 'standardscaler__with_mean': True,\n",
       " 'standardscaler__with_std': True,\n",
       " 'randomforestclassifier__bootstrap': True,\n",
       " 'randomforestclassifier__ccp_alpha': 0.0,\n",
       " 'randomforestclassifier__class_weight': None,\n",
       " 'randomforestclassifier__criterion': 'gini',\n",
       " 'randomforestclassifier__max_depth': None,\n",
       " 'randomforestclassifier__max_features': 'auto',\n",
       " 'randomforestclassifier__max_leaf_nodes': None,\n",
       " 'randomforestclassifier__max_samples': None,\n",
       " 'randomforestclassifier__min_impurity_decrease': 0.0,\n",
       " 'randomforestclassifier__min_impurity_split': None,\n",
       " 'randomforestclassifier__min_samples_leaf': 1,\n",
       " 'randomforestclassifier__min_samples_split': 2,\n",
       " 'randomforestclassifier__min_weight_fraction_leaf': 0.0,\n",
       " 'randomforestclassifier__n_estimators': 100,\n",
       " 'randomforestclassifier__n_jobs': None,\n",
       " 'randomforestclassifier__oob_score': False,\n",
       " 'randomforestclassifier__random_state': 987,\n",
       " 'randomforestclassifier__verbose': 0,\n",
       " 'randomforestclassifier__warm_start': False}"
      ]
     },
     "execution_count": 46,
     "metadata": {},
     "output_type": "execute_result"
    }
   ],
   "source": [
    "pipelines['rf'].get_params()"
   ]
  },
  {
   "cell_type": "markdown",
   "metadata": {},
   "source": [
    "The hyperparameters for random forest initial tuning focus are <code style=\"background:white; color:red; font-weight:bold; font-size:15px\">n_estimators, max_features, and min_samples_leaf</code>.\n",
    "\n",
    "\n",
    "#### Declare the hyperparameter grid for the random forest pipeline:\n",
    "* Set <code style=\"background:white; color:black; font-weight:bold; font-size:15px\">randomforestclassifier__n_estimators = <span style=\"color:crimson\">100 and 200</span></code>\n",
    "* Set <code style=\"background:white; color:black; font-weight:bold; font-size:15px\">randomforestclassifier__max_features = <span style=\"color:crimson\">'auto', 'sqrt', and 0.33</span></code>\n",
    "* Set <code style=\"background:white; color:black; font-weight:bold; font-size:15px\">randomforestclassifier__min_samples_leaf = <span style=\"color:crimson\">1, 3, 5, and 10</span></code>"
   ]
  },
  {
   "cell_type": "code",
   "execution_count": 47,
   "metadata": {},
   "outputs": [],
   "source": [
    "# Create a dictionary object to hold the hyperparameter settings for rf\n",
    "rf_hyperparameters = {\n",
    "    'randomforestclassifier__n_estimators': [100, 200], \n",
    "    'randomforestclassifier__max_features': ['auto', 'sqrt', 0.33],\n",
    "    'randomforestclassifier__min_samples_leaf': [1, 3, 5, 10, 20]\n",
    "}"
   ]
  },
  {
   "cell_type": "markdown",
   "metadata": {},
   "source": [
    "View the hyperparameters for the gradient boosted tree pipeline. The keys begin with <code style=\"background:white; color:red; font-weight:bold; font-size:15px\">gradientboostingclassifier__</code>."
   ]
  },
  {
   "cell_type": "code",
   "execution_count": 48,
   "metadata": {},
   "outputs": [
    {
     "data": {
      "text/plain": [
       "{'memory': None,\n",
       " 'steps': [('standardscaler',\n",
       "   StandardScaler(copy=True, with_mean=True, with_std=True)),\n",
       "  ('gradientboostingclassifier',\n",
       "   GradientBoostingClassifier(ccp_alpha=0.0, criterion='friedman_mse', init=None,\n",
       "                              learning_rate=0.1, loss='deviance', max_depth=3,\n",
       "                              max_features=None, max_leaf_nodes=None,\n",
       "                              min_impurity_decrease=0.0, min_impurity_split=None,\n",
       "                              min_samples_leaf=1, min_samples_split=2,\n",
       "                              min_weight_fraction_leaf=0.0, n_estimators=100,\n",
       "                              n_iter_no_change=None, presort='deprecated',\n",
       "                              random_state=987, subsample=1.0, tol=0.0001,\n",
       "                              validation_fraction=0.1, verbose=0,\n",
       "                              warm_start=False))],\n",
       " 'verbose': False,\n",
       " 'standardscaler': StandardScaler(copy=True, with_mean=True, with_std=True),\n",
       " 'gradientboostingclassifier': GradientBoostingClassifier(ccp_alpha=0.0, criterion='friedman_mse', init=None,\n",
       "                            learning_rate=0.1, loss='deviance', max_depth=3,\n",
       "                            max_features=None, max_leaf_nodes=None,\n",
       "                            min_impurity_decrease=0.0, min_impurity_split=None,\n",
       "                            min_samples_leaf=1, min_samples_split=2,\n",
       "                            min_weight_fraction_leaf=0.0, n_estimators=100,\n",
       "                            n_iter_no_change=None, presort='deprecated',\n",
       "                            random_state=987, subsample=1.0, tol=0.0001,\n",
       "                            validation_fraction=0.1, verbose=0,\n",
       "                            warm_start=False),\n",
       " 'standardscaler__copy': True,\n",
       " 'standardscaler__with_mean': True,\n",
       " 'standardscaler__with_std': True,\n",
       " 'gradientboostingclassifier__ccp_alpha': 0.0,\n",
       " 'gradientboostingclassifier__criterion': 'friedman_mse',\n",
       " 'gradientboostingclassifier__init': None,\n",
       " 'gradientboostingclassifier__learning_rate': 0.1,\n",
       " 'gradientboostingclassifier__loss': 'deviance',\n",
       " 'gradientboostingclassifier__max_depth': 3,\n",
       " 'gradientboostingclassifier__max_features': None,\n",
       " 'gradientboostingclassifier__max_leaf_nodes': None,\n",
       " 'gradientboostingclassifier__min_impurity_decrease': 0.0,\n",
       " 'gradientboostingclassifier__min_impurity_split': None,\n",
       " 'gradientboostingclassifier__min_samples_leaf': 1,\n",
       " 'gradientboostingclassifier__min_samples_split': 2,\n",
       " 'gradientboostingclassifier__min_weight_fraction_leaf': 0.0,\n",
       " 'gradientboostingclassifier__n_estimators': 100,\n",
       " 'gradientboostingclassifier__n_iter_no_change': None,\n",
       " 'gradientboostingclassifier__presort': 'deprecated',\n",
       " 'gradientboostingclassifier__random_state': 987,\n",
       " 'gradientboostingclassifier__subsample': 1.0,\n",
       " 'gradientboostingclassifier__tol': 0.0001,\n",
       " 'gradientboostingclassifier__validation_fraction': 0.1,\n",
       " 'gradientboostingclassifier__verbose': 0,\n",
       " 'gradientboostingclassifier__warm_start': False}"
      ]
     },
     "execution_count": 48,
     "metadata": {},
     "output_type": "execute_result"
    }
   ],
   "source": [
    "pipelines['gb'].get_params()"
   ]
  },
  {
   "cell_type": "markdown",
   "metadata": {},
   "source": [
    "The hyperparameters for gradient boosted tree initial tuning focus are <code style=\"background:white; color:red; font-weight:bold; font-size:15px\">n_estimators, learning_rate, and max_depth</code>.\n",
    "\n",
    "\n",
    "#### Declare the hyperparameter grid for the gradient boosted tree pipeline:\n",
    "* Set <code style=\"background:white; color:black; font-weight:bold; font-size:15px\">gradientboostingclassifier__n_estimators = <span style=\"color:crimson\">100 and 200</span></code>\n",
    "* Set <code style=\"background:white; color:black; font-weight:bold; font-size:15px\">gradientboostingclassifier__learning_rate = <span style=\"color:crimson\">0.05, 0.1, and 0.2</span></code>\n",
    "* Set <code style=\"background:white; color:black; font-weight:bold; font-size:15px\">gradientboostingclassifier__max_depth = <span style=\"color:crimson\">1, 3, and 5</span></code>\n"
   ]
  },
  {
   "cell_type": "code",
   "execution_count": 49,
   "metadata": {},
   "outputs": [],
   "source": [
    "# Create a dictionary object to hold the hyperparameter settings for rf\n",
    "gb_hyperparameters = {\n",
    "    'gradientboostingclassifier__n_estimators': [50, 100, 200], \n",
    "    'gradientboostingclassifier__learning_rate': [0.05, 0.1, 0.2, 0.3],\n",
    "    'gradientboostingclassifier__max_depth': [1, 3, 5]\n",
    "}"
   ]
  },
  {
   "cell_type": "markdown",
   "metadata": {},
   "source": [
    "#### Store all the pipeline hyperparameter dictionaries in a single dictionary, using the same keys used in the <code style=\"background:white; color:red; font-weight:bold; font-size:15px\">pipelines</code> dictionary:"
   ]
  },
  {
   "cell_type": "code",
   "execution_count": 50,
   "metadata": {},
   "outputs": [],
   "source": [
    "# Store all pipeline hyperparameter dictionaries in a single dictionary,\n",
    "#    with keys that correspond to those in the piplelines dictionary\n",
    "hyperparameters = {\n",
    "    'l1': l1_hyperparameters,\n",
    "    'l2': l2_hyperparameters,\n",
    "    'rf': rf_hyperparameters,\n",
    "    'gb': gb_hyperparameters\n",
    "}"
   ]
  },
  {
   "cell_type": "markdown",
   "metadata": {},
   "source": [
    "[Return to Top](#toc)"
   ]
  },
  {
   "cell_type": "markdown",
   "metadata": {},
   "source": [
    "### <a id=\"fittune\"><span style=\"color:Black\">6.4 Fit and tune the models using cross-validation</span></a>"
   ]
  },
  {
   "cell_type": "markdown",
   "metadata": {},
   "source": [
    "With the <code style=\"background:white; color:red; font-weight:bold; font-size:15px\">pipelines</code> and <code style=\"background:white; color:red; font-weight:bold; font-size:15px\">hyperparameters</code> dictionaries declared, the models can now be tuned via cross-validation.\n",
    "\n",
    "The <code style=\"background:white; color:red; font-weight:bold; font-size:15px\">GridSearchCV</code> object functionality will be used to find the hyperparameter combination values that yield the best fit on the dataset. Please see https://scikit-learn.org/stable/modules/grid_search.html#exhaustive-grid-search for details."
   ]
  },
  {
   "cell_type": "markdown",
   "metadata": {},
   "source": [
    "#### Create a new dictionary to contain models that have gone through cross-validation tuning, and train/tune the models\n",
    "\n",
    "* Dictionary name: <code style=\"background:white; color:black; font-weight:bold; font-size:15px\">fitted_models</code>\n",
    "* Keys: Those used in the <code style=\"background:white; color:black; font-weight:bold; font-size:15px\">pipelines</code> and <code style=\"background:white; color:black; font-weight:bold; font-size:15px\">hyperparameters</code> dictionaries\n",
    "* Values: Objects that correspond to those in <code style=\"background:white; color:black; font-weight:bold; font-size:15px\">GridSearchCV</code> that have been fitted to the training dataset\n",
    "\n",
    "We'll specify 10-fold cross validation for the tuning exercise."
   ]
  },
  {
   "cell_type": "markdown",
   "metadata": {},
   "source": [
    "**NOTE: The fitting process is computation intensive - it will take a few minutes to complete, dependent on available computing power**"
   ]
  },
  {
   "cell_type": "code",
   "execution_count": 51,
   "metadata": {},
   "outputs": [
    {
     "name": "stdout",
     "output_type": "stream",
     "text": [
      "*** STARTED ***\n",
      "l1 ( L1 Regularized Logistic Regression ) has been fitted in 6.4 sec\n",
      "l2 ( L2 Regularized Logistic Regression ) has been fitted in 1.6 sec\n",
      "rf ( Random Forest ) has been fitted in 74.1 sec\n",
      "gb ( Gradient Boosted Tree ) has been fitted in 97.5 sec\n",
      "*** COMPLETE ***\n"
     ]
    }
   ],
   "source": [
    "# Create a fitted_models dictionary that includes models that have been tuned using cross-validation (10-fold)\n",
    "\n",
    "# Create empty dictionary called fitted_models\n",
    "fitted_models = {}\n",
    "\n",
    "# Loop through the model pipelines, tuning each one and saving it to the fitted_models dictionary\n",
    "print('*** STARTED ***')\n",
    "\n",
    "for name, pipeline in pipelines.items():\n",
    "    loop_start = timer()\n",
    "    model = GridSearchCV(pipeline, hyperparameters[name], cv=10, n_jobs=-1)\n",
    "    \n",
    "    # Fit model on X_train, y_train\n",
    "    model.fit(X_train, y_train)\n",
    "    \n",
    "    # Store model in fitted_models[name] dictionary\n",
    "    fitted_models[name] = model\n",
    "    \n",
    "    # Print out that the model has been fitted along with the elapsed time\n",
    "    loop_end = timer()\n",
    "    elapsed_time = loop_end - loop_start\n",
    "    \n",
    "    print(name, '(', model_name_lkup[name], ') has been fitted in {:0.1f} sec'.format(elapsed_time))\n",
    "    \n",
    "print('*** COMPLETE ***')"
   ]
  },
  {
   "cell_type": "markdown",
   "metadata": {},
   "source": [
    "[Return to Top](#toc)"
   ]
  },
  {
   "cell_type": "markdown",
   "metadata": {},
   "source": [
    "### <a id=\"eval\"><span style=\"color:Black\">6.5 Evaluate the models based on various scoring criteria</span></a>"
   ]
  },
  {
   "cell_type": "markdown",
   "metadata": {},
   "source": [
    "Display the best_score for each of the fitted models via the <code style=\"background:white; color:red; font-weight:bold; font-size:15px\">best_score_</code> attribute."
   ]
  },
  {
   "cell_type": "code",
   "execution_count": 52,
   "metadata": {},
   "outputs": [
    {
     "name": "stdout",
     "output_type": "stream",
     "text": [
      "l1 ( L1 Regularized Logistic Regression ) best_score_:0.9741\n",
      "l2 ( L2 Regularized Logistic Regression ) best_score_:0.9740\n",
      "rf ( Random Forest ) best_score_:0.9821\n",
      "gb ( Gradient Boosted Tree ) best_score_:0.9859\n"
     ]
    }
   ],
   "source": [
    "# Display the best_score_ attribute for each fitted model\n",
    "for name in fitted_models:\n",
    "    print(name, '(', model_name_lkup[name], ') best_score_:{:0.4f}'.format(fitted_models[name].best_score_))"
   ]
  },
  {
   "cell_type": "markdown",
   "metadata": {},
   "source": [
    "> All these scores appear to be very good for all the models, with a low of 97.4% for each of the logistic regression models.\n",
    "\n",
    "However, this number is the average accuracy score for the holdout folds in the cross-fold validation process. Two things to note:\n",
    "* No test data has been run through the models yet, so the resulting accuracy number for the test data may be quite different\n",
    "* Accuracy, or the number of correct predictions by the model, by itself is inadequate for evaluating the performance of a classification model \n",
    "\n",
    "Although the model performance can be evaluated using accuracy (<code style=\"background:white; color:red; font-weight:bold; font-size:15px\">best_score_</code> attribute), this only accounts for true positives and negatives - it is simply the percent of observations correctly classified by the model. It does not account for false positives and false negatives, or incorrect classifications by the model. Depending on the use case, these misclassifications could have more serious implications than correct ones (e.g., medical diagnoses and treatments).\n",
    "\n",
    "We also discovered earlier that the dataset was imbalanced, with 96.61% (1 minus 3.39%) of the observations falling in the machine non-failure class. Thus, if we simply predicted that every observation was a non-failure, we would be correct over 96% of the time. However, that model would not be helpful to us."
   ]
  },
  {
   "cell_type": "markdown",
   "metadata": {},
   "source": [
    "<blockquote><span style=\"background-color:Yellow; font-weight:bold\">For classification models, accuracy alone is not an adequate measure of model performance.</span></blockquote>"
   ]
  },
  {
   "cell_type": "markdown",
   "metadata": {},
   "source": [
    "To account for false positives and false negatives, we'll view the resulting confusion matrix (truth table) for the models. We'll also calculate additional metrics, such as accuracy, True Positive Rate, False Positive Rate, and False Negative Rate.\n",
    "\n",
    "We'll perform the following tasks:\n",
    "* Create functions for activities that will be performed multiple times\n",
    "* Run the test data through all the models to get the predicted classes"
   ]
  },
  {
   "cell_type": "markdown",
   "metadata": {},
   "source": [
    "#### Create functions for activities that will be performed multiple times. This will facilitate model evaluations."
   ]
  },
  {
   "cell_type": "code",
   "execution_count": 53,
   "metadata": {},
   "outputs": [],
   "source": [
    "def display_ref_cmatrix():\n",
    "\n",
    "    # Display the reference confusion matrix template\n",
    "\n",
    "    truth_table = np.array([['--------', 'Predict N', 'Predict P'], ['Actual N','   TN    ', '   FP    '], ['Actual P','   FN    ', '   TP    ']])\n",
    "    print()\n",
    "    print(truth_table)\n",
    "    print()\n",
    "    \n",
    "#\n",
    "#------------- End of function ----------------#\n",
    "#"
   ]
  },
  {
   "cell_type": "code",
   "execution_count": 54,
   "metadata": {},
   "outputs": [],
   "source": [
    "def display_confusion_matrix_plus(p_y_test, p_pred_class, p_model_name = 'Model'):\n",
    "    \n",
    "    # Display the confusion matrix for the passed set of model predictions\n",
    "   \n",
    "    cm = confusion_matrix(p_y_test, p_pred_class)\n",
    "    \n",
    "    print('\\nConfusion Matrix for %s' %p_model_name)\n",
    "    print(cm)\n",
    "    print()\n",
    "\n",
    "    # List out the individual scores, along with the true positve rate and false positve rate\n",
    "\n",
    "    # True Positives (TP)\n",
    "    tp = cm[1][1]\n",
    "    print('True Positives', tp)\n",
    "\n",
    "    # False Positives (FP)\n",
    "    fp = cm[0][1]\n",
    "    print('False Positives', fp)\n",
    "\n",
    "    # True Negatives (TN)\n",
    "    tn = cm[0][0]\n",
    "    print('True Negatives', tn)\n",
    "\n",
    "    # False Negatives (FN)\n",
    "    fn = cm[1][0]\n",
    "    print('False Negatives', fn)\n",
    "\n",
    "    # Calculate metrics\n",
    "    total_pred = (tp+fp+tn+fn)\n",
    "    true_positive_rate = tp / (tp+fn)  # aka Recall, Sensitivity, Hit Rate\n",
    "    false_positive_rate = fp / (fp+tn) # 1-Specificity, Fall-Out Rate\n",
    "    \n",
    "    true_negative_rate =  tn/(tn+fp) # aka Selectivity, Specificity\n",
    "    false_negative_rate =  fn/(fn+tp) # aka Miss Rate\n",
    "\n",
    "    positive_pred_value = tp/(tp+fp)  # aka Precision\n",
    "    negative_pred_value = tn/(tn+fn)\n",
    "\n",
    "    model_accuracy = (tp+tn)/total_pred # fraction of correct predictions\n",
    "\n",
    "    # Print results\n",
    "    print('\\nTotal predictions:', total_pred)\n",
    "    print('\\nAccuracy:', round(model_accuracy, 3))\n",
    "    print('\\nTrue Positive Rate (TPR): {:0.3f}'.format(true_positive_rate)) # alternative rounding method\n",
    "    print('False Positive Rate (FPR):', round(false_positive_rate, 3))\n",
    "    print('Positive Predictive Value (PPV):', round(positive_pred_value, 3))\n",
    "    print('Negative Predictive Value (NPV):', round(negative_pred_value, 3))\n",
    "    \n",
    "    print('True Negative Rate (TNR): {:0.3f}'.format(true_negative_rate)) \n",
    "    print('False Negative Rate (FNR): {:0.3f}'.format(false_negative_rate)) \n",
    "\n",
    "#\n",
    "#------------- End of function ----------------#\n",
    "#"
   ]
  },
  {
   "cell_type": "code",
   "execution_count": 55,
   "metadata": {},
   "outputs": [],
   "source": [
    "def roc_calc_plot(p_y_test, p_pred_prob, p_model_name = 'Model'):\n",
    "\n",
    "    # Calculate and plot the ROC curve given the test set and predictions\n",
    "\n",
    "    # Calculate ROC curve from y and pred\n",
    "    fpr, tpr, thresholds = roc_curve(p_y_test, p_pred_prob)\n",
    "\n",
    "    # Place arrays into a DataFrame\n",
    "    pd.DataFrame({'FPR': fpr, 'TPR': tpr, 'Thresholds': thresholds})\n",
    "\n",
    "    # Initialize the figure\n",
    "    fig = plt.figure(figsize=(6,6))\n",
    "    plt.title('Receiver Operating Characteristic for %s' % p_model_name)\n",
    "\n",
    "    # Plot ROC curve\n",
    "    plt.plot(fpr, tpr, label=p_model_name)\n",
    "    plt.legend(loc='lower right')\n",
    "\n",
    "    # Diagonal 45 degree line\n",
    "    plt.plot([0,1],[0,1], 'k--')\n",
    "\n",
    "    # Axes limits and labels\n",
    "    plt.xlim([-0.1, 1.1])\n",
    "    plt.ylim([-0.1, 1.1])\n",
    "    plt.ylabel('True Positive Rate')\n",
    "    plt.xlabel('False Positve Rate')\n",
    "    plt.show()\n",
    "    \n",
    "#\n",
    "#------------- End of function ----------------#\n",
    "#"
   ]
  },
  {
   "cell_type": "markdown",
   "metadata": {},
   "source": [
    "#### Run the test data through all the models to get the predicted classes:"
   ]
  },
  {
   "cell_type": "code",
   "execution_count": 56,
   "metadata": {},
   "outputs": [
    {
     "name": "stdout",
     "output_type": "stream",
     "text": [
      "\n",
      "[['--------' 'Predict N' 'Predict P']\n",
      " ['Actual N' '   TN    ' '   FP    ']\n",
      " ['Actual P' '   FN    ' '   TP    ']]\n",
      "\n",
      "\n",
      "Confusion Matrix for L1 Regularized Logistic Regression\n",
      "[[1926    6]\n",
      " [  46   22]]\n",
      "\n",
      "True Positives 22\n",
      "False Positives 6\n",
      "True Negatives 1926\n",
      "False Negatives 46\n",
      "\n",
      "Total predictions: 2000\n",
      "\n",
      "Accuracy: 0.974\n",
      "\n",
      "True Positive Rate (TPR): 0.324\n",
      "False Positive Rate (FPR): 0.003\n",
      "Positive Predictive Value (PPV): 0.786\n",
      "Negative Predictive Value (NPV): 0.977\n",
      "True Negative Rate (TNR): 0.997\n",
      "False Negative Rate (FNR): 0.676\n",
      "\n",
      "************************************************************\n",
      "\n",
      "Confusion Matrix for L2 Regularized Logistic Regression\n",
      "[[1926    6]\n",
      " [  46   22]]\n",
      "\n",
      "True Positives 22\n",
      "False Positives 6\n",
      "True Negatives 1926\n",
      "False Negatives 46\n",
      "\n",
      "Total predictions: 2000\n",
      "\n",
      "Accuracy: 0.974\n",
      "\n",
      "True Positive Rate (TPR): 0.324\n",
      "False Positive Rate (FPR): 0.003\n",
      "Positive Predictive Value (PPV): 0.786\n",
      "Negative Predictive Value (NPV): 0.977\n",
      "True Negative Rate (TNR): 0.997\n",
      "False Negative Rate (FNR): 0.676\n",
      "\n",
      "************************************************************\n",
      "\n",
      "Confusion Matrix for Random Forest\n",
      "[[1928    4]\n",
      " [  27   41]]\n",
      "\n",
      "True Positives 41\n",
      "False Positives 4\n",
      "True Negatives 1928\n",
      "False Negatives 27\n",
      "\n",
      "Total predictions: 2000\n",
      "\n",
      "Accuracy: 0.984\n",
      "\n",
      "True Positive Rate (TPR): 0.603\n",
      "False Positive Rate (FPR): 0.002\n",
      "Positive Predictive Value (PPV): 0.911\n",
      "Negative Predictive Value (NPV): 0.986\n",
      "True Negative Rate (TNR): 0.998\n",
      "False Negative Rate (FNR): 0.397\n",
      "\n",
      "************************************************************\n",
      "\n",
      "Confusion Matrix for Gradient Boosted Tree\n",
      "[[1923    9]\n",
      " [  19   49]]\n",
      "\n",
      "True Positives 49\n",
      "False Positives 9\n",
      "True Negatives 1923\n",
      "False Negatives 19\n",
      "\n",
      "Total predictions: 2000\n",
      "\n",
      "Accuracy: 0.986\n",
      "\n",
      "True Positive Rate (TPR): 0.721\n",
      "False Positive Rate (FPR): 0.005\n",
      "Positive Predictive Value (PPV): 0.845\n",
      "Negative Predictive Value (NPV): 0.99\n",
      "True Negative Rate (TNR): 0.995\n",
      "False Negative Rate (FNR): 0.279\n",
      "\n",
      "************************************************************\n"
     ]
    }
   ],
   "source": [
    "# Display the reference matrix\n",
    "display_ref_cmatrix()\n",
    "\n",
    "# Calculate the confusion matrix for each model in the fitted_models dictionary\n",
    "for name, model in fitted_models.items():\n",
    "    \n",
    "    # Get the predicted classes for the named model\n",
    "    pred_class = model.predict(X_test)\n",
    "\n",
    "    display_confusion_matrix_plus(y_test, pred_class, model_name_lkup[name])\n",
    "    \n",
    "    print('\\n************************************************************')"
   ]
  },
  {
   "cell_type": "markdown",
   "metadata": {},
   "source": [
    "So, although the accuracy of all the models is greater than 97%, the TPR (true positive rate) - the percentage of time that the model correctly predicted a machine failure when there was a machine failure - ranges from 32% (logistic regression) to 72% (gradient boosted tree). This means that...\n",
    "\n",
    "* 68% of machine failures were missed by the logistic regression models\n",
    "* 40% of machine failures were missed by the random forest model\n",
    "* 28% of machine failures were missed by the gradient boosted tree model\n",
    "\n",
    "... as reported by the FNR (false negative rate). The results are not very good for logistic regression, but are better for gradient boosted trees by more than a factor of 2. The gradient boosted trees model missed less than half as many failures than the logistic regression models.\n",
    "\n",
    "> These results are not totally unexpected. During our exploratory analysis step, we discovered that the dataset has 339 machine failures out of 10,000 observations, or 3.39%. Thus, over 96% of the observations are non-failures, or roughly 28:1 negative to positive class ratio, which qualifies as an imbalanced class. Both random forests and gradient boosted trees handle imbalanced classes well, which is reflected by their higher TPR than either $L_1$ or $L_2$ regularized logistic regression models.\n",
    "\n",
    "**The area under ROC curve (AUROC) is the more reliable metric for classification tasks, and is especially robust against imbalanced classes. We'll calculate the ROC curves and scores for each of the fitted models.**"
   ]
  },
  {
   "cell_type": "code",
   "execution_count": 57,
   "metadata": {},
   "outputs": [
    {
     "data": {
      "image/png": "[encoded data removed]",
      "text/plain": [
       "<Figure size 432x432 with 1 Axes>"
      ]
     },
     "metadata": {},
     "output_type": "display_data"
    },
    {
     "name": "stdout",
     "output_type": "stream",
     "text": [
      "AUC Score, L1 Regularized Logistic Regression : 0.936\n",
      "\n",
      "************************************************************\n"
     ]
    },
    {
     "data": {
      "image/png": "[encoded data removed]",
      "text/plain": [
       "<Figure size 432x432 with 1 Axes>"
      ]
     },
     "metadata": {},
     "output_type": "display_data"
    },
    {
     "name": "stdout",
     "output_type": "stream",
     "text": [
      "AUC Score, L2 Regularized Logistic Regression : 0.936\n",
      "\n",
      "************************************************************\n"
     ]
    },
    {
     "data": {
      "image/png": "[encoded data removed]",
      "text/plain": [
       "<Figure size 432x432 with 1 Axes>"
      ]
     },
     "metadata": {},
     "output_type": "display_data"
    },
    {
     "name": "stdout",
     "output_type": "stream",
     "text": [
      "AUC Score, Random Forest : 0.951\n",
      "\n",
      "************************************************************\n"
     ]
    },
    {
     "data": {
      "image/png": "[encoded data removed]",
      "text/plain": [
       "<Figure size 432x432 with 1 Axes>"
      ]
     },
     "metadata": {},
     "output_type": "display_data"
    },
    {
     "name": "stdout",
     "output_type": "stream",
     "text": [
      "AUC Score, Gradient Boosted Tree : 0.965\n",
      "\n",
      "************************************************************\n",
      "\n",
      "********** AUC Score Summary **********\n",
      "\n",
      "AUC Score, L1 Regularized Logistic Regression : 0.936\n",
      "AUC Score, L2 Regularized Logistic Regression : 0.936\n",
      "AUC Score, Random Forest : 0.951\n",
      "AUC Score, Gradient Boosted Tree : 0.965\n",
      "\n",
      "The Gradient Boosted Tree model is the best model with an AUC score of 0.965\n"
     ]
    }
   ],
   "source": [
    "# Calculate and plot the ROC curve for each model in the fitted_models dictionary on the test set\n",
    "for name, model in fitted_models.items():\n",
    "    \n",
    "    # Get the predicted classes for the named model\n",
    "    pred_class = model.predict(X_test)\n",
    "\n",
    "    # Predict test set using named model\n",
    "    pred_prob = model.predict_proba(X_test)[:,1]  # probabilities are in the second column\n",
    "\n",
    "    # Calculate and plot the ROC curve\n",
    "    roc_calc_plot(y_test, pred_prob, model_name_lkup[name])\n",
    "    \n",
    "    score = roc_auc_score(y_test, pred_prob)\n",
    "    print('AUC Score,', model_name_lkup[name], ':', round(score, 3))\n",
    "    \n",
    "    print('\\n************************************************************')\n",
    "    \n",
    "# Print the summary of the AUC scores\n",
    "\n",
    "print('\\n********** AUC Score Summary **********\\n')\n",
    "\n",
    "max_score = 0             # variable to hold max AUC score obtained\n",
    "max_score_model = 'NONE'  # variable to hold name of model\n",
    "\n",
    "# Print the AUROC performance of each model in fitted_models on the test set\n",
    "for name, model in fitted_models.items():\n",
    "    \n",
    "    # Predict test set using named model\n",
    "    #pred_class = fitted_models[name].predict(X_test)\n",
    "    pred_prob = model.predict_proba(X_test)[:,1]  # probabilities are in the second column\n",
    "    \n",
    "    score = roc_auc_score(y_test, pred_prob)\n",
    "    \n",
    "    print('AUC Score,', model_name_lkup[name], ':', round(score, 3))\n",
    "    \n",
    "    if score > max_score:\n",
    "        max_score = score\n",
    "        max_score_model = name\n",
    "        \n",
    "print('\\nThe', model_name_lkup[max_score_model], 'model is the best model with an AUC score of {:0.3f}'.format(max_score))\n",
    "    \n",
    "    \n",
    "    "
   ]
  },
  {
   "cell_type": "code",
   "execution_count": 58,
   "metadata": {},
   "outputs": [
    {
     "name": "stdout",
     "output_type": "stream",
     "text": [
      "\n",
      "********** AUC Score Summary **********\n",
      "\n",
      "AUC Score, L1 Regularized Logistic Regression : 0.936\n",
      "AUC Score, L2 Regularized Logistic Regression : 0.936\n",
      "AUC Score, Random Forest : 0.951\n",
      "AUC Score, Gradient Boosted Tree : 0.965\n"
     ]
    }
   ],
   "source": [
    "# Print the summary of the AUC scores\n",
    "\n",
    "print('\\n********** AUC Score Summary **********\\n')\n",
    "\n",
    "# Print the AUROC performance of each model in fitted_models on the test set\n",
    "for name, model in fitted_models.items():\n",
    "    \n",
    "    # Predict test set using named model\n",
    "    pred_prob = model.predict_proba(X_test)[:,1]  # probabilities are in the second column\n",
    "    \n",
    "    score = roc_auc_score(y_test, pred_prob)\n",
    "    \n",
    "    print('AUC Score,', model_name_lkup[name], ':', round(score, 3))"
   ]
  },
  {
   "cell_type": "markdown",
   "metadata": {},
   "source": [
    "> **Interpretation**\n",
    "* All four models perform well, with a minimum AUC score of 0.936\n",
    "* Of the four models tested, the gradient boosted tree has the highest AUC score of 0.965 (it also had the highest cross-validated score of the four models). This means that our gradient boosted tree classifier has a 96.5% chance of distinguishing between a positive class observation and a negative class observation - a very good result.\n",
    "   \n",
    " "
   ]
  },
  {
   "cell_type": "markdown",
   "metadata": {},
   "source": [
    "#### Let's make note of the hyperparameter values that the training model selected in the winning model:"
   ]
  },
  {
   "cell_type": "code",
   "execution_count": 59,
   "metadata": {},
   "outputs": [
    {
     "data": {
      "text/plain": [
       "{'memory': None,\n",
       " 'steps': [('standardscaler',\n",
       "   StandardScaler(copy=True, with_mean=True, with_std=True)),\n",
       "  ('gradientboostingclassifier',\n",
       "   GradientBoostingClassifier(ccp_alpha=0.0, criterion='friedman_mse', init=None,\n",
       "                              learning_rate=0.2, loss='deviance', max_depth=5,\n",
       "                              max_features=None, max_leaf_nodes=None,\n",
       "                              min_impurity_decrease=0.0, min_impurity_split=None,\n",
       "                              min_samples_leaf=1, min_samples_split=2,\n",
       "                              min_weight_fraction_leaf=0.0, n_estimators=100,\n",
       "                              n_iter_no_change=None, presort='deprecated',\n",
       "                              random_state=987, subsample=1.0, tol=0.0001,\n",
       "                              validation_fraction=0.1, verbose=0,\n",
       "                              warm_start=False))],\n",
       " 'verbose': False,\n",
       " 'standardscaler': StandardScaler(copy=True, with_mean=True, with_std=True),\n",
       " 'gradientboostingclassifier': GradientBoostingClassifier(ccp_alpha=0.0, criterion='friedman_mse', init=None,\n",
       "                            learning_rate=0.2, loss='deviance', max_depth=5,\n",
       "                            max_features=None, max_leaf_nodes=None,\n",
       "                            min_impurity_decrease=0.0, min_impurity_split=None,\n",
       "                            min_samples_leaf=1, min_samples_split=2,\n",
       "                            min_weight_fraction_leaf=0.0, n_estimators=100,\n",
       "                            n_iter_no_change=None, presort='deprecated',\n",
       "                            random_state=987, subsample=1.0, tol=0.0001,\n",
       "                            validation_fraction=0.1, verbose=0,\n",
       "                            warm_start=False),\n",
       " 'standardscaler__copy': True,\n",
       " 'standardscaler__with_mean': True,\n",
       " 'standardscaler__with_std': True,\n",
       " 'gradientboostingclassifier__ccp_alpha': 0.0,\n",
       " 'gradientboostingclassifier__criterion': 'friedman_mse',\n",
       " 'gradientboostingclassifier__init': None,\n",
       " 'gradientboostingclassifier__learning_rate': 0.2,\n",
       " 'gradientboostingclassifier__loss': 'deviance',\n",
       " 'gradientboostingclassifier__max_depth': 5,\n",
       " 'gradientboostingclassifier__max_features': None,\n",
       " 'gradientboostingclassifier__max_leaf_nodes': None,\n",
       " 'gradientboostingclassifier__min_impurity_decrease': 0.0,\n",
       " 'gradientboostingclassifier__min_impurity_split': None,\n",
       " 'gradientboostingclassifier__min_samples_leaf': 1,\n",
       " 'gradientboostingclassifier__min_samples_split': 2,\n",
       " 'gradientboostingclassifier__min_weight_fraction_leaf': 0.0,\n",
       " 'gradientboostingclassifier__n_estimators': 100,\n",
       " 'gradientboostingclassifier__n_iter_no_change': None,\n",
       " 'gradientboostingclassifier__presort': 'deprecated',\n",
       " 'gradientboostingclassifier__random_state': 987,\n",
       " 'gradientboostingclassifier__subsample': 1.0,\n",
       " 'gradientboostingclassifier__tol': 0.0001,\n",
       " 'gradientboostingclassifier__validation_fraction': 0.1,\n",
       " 'gradientboostingclassifier__verbose': 0,\n",
       " 'gradientboostingclassifier__warm_start': False}"
      ]
     },
     "execution_count": 59,
     "metadata": {},
     "output_type": "execute_result"
    }
   ],
   "source": [
    "# Get the winning pipeline with its hyperparameters\n",
    "fitted_models['gb'].best_estimator_.get_params()"
   ]
  },
  {
   "cell_type": "markdown",
   "metadata": {},
   "source": [
    "The hyperparameter values for the best gradient boosted tree model are as follows:\n",
    "\n",
    "* <code style=\"background:white; color:black; font-weight:bold; font-size:15px\">n_estimators = <span style=\"color:crimson\">100</span></code>\n",
    "* <code style=\"background:white; color:black; font-weight:bold; font-size:15px\">learning_rate = <span style=\"color:crimson\">0.2</span></code>\n",
    "* <code style=\"background:white; color:black; font-weight:bold; font-size:15px\">max_depth = <span style=\"color:crimson\">5</span></code>\n"
   ]
  },
  {
   "cell_type": "markdown",
   "metadata": {},
   "source": [
    "#### Save the <code style=\"background:white; color:red; font-weight:bold; font-size:15px\">pipeline</code> object for the gradient boosted tree to a pickle file:"
   ]
  },
  {
   "cell_type": "code",
   "execution_count": 60,
   "metadata": {},
   "outputs": [],
   "source": [
    "# Save the gradient boosted tree pipeline object into a pickle file\n",
    "\n",
    "with open('final_trained_model_capstone.pkl', 'wb') as f:\n",
    "    pkl.dump(fitted_models['gb'].best_estimator_, f)"
   ]
  },
  {
   "cell_type": "markdown",
   "metadata": {},
   "source": [
    "[Return to Top](#toc)"
   ]
  },
  {
   "cell_type": "markdown",
   "metadata": {},
   "source": [
    "### <a id=\"alternative\"><span style=\"color:Black\">6.6 Alternative Use Case Evaluation</span></a> "
   ]
  },
  {
   "cell_type": "markdown",
   "metadata": {},
   "source": [
    "Earlier we talked about the use case where product quality (captured by <code style=\"background:white; color:red; font-weight:bold; font-size:15px\">product_type</code>) may not be available as an input to the process. We'll now evaluate the gradient boosted model using the dataset we saved that omitted this feature, and compare the results to those obtained when this feature was available."
   ]
  },
  {
   "cell_type": "markdown",
   "metadata": {},
   "source": [
    "#### Use the dataset that does not contain <code style=\"background:white; color:red; font-weight:bold; font-size:15px\">product_type</code> attributes:"
   ]
  },
  {
   "cell_type": "code",
   "execution_count": 61,
   "metadata": {},
   "outputs": [
    {
     "data": {
      "text/html": [
       "<div>\n",
       "<style scoped>\n",
       "    .dataframe tbody tr th:only-of-type {\n",
       "        vertical-align: middle;\n",
       "    }\n",
       "\n",
       "    .dataframe tbody tr th {\n",
       "        vertical-align: top;\n",
       "    }\n",
       "\n",
       "    .dataframe thead th {\n",
       "        text-align: right;\n",
       "    }\n",
       "</style>\n",
       "<table border=\"1\" class=\"dataframe\">\n",
       "  <thead>\n",
       "    <tr style=\"text-align: right;\">\n",
       "      <th></th>\n",
       "      <th>air_temp</th>\n",
       "      <th>process_temp</th>\n",
       "      <th>rpm</th>\n",
       "      <th>torque</th>\n",
       "      <th>tool_wear_time</th>\n",
       "      <th>machine_fail_flag</th>\n",
       "      <th>overtorque</th>\n",
       "      <th>overrev</th>\n",
       "      <th>overworn</th>\n",
       "    </tr>\n",
       "    <tr>\n",
       "      <th>record_id</th>\n",
       "      <th></th>\n",
       "      <th></th>\n",
       "      <th></th>\n",
       "      <th></th>\n",
       "      <th></th>\n",
       "      <th></th>\n",
       "      <th></th>\n",
       "      <th></th>\n",
       "      <th></th>\n",
       "    </tr>\n",
       "  </thead>\n",
       "  <tbody>\n",
       "    <tr>\n",
       "      <th>1</th>\n",
       "      <td>298.1</td>\n",
       "      <td>308.6</td>\n",
       "      <td>1551</td>\n",
       "      <td>42.8</td>\n",
       "      <td>0</td>\n",
       "      <td>0</td>\n",
       "      <td>0</td>\n",
       "      <td>0</td>\n",
       "      <td>0</td>\n",
       "    </tr>\n",
       "    <tr>\n",
       "      <th>2</th>\n",
       "      <td>298.2</td>\n",
       "      <td>308.7</td>\n",
       "      <td>1408</td>\n",
       "      <td>46.3</td>\n",
       "      <td>3</td>\n",
       "      <td>0</td>\n",
       "      <td>1</td>\n",
       "      <td>0</td>\n",
       "      <td>0</td>\n",
       "    </tr>\n",
       "    <tr>\n",
       "      <th>3</th>\n",
       "      <td>298.1</td>\n",
       "      <td>308.5</td>\n",
       "      <td>1498</td>\n",
       "      <td>49.4</td>\n",
       "      <td>5</td>\n",
       "      <td>0</td>\n",
       "      <td>1</td>\n",
       "      <td>0</td>\n",
       "      <td>0</td>\n",
       "    </tr>\n",
       "    <tr>\n",
       "      <th>4</th>\n",
       "      <td>298.2</td>\n",
       "      <td>308.6</td>\n",
       "      <td>1433</td>\n",
       "      <td>39.5</td>\n",
       "      <td>7</td>\n",
       "      <td>0</td>\n",
       "      <td>0</td>\n",
       "      <td>0</td>\n",
       "      <td>0</td>\n",
       "    </tr>\n",
       "    <tr>\n",
       "      <th>5</th>\n",
       "      <td>298.2</td>\n",
       "      <td>308.7</td>\n",
       "      <td>1408</td>\n",
       "      <td>40.0</td>\n",
       "      <td>9</td>\n",
       "      <td>0</td>\n",
       "      <td>0</td>\n",
       "      <td>0</td>\n",
       "      <td>0</td>\n",
       "    </tr>\n",
       "    <tr>\n",
       "      <th>6</th>\n",
       "      <td>298.1</td>\n",
       "      <td>308.6</td>\n",
       "      <td>1425</td>\n",
       "      <td>41.9</td>\n",
       "      <td>11</td>\n",
       "      <td>0</td>\n",
       "      <td>0</td>\n",
       "      <td>0</td>\n",
       "      <td>0</td>\n",
       "    </tr>\n",
       "    <tr>\n",
       "      <th>7</th>\n",
       "      <td>298.1</td>\n",
       "      <td>308.6</td>\n",
       "      <td>1558</td>\n",
       "      <td>42.4</td>\n",
       "      <td>14</td>\n",
       "      <td>0</td>\n",
       "      <td>0</td>\n",
       "      <td>0</td>\n",
       "      <td>0</td>\n",
       "    </tr>\n",
       "    <tr>\n",
       "      <th>8</th>\n",
       "      <td>298.1</td>\n",
       "      <td>308.6</td>\n",
       "      <td>1527</td>\n",
       "      <td>40.2</td>\n",
       "      <td>16</td>\n",
       "      <td>0</td>\n",
       "      <td>0</td>\n",
       "      <td>0</td>\n",
       "      <td>0</td>\n",
       "    </tr>\n",
       "    <tr>\n",
       "      <th>9</th>\n",
       "      <td>298.3</td>\n",
       "      <td>308.7</td>\n",
       "      <td>1667</td>\n",
       "      <td>28.6</td>\n",
       "      <td>18</td>\n",
       "      <td>0</td>\n",
       "      <td>0</td>\n",
       "      <td>0</td>\n",
       "      <td>0</td>\n",
       "    </tr>\n",
       "    <tr>\n",
       "      <th>10</th>\n",
       "      <td>298.5</td>\n",
       "      <td>309.0</td>\n",
       "      <td>1741</td>\n",
       "      <td>28.0</td>\n",
       "      <td>21</td>\n",
       "      <td>0</td>\n",
       "      <td>0</td>\n",
       "      <td>0</td>\n",
       "      <td>0</td>\n",
       "    </tr>\n",
       "  </tbody>\n",
       "</table>\n",
       "</div>"
      ],
      "text/plain": [
       "           air_temp  process_temp   rpm  torque  tool_wear_time  \\\n",
       "record_id                                                         \n",
       "1             298.1         308.6  1551    42.8               0   \n",
       "2             298.2         308.7  1408    46.3               3   \n",
       "3             298.1         308.5  1498    49.4               5   \n",
       "4             298.2         308.6  1433    39.5               7   \n",
       "5             298.2         308.7  1408    40.0               9   \n",
       "6             298.1         308.6  1425    41.9              11   \n",
       "7             298.1         308.6  1558    42.4              14   \n",
       "8             298.1         308.6  1527    40.2              16   \n",
       "9             298.3         308.7  1667    28.6              18   \n",
       "10            298.5         309.0  1741    28.0              21   \n",
       "\n",
       "           machine_fail_flag  overtorque  overrev  overworn  \n",
       "record_id                                                    \n",
       "1                          0           0        0         0  \n",
       "2                          0           1        0         0  \n",
       "3                          0           1        0         0  \n",
       "4                          0           0        0         0  \n",
       "5                          0           0        0         0  \n",
       "6                          0           0        0         0  \n",
       "7                          0           0        0         0  \n",
       "8                          0           0        0         0  \n",
       "9                          0           0        0         0  \n",
       "10                         0           0        0         0  "
      ]
     },
     "execution_count": 61,
     "metadata": {},
     "output_type": "execute_result"
    }
   ],
   "source": [
    "# Get the dataframe with product_type features removed\n",
    "df = df_notype.copy()\n",
    "df.head(10)"
   ]
  },
  {
   "cell_type": "markdown",
   "metadata": {},
   "source": [
    "#### Fit the model and review the results:"
   ]
  },
  {
   "cell_type": "code",
   "execution_count": 62,
   "metadata": {},
   "outputs": [
    {
     "name": "stdout",
     "output_type": "stream",
     "text": [
      "*** STARTED ***\n",
      "\n",
      "\n",
      "gb ( Gradient Boosted Tree ) has been fitted in 84.7 sec\n",
      "\n",
      "\n",
      "*** COMPLETE ***\n",
      "\n",
      "\n",
      "gb ( Gradient Boosted Tree ) best_score_:0.9851\n",
      "\n",
      "[['--------' 'Predict N' 'Predict P']\n",
      " ['Actual N' '   TN    ' '   FP    ']\n",
      " ['Actual P' '   FN    ' '   TP    ']]\n",
      "\n",
      "\n",
      "Confusion Matrix for Gradient Boosted Tree\n",
      "[[1928    4]\n",
      " [  22   46]]\n",
      "\n",
      "True Positives 46\n",
      "False Positives 4\n",
      "True Negatives 1928\n",
      "False Negatives 22\n",
      "\n",
      "Total predictions: 2000\n",
      "\n",
      "Accuracy: 0.987\n",
      "\n",
      "True Positive Rate (TPR): 0.676\n",
      "False Positive Rate (FPR): 0.002\n",
      "Positive Predictive Value (PPV): 0.92\n",
      "Negative Predictive Value (NPV): 0.989\n",
      "True Negative Rate (TNR): 0.998\n",
      "False Negative Rate (FNR): 0.324\n",
      "\n",
      "********** AUC Score Summary **********\n",
      "\n",
      "AUC Score, Gradient Boosted Tree : 0.963\n"
     ]
    }
   ],
   "source": [
    "# Target and input features\n",
    "y = df.machine_fail_flag\n",
    "X = df.drop(['machine_fail_flag'], axis=1)\n",
    "\n",
    "# Split X and y into training and test sets\n",
    "X_train, X_test, y_train, y_test = train_test_split(X, y, test_size = 0.2, random_state=987, stratify=df.machine_fail_flag)\n",
    "\n",
    "# Fit Gradient Boosted Tree model only\n",
    "selected_model_name = 'gb'\n",
    "\n",
    "# Create empty dictionary called fitted_models_b\n",
    "fitted_models_b = {}\n",
    "\n",
    "# Loop through the model pipelines, tuning each one and saving it to the fitted_models dictionary\n",
    "print('*** STARTED ***')\n",
    "print('\\n')\n",
    "\n",
    "for name, pipeline in pipelines.items():\n",
    "    if name == selected_model_name:\n",
    "        loop_start = timer()\n",
    "        model = GridSearchCV(pipeline, hyperparameters[name], cv=10, n_jobs=-1)\n",
    "\n",
    "        model.fit(X_train, y_train) # Fit model on X_train, y_train\n",
    "    \n",
    "        fitted_models_b[name] = model # Store model in fitted_models[name] dictionary\n",
    "    \n",
    "        # Print elapsed time\n",
    "        loop_end = timer()\n",
    "        elapsed_time = loop_end - loop_start\n",
    "        print(name, '(', model_name_lkup[name], ') has been fitted in {:0.1f} sec'.format(elapsed_time))\n",
    "    \n",
    "print('\\n')\n",
    "print('*** COMPLETE ***')\n",
    "print('\\n')\n",
    "\n",
    "# Display the best_score_ attribute for each fitted model\n",
    "for name in fitted_models_b:\n",
    "    print(name, '(', model_name_lkup[name], ') best_score_:{:0.4f}'.format(fitted_models_b[name].best_score_))\n",
    "    \n",
    "# Display the reference matrix\n",
    "display_ref_cmatrix()\n",
    "\n",
    "# Calculate the confusion matrix for each model in the fitted_models dictionary\n",
    "for name, model in fitted_models_b.items():\n",
    "    \n",
    "    pred_class = model.predict(X_test) # Get the predicted classes for the named model\n",
    "\n",
    "    display_confusion_matrix_plus(y_test, pred_class, model_name_lkup[name])\n",
    "    \n",
    "# Calculate and plot the ROC curve for each model in the fitted_models dictionary on the test set\n",
    "for name, model in fitted_models_b.items():\n",
    "    \n",
    "    # Get the predicted classes for the named model\n",
    "    pred_class = model.predict(X_test)\n",
    "\n",
    "    # Predict test set using named model\n",
    "    pred_prob = model.predict_proba(X_test)[:,1]  # probabilities are in the second column\n",
    "    \n",
    "    score = roc_auc_score(y_test, pred_prob)\n",
    "    #print('AUC Score,', model_name_lkup[name], ':', round(score, 3))\n",
    "    \n",
    "    # Predict test set using named model\n",
    "    pred_prob = model.predict_proba(X_test)[:,1]  # p\n",
    "\n",
    "    # Print the summary of the AUC scores\n",
    "\n",
    "print('\\n********** AUC Score Summary **********\\n')\n",
    "\n",
    "# Print the AUROC performance of each model in fitted_models on the test set\n",
    "for name, model in fitted_models_b.items():\n",
    "\n",
    "# Predict test set using named model\n",
    "    pred_prob = model.predict_proba(X_test)[:,1]  # probabilities are in the second column\n",
    "    score = roc_auc_score(y_test, pred_prob)\n",
    "    \n",
    "    print('AUC Score,', model_name_lkup[name], ':', round(score, 3))\n"
   ]
  },
  {
   "cell_type": "markdown",
   "metadata": {},
   "source": [
    "Even without using the <code style=\"background:white; color:red; font-weight:bold; font-size:15px\">product_type</code> feature, the gradient boosted tree model results are better that those of the logistic regressions and random forest models that did use the <code style=\"background:white; color:red; font-weight:bold; font-size:15px\">product_type</code> feature. The effect of product quality is likely reflected in one or more of the remaining features.\n",
    "\n",
    "Reviewing the confusion matrix results of both gradient boosted models, not having <code style=\"background:white; color:red; font-weight:bold; font-size:15px\">product_type</code> available produces the same accuracy (0.98) a lower True Positive Rate  (0.68 vs. 0.72), a higher Positive Predicted Value (0.92 vs. 0.85), and the same AUC score (0.96). Given that we already have an imbalanced class, these differences are too small to make any material difference between the models.\n",
    "\n",
    "> Thus, if <code style=\"background:white; color:red; font-weight:bold; font-size:15px\">product_type</code> was not available upon model implementation, one should not expend too much effort too obtain it."
   ]
  },
  {
   "cell_type": "markdown",
   "metadata": {},
   "source": [
    "[Return to Top](#toc)"
   ]
  },
  {
   "cell_type": "markdown",
   "metadata": {},
   "source": [
    "## <a id=\"insights\"><span style=\"color:Black\">7.0 Insights and Analysis</span></a>"
   ]
  },
  {
   "cell_type": "markdown",
   "metadata": {},
   "source": [
    "### <a id=\"findings\"><span style=\"color:Black\">7.1 Key Findings</span></a>"
   ]
  },
  {
   "cell_type": "markdown",
   "metadata": {},
   "source": [
    "We successfully trained and tuned a machine learning model that produces superior results given the provided dataset of 10,000 observations, using 20% of them for model testing. Here is a model summary:\n",
    "* Algorithm Type: **Gradient Boosted Tree**\n",
    "* Key hyperparameter values\n",
    " * **n_estimators = 100**\n",
    " * **learning_rate = 0.2**\n",
    " * **max_depth = 5**\n",
    " * Default values used for other hyperparameters\n",
    "* Confusion Matrix (2000 predictions total, 68 actual positives)\n",
    " * **True Positives: 49**\n",
    " * **False Positives: 9**\n",
    " * **True Negatives: 1923**\n",
    " * **False Negatives: 19**\n",
    "* Metrics\n",
    " * **Accuracy: 0.986 (training and test data)**\n",
    " * **True Positive Rate (TPR): 0.721**\n",
    " * **False Positive Rate (FPR): 0.005**\n",
    " * **Positive Predictive Value (PPV): 0.845**\n",
    " * **Negative Predictive Value (NPV): 0.99**\n",
    " * **True Negative Rate (TNR): 0.995**\n",
    " * **False Negative Rate (FNR): 0.279**\n",
    " * **AUC: 0.965**\n",
    "\n",
    "The logistic regression ($L_1$ and $L_2$ Regularization) and random forest algorithms produced excellent AUC scores of 0.936 and 0.951 respectively. However, they produced inferior TPR metrics:\n",
    "* Logistic Regression\n",
    " * True Positive Rate (TPR): 0.324\n",
    "* Random Forest\n",
    " * True Positive Rate (TPR): 0.603\n",
    " \n",
    "The gradient boosted tree model satisfies the project win condition of best possible model with minimal tuning."
   ]
  },
  {
   "cell_type": "markdown",
   "metadata": {},
   "source": [
    "[Return to Top](#toc)"
   ]
  },
  {
   "cell_type": "markdown",
   "metadata": {},
   "source": [
    "### <a id=\"modeling\"><span style=\"color:Black\">7.2 Business Cost Modeling</span></a>"
   ]
  },
  {
   "cell_type": "markdown",
   "metadata": {},
   "source": [
    "Before this ML model is integrated into a existing process, a key question to address is to project how much will it save the business versus what it will cost (e.g., development, building, integration, training, maintenance, etc.). \n",
    "\n",
    "Let's create a very simple cost model to generate some projections. Note there is a cost for every preventative intervention, whether or not there was an impending machine failure, as well as a cost for every missed failure. "
   ]
  },
  {
   "cell_type": "markdown",
   "metadata": {},
   "source": [
    "**Baseline:**\n",
    " * Every unexpected machine failure costs <code style=\"background:white; color:red; font-weight:bold; font-size:15px\">down_time_cost</code>\n",
    "  * This is the aggregate of all costs (parts, labor, downtime, reduced productivity, etc.)\n",
    "\n",
    "**With the model implemented:**\n",
    " * Every predicted (potential) machine failure that is addressed costs <code style=\"background:white; color:red; font-weight:bold; font-size:15px\">0.1 * down_time_cost</code>\n",
    "  * A preventative maintenance event costs **10%** of an emergency break-fix event\n",
    "  * These are the True Positives and False Positives\n",
    "  * False Positives are when unnecessary preventative maintenance was performed\n",
    " * Every missed (potential) machine failure costs <code style=\"background:white; color:red; font-weight:bold; font-size:15px\">down_time_cost</code>\n",
    "  * These are the False Negatives\n",
    "  * This is the situation as when there is no model implemented\n",
    "  "
   ]
  },
  {
   "cell_type": "code",
   "execution_count": 63,
   "metadata": {},
   "outputs": [],
   "source": [
    "def calc_and_display_savings(p_pm_multiplier, p_true_pos, p_false_pos, p_false_neg):\n",
    "\n",
    "    # Simple cost model to inform decision making\n",
    "    # Display cost and savings over baseline\n",
    "\n",
    "    # Fractional cost of preventative maintenance vs. down_time_cost\n",
    "    # If greater than 1, then each preventative maintenance event cost more than an emergency break-fix (down_time_cost)\n",
    "\n",
    "    early_intervention_multiplier = p_pm_multiplier\n",
    "\n",
    "    down_time_cost = 1000 # made-up number for reference\n",
    "    intervention_cost = down_time_cost * early_intervention_multiplier\n",
    "\n",
    "    true_pos = p_true_pos\n",
    "    false_pos = p_false_pos\n",
    "    false_neg = p_false_neg\n",
    "    total_failures = true_pos + false_neg  # total actual positives from confusion matrix construct\n",
    "\n",
    "\n",
    "    # Calculate costs\n",
    "    baseline_cost = down_time_cost * total_failures\n",
    "    maintenance_cost = (intervention_cost * (true_pos + false_pos)) + (down_time_cost * false_neg)\n",
    "\n",
    "    savings = baseline_cost - maintenance_cost    \n",
    "    savings_fract = round((savings / baseline_cost), 2)\n",
    "\n",
    "    # Print results\n",
    "    print('Baseline Cost:', baseline_cost)\n",
    "    print('Maintenance Cost: {:0.0f}'.format(maintenance_cost))\n",
    "    print('Savings: {:0.0f}'.format(savings))\n",
    "    print('Savings (% compared to Baseline): {:0.0%}'.format(savings_fract))\n",
    "\n",
    "#\n",
    "#------------- End of function ----------------#\n",
    "#"
   ]
  },
  {
   "cell_type": "code",
   "execution_count": 64,
   "metadata": {},
   "outputs": [
    {
     "name": "stdout",
     "output_type": "stream",
     "text": [
      "Baseline Cost: 68000\n",
      "Maintenance Cost: 24800\n",
      "Savings: 43200\n",
      "Savings (% compared to Baseline): 64%\n"
     ]
    }
   ],
   "source": [
    "# Calculate the savings based on the model results\n",
    "\n",
    "# Values from the model's confusion matrix\n",
    "true_positives = 49\n",
    "false_positives = 9\n",
    "false_negatives = 19\n",
    "\n",
    "# Fractional cost of preventative maintenance vs. down_time_cost\n",
    "# If greater than 1, then each preventative maintenance event cost more than an emergency break-fix\n",
    "preventative_maint_multiplier = 0.1\n",
    "\n",
    "calc_and_display_savings(preventative_maint_multiplier, true_positives, false_positives, false_negatives)"
   ]
  },
  {
   "cell_type": "markdown",
   "metadata": {},
   "source": [
    "> **Results:**\n",
    "* Based on the costing model and associated assumptions, a preventative maintenance system using the machine learning model as it is currently tuned could result in a savings of 64% over current practices. Note that this does not include any costs around the development or implementation of the machine learning model, and thus represents a rough upper limit on savings."
   ]
  },
  {
   "cell_type": "markdown",
   "metadata": {},
   "source": [
    "Note use of confusion matrix, and that model could be used to compare results of other ML models\n",
    "\n",
    "For comparison, let's run the other ML models through the costing model to see if they generate any savings:"
   ]
  },
  {
   "cell_type": "code",
   "execution_count": 65,
   "metadata": {},
   "outputs": [
    {
     "name": "stdout",
     "output_type": "stream",
     "text": [
      "Baseline Cost: 68000\n",
      "Maintenance Cost: 48800\n",
      "Savings: 19200\n",
      "Savings (% compared to Baseline): 28%\n"
     ]
    }
   ],
   "source": [
    "# Calculate logistic regression model savings\n",
    "\n",
    "true_positives = 22\n",
    "false_positives = 6\n",
    "false_negatives = 46\n",
    "\n",
    "preventative_maint_multiplier = 0.1\n",
    "\n",
    "calc_and_display_savings(preventative_maint_multiplier, true_positives, false_positives, false_negatives)"
   ]
  },
  {
   "cell_type": "code",
   "execution_count": 66,
   "metadata": {},
   "outputs": [
    {
     "name": "stdout",
     "output_type": "stream",
     "text": [
      "Baseline Cost: 68000\n",
      "Maintenance Cost: 31500\n",
      "Savings: 36500\n",
      "Savings (% compared to Baseline): 54%\n"
     ]
    }
   ],
   "source": [
    "# Calculate random forest model savings\n",
    "\n",
    "# Values from the model's confusion matrix\n",
    "true_positives = 41\n",
    "false_positives = 4\n",
    "false_negatives = 27\n",
    "\n",
    "preventative_maint_multiplier = 0.1\n",
    "\n",
    "calc_and_display_savings(preventative_maint_multiplier, true_positives, false_positives, false_negatives)"
   ]
  },
  {
   "cell_type": "markdown",
   "metadata": {},
   "source": [
    "> **Results:**\n",
    "* Even though the logistic regression and random forest models did not perform as well as the gradient boosted tree, each of the models produces a savings over baseline when plugged into the costing model.\n",
    "\n",
    "\n",
    "These results highlight the importance of having a realistic win/success condition that is based on knowledge of the domain. One may be able to quickly implement an ML model if mediocre model outputs result in meeting the business goal (such as dollars saved). Conversely, one may determine that even a highly performant ML model may not help in meeting business goals due to implementation costs or barriers to implementation (e.g., timing, dependence on other processes, existing business policies, etc.).\n",
    "\n",
    "> For example, in the simple costing model above, if the costs of an operational preventative maintenance program (which includes the ML model) are >=85% of down time costs, the gradient boosted model shows no savings. In this case, implementing the ML model may not even be worth the hassle.\n"
   ]
  },
  {
   "cell_type": "markdown",
   "metadata": {},
   "source": [
    "[Return to Top](#toc)"
   ]
  },
  {
   "cell_type": "markdown",
   "metadata": {},
   "source": [
    "### <a id=\"nextsteps\"><span style=\"color:Black\">7.3 Summary and Recommended Next Steps</span></a>"
   ]
  },
  {
   "cell_type": "markdown",
   "metadata": {},
   "source": [
    "In summary:\n",
    "* Given the available dataset, a machine learning model was developed that exhibited high performance with minimal tuning\n",
    "* With an appropriate predictive maintenance machine learning model in place, process waste (in the form of unnecessary repair and process down time) can be greatly reduced\n",
    "* Actual predictive maintenance savings and process revenue improvement is dependent on existing business processes and implementation costs\n",
    "* Obtaining process data to cover additional use cases and processes that the business encounters can be used to generate better, more targeted models\n",
    "* With more detailed cost modeling, a more accurate ROI can be calculated to justify further development efforts by the business in this space\n",
    "\n",
    "Given more time and resources, obtaining data in the following areas would aid in refining savings projections:\n",
    "* Production statistics on the product that is created by the process\n",
    "* Machine operations\n",
    " * More granular time-series sensor data\n",
    " * Utilization\n",
    " * Downtime\n",
    " * Maintenance costs\n",
    "* ML model development and implementation\n",
    "* Scheduling costs\n",
    "* Personnel costs\n",
    "* Inventory costs\n",
    "* Any other associated costs\n",
    "* Business and/or regulatory policies associated with the process\n",
    "\n",
    "Business leaders could then compare the preventative maintenance program costs to the potential savings and make an informed business decision regarding project funding and subsequent program development.\n",
    "\n",
    "Use of the questions posed in the [3.5 Additional Exploratory Questions](#addquest) section would aid in building the list of needed data. These questions would also help determine the viability of different solutions pieces, since multiple stakeholders' input would provide added context that may be missing from the analysis. Getting answers to critical questions early in the project would allow redirection of efforts, if necessary, to more creative and cost-effective solutions.\n",
    "\n"
   ]
  },
  {
   "cell_type": "markdown",
   "metadata": {},
   "source": [
    "[Return to Top](#toc)"
   ]
  },
  {
   "cell_type": "markdown",
   "metadata": {},
   "source": [
    "## <a id=\"references\"><span style=\"color:Black\">8.0 Acknowledgements/References</span></a>"
   ]
  },
  {
   "cell_type": "markdown",
   "metadata": {},
   "source": [
    "Matzka, S. (2020). UCI Machine Learning Repository [http://archive.ics.uci.edu/ml]. Irvine, CA: University of California, School of Information and Computer Science.\n",
    "\n",
    "Wikipedia, The Free Encyclopedia, s.v. \"Confusion Matrix,\" (accessed February 17, 2022), https://en.wikipedia.org/w/index.php?title=Sensitivity_and_specificity&oldid=1074868256\n",
    "\n",
    "Wikipedia, The Free Encyclopedia, s.v. \"Confusion Matrix,\" (accessed February 17, 2022), https://en.wikipedia.org/w/index.php?title=Confusion_matrix&oldid=1058352752"
   ]
  },
  {
   "cell_type": "markdown",
   "metadata": {},
   "source": [
    "[Return to Top](#toc)"
   ]
  }
 ],
 "metadata": {
  "kernelspec": {
   "display_name": "Python 3",
   "language": "python",
   "name": "python3"
  },
  "language_info": {
   "codemirror_mode": {
    "name": "ipython",
    "version": 3
   },
   "file_extension": ".py",
   "mimetype": "text/x-python",
   "name": "python",
   "nbconvert_exporter": "python",
   "pygments_lexer": "ipython3",
   "version": "3.8.3"
  }
 },
 "nbformat": 4,
 "nbformat_minor": 4
}
